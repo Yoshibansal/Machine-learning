{
  "nbformat": 4,
  "nbformat_minor": 0,
  "metadata": {
    "kernelspec": {
      "display_name": "Python 3",
      "language": "python",
      "name": "python3"
    },
    "language_info": {
      "codemirror_mode": {
        "name": "ipython",
        "version": 3
      },
      "file_extension": ".py",
      "mimetype": "text/x-python",
      "name": "python",
      "nbconvert_exporter": "python",
      "pygments_lexer": "ipython3",
      "version": "3.7.3"
    },
    "toc": {
      "base_numbering": 1,
      "nav_menu": {},
      "number_sections": true,
      "sideBar": true,
      "skip_h1_title": false,
      "title_cell": "Table of Contents",
      "title_sidebar": "Contents",
      "toc_cell": false,
      "toc_position": {},
      "toc_section_display": true,
      "toc_window_display": false
    },
    "colab": {
      "name": "task_1_simple.ipynb",
      "provenance": [],
      "collapsed_sections": [],
      "include_colab_link": true
    }
  },
  "cells": [
    {
      "cell_type": "markdown",
      "metadata": {
        "id": "view-in-github",
        "colab_type": "text"
      },
      "source": [
        "<a href=\"https://colab.research.google.com/github/Yoshibansal/Machine-learning/blob/main/Linear%20Regression/task_1_simple.ipynb\" target=\"_parent\"><img src=\"https://colab.research.google.com/assets/colab-badge.svg\" alt=\"Open In Colab\"/></a>"
      ]
    },
    {
      "cell_type": "markdown",
      "metadata": {
        "id": "CcnM3Wio1w8N"
      },
      "source": [
        "### Simple Linear Regression\n",
        "Linear regression is among the simplest regression methods. One of the main advantages of using it is ease of interpreting results. Simple linear regression is special case of regression where target feature is dependent on single variable, and then we find the best fitting line.<br>\n",
        "\n",
        "##### y = m*x + c <br>\n",
        "\n",
        "#### Dataset\n",
        "The dataset is available at __\"data/simple_linear_data.csv\"__ in the respective challenge's repo.<br><br>\n",
        "This is the modified version of the dataset 'Student Performance' provided by UCI Machine Learning repository.<br>\n",
        "Original dataset: https://archive.ics.uci.edu/ml/datasets/student+performance\n",
        "\n",
        "#### Features (X)\n",
        "- G2 - second year math grades (numeric: from 0 to 100)\n",
        "\n",
        "#### Target (y)\n",
        "- G3 - third year math grades (numeric: from 0 to 100, output target)\n",
        "\n",
        "#### Objective\n",
        "To gain understanding of single linear regression through implementing the model from scratch\n",
        "\n",
        "#### Tasks\n",
        "- Read the data from above mentioned dataset and define X and y as numpy array\n",
        "- Add column at position 0 with all values=1 (pandas.DataFrame.insert function)\n",
        "- Print rows from 40 to 55.\n",
        "- Print the shape and datatype of both X and y\n",
        "- Follow code cells to implement simple linear regression from scratch\n",
        "    - Write hypothesis function to predict values\n",
        "    - Write function for calculating mean_squared_error\n",
        "    - Write function to return gradients for given weights\n",
        "    - Perform gradient descent taking help of above functions\n",
        "\n",
        "#### Further Fun (will not be evaluated\n",
        "- Remove outliers, train again and see the difference in error.\n",
        "```python\n",
        "# Add this line before defining X and y\n",
        "data = data[(data['G3']!=0)|((data['G2']==0)&(data['G3']==0))]\n",
        "```\n",
        "- Replace \"*weights = np.random.rand(2)*\" line in gradient descent with below line, train again and visualize results.\n",
        "```python\n",
        "# Replace above line with following in gradient descent function\n",
        "weights = np.zeros(2,)\n",
        "```\n",
        "- Play with learning rate and max_iterations\n",
        "- Generalize the code for multivariate(multiple) linear regression\n",
        "\n",
        "#### Resources\n",
        "- Linear regression maths: https://www.youtube.com/watch?v=ZkjP5RJLQF4\n",
        "- Simple linear regression: https://www.youtube.com/watch?v=iAgYLRy7e20\n",
        "- Tutorial: https://machinelearningmastery.com/implement-simple-linear-regression-scratch-python\n"
      ]
    },
    {
      "cell_type": "markdown",
      "metadata": {
        "id": "m40qW3eS_np2"
      },
      "source": [
        "Yoshi Bansal\n",
        "\n",
        "E19CSE332"
      ]
    },
    {
      "cell_type": "code",
      "metadata": {
        "id": "16TpkrEn1w8T"
      },
      "source": [
        "import numpy as np\n",
        "import matplotlib.pyplot as plt\n",
        "import pandas as pd"
      ],
      "execution_count": null,
      "outputs": []
    },
    {
      "cell_type": "code",
      "metadata": {
        "id": "LhOp5LWX1w8V"
      },
      "source": [
        "# Read the data from provided dir\n",
        "data = pd.read_csv(\"https://raw.githubusercontent.com/Yoshibansal/Machine-learning/main/Linear%20Regression/data/simple_linear_data.csv\")"
      ],
      "execution_count": null,
      "outputs": []
    },
    {
      "cell_type": "code",
      "metadata": {
        "id": "BicKpXhe1w8X"
      },
      "source": [
        "# Add column which has all 1s\n",
        "# The idea is that weight corresponding to this column is equal to intercept\n",
        "# This way it is efficient and easier to handle the bias/intercept term\n",
        "data.insert(0, \"bias\", 1)"
      ],
      "execution_count": null,
      "outputs": []
    },
    {
      "cell_type": "code",
      "metadata": {
        "colab": {
          "base_uri": "https://localhost:8080/",
          "height": 205
        },
        "id": "fZ5YfsQU1w8Y",
        "outputId": "35833c7b-6a86-4d23-91af-a88855bd82b9"
      },
      "source": [
        "# Print the dataframe rows\n",
        "data.head()"
      ],
      "execution_count": null,
      "outputs": [
        {
          "output_type": "execute_result",
          "data": {
            "text/html": [
              "<div>\n",
              "<style scoped>\n",
              "    .dataframe tbody tr th:only-of-type {\n",
              "        vertical-align: middle;\n",
              "    }\n",
              "\n",
              "    .dataframe tbody tr th {\n",
              "        vertical-align: top;\n",
              "    }\n",
              "\n",
              "    .dataframe thead th {\n",
              "        text-align: right;\n",
              "    }\n",
              "</style>\n",
              "<table border=\"1\" class=\"dataframe\">\n",
              "  <thead>\n",
              "    <tr style=\"text-align: right;\">\n",
              "      <th></th>\n",
              "      <th>bias</th>\n",
              "      <th>G2</th>\n",
              "      <th>G3</th>\n",
              "    </tr>\n",
              "  </thead>\n",
              "  <tbody>\n",
              "    <tr>\n",
              "      <th>0</th>\n",
              "      <td>1</td>\n",
              "      <td>30</td>\n",
              "      <td>30</td>\n",
              "    </tr>\n",
              "    <tr>\n",
              "      <th>1</th>\n",
              "      <td>1</td>\n",
              "      <td>25</td>\n",
              "      <td>30</td>\n",
              "    </tr>\n",
              "    <tr>\n",
              "      <th>2</th>\n",
              "      <td>1</td>\n",
              "      <td>40</td>\n",
              "      <td>50</td>\n",
              "    </tr>\n",
              "    <tr>\n",
              "      <th>3</th>\n",
              "      <td>1</td>\n",
              "      <td>70</td>\n",
              "      <td>75</td>\n",
              "    </tr>\n",
              "    <tr>\n",
              "      <th>4</th>\n",
              "      <td>1</td>\n",
              "      <td>50</td>\n",
              "      <td>50</td>\n",
              "    </tr>\n",
              "  </tbody>\n",
              "</table>\n",
              "</div>"
            ],
            "text/plain": [
              "   bias  G2  G3\n",
              "0     1  30  30\n",
              "1     1  25  30\n",
              "2     1  40  50\n",
              "3     1  70  75\n",
              "4     1  50  50"
            ]
          },
          "metadata": {},
          "execution_count": 4
        }
      ]
    },
    {
      "cell_type": "code",
      "metadata": {
        "id": "4WHtULh31w8Z"
      },
      "source": [
        "# Define X (input features) and y (output feature) \n",
        "X = data.iloc[:, :-1]\n",
        "y = data.iloc[:, -1:]"
      ],
      "execution_count": null,
      "outputs": []
    },
    {
      "cell_type": "code",
      "metadata": {
        "id": "5kGq9UdL4jRr"
      },
      "source": [
        "X = X.to_numpy()\n",
        "y = y.to_numpy()"
      ],
      "execution_count": null,
      "outputs": []
    },
    {
      "cell_type": "code",
      "metadata": {
        "colab": {
          "base_uri": "https://localhost:8080/"
        },
        "id": "oVhfQrsB1w8a",
        "outputId": "f15f65b5-8ae7-45b1-b95b-192932aa865f"
      },
      "source": [
        "X_shape = X.shape\n",
        "X_type  = type(X)\n",
        "y_shape = y.shape\n",
        "y_type  = type(y)\n",
        "print(f'X: Type-{X_type}, Shape-{X_shape}')\n",
        "print(f'y: Type-{y_type}, Shape-{y_shape}')"
      ],
      "execution_count": null,
      "outputs": [
        {
          "output_type": "stream",
          "name": "stdout",
          "text": [
            "X: Type-<class 'numpy.ndarray'>, Shape-(395, 2)\n",
            "y: Type-<class 'numpy.ndarray'>, Shape-(395,)\n"
          ]
        }
      ]
    },
    {
      "cell_type": "markdown",
      "metadata": {
        "id": "4Ep6Z8h41w8c"
      },
      "source": [
        "__Expected output__:<br><br>\n",
        "X: Type-<class 'numpy.ndarray'>, Shape-(395,2)<br>\n",
        "y: Type-<class 'numpy.ndarray'>, Shape-(395,)"
      ]
    },
    {
      "cell_type": "markdown",
      "metadata": {
        "id": "zSy0_iV51w8d"
      },
      "source": [
        "Let us visualize the relationship between X and y"
      ]
    },
    {
      "cell_type": "code",
      "metadata": {
        "colab": {
          "base_uri": "https://localhost:8080/",
          "height": 295
        },
        "id": "wIL5cEES1w8f",
        "outputId": "9ea5df9d-6c39-4ca6-d1c5-c2ffb7b9c9a3"
      },
      "source": [
        "# DO NOT EDIT THIS CODE CELL\n",
        "plt.scatter(X[:,1],y)\n",
        "plt.title('Relation between second year grades and third year grades')\n",
        "plt.xlabel('G2 (X - Second year grades)')\n",
        "plt.ylabel('G3 (Y - Third year grades)')\n",
        "plt.show()"
      ],
      "execution_count": null,
      "outputs": [
        {
          "output_type": "display_data",
          "data": {
            "image/png": "[encoded data removed]",
            "text/plain": [
              "<Figure size 432x288 with 1 Axes>"
            ]
          },
          "metadata": {
            "needs_background": "light"
          }
        }
      ]
    },
    {
      "cell_type": "markdown",
      "metadata": {
        "id": "zm5jWe451w8g"
      },
      "source": [
        "##### Let us start implementing linear regression from scratch. Just follow code cells, see hints if required."
      ]
    },
    {
      "cell_type": "code",
      "metadata": {
        "id": "YnT4Lp3d1w8g"
      },
      "source": [
        "def predict(X, weights):\n",
        "    '''\n",
        "    weights   : array (2,1) w0 and w1\n",
        "    X         : array (m,2) x0 (intercept=1) and x1\n",
        "    \n",
        "    Returns predicted y using hyothesis linear function defined by given weights\n",
        "    '''\n",
        "    ### START CODE HERE ###\n",
        "    y_pred = np.dot(X, weights)\n",
        "    ### END CODE HERE ###\n",
        "    \n",
        "    assert (y_pred.shape==(X.shape[0],)), 'Wrong implementation of predict function. Check carefully'\n",
        "    \n",
        "    return y_pred"
      ],
      "execution_count": null,
      "outputs": []
    },
    {
      "cell_type": "code",
      "metadata": {
        "colab": {
          "base_uri": "https://localhost:8080/"
        },
        "id": "nw-ncoJw8r_p",
        "outputId": "a3658a52-61ef-4f98-a459-72f6df64adc5"
      },
      "source": [
        "y[0]"
      ],
      "execution_count": null,
      "outputs": [
        {
          "output_type": "execute_result",
          "data": {
            "text/plain": [
              "30"
            ]
          },
          "metadata": {},
          "execution_count": 40
        }
      ]
    },
    {
      "cell_type": "code",
      "metadata": {
        "id": "BINlJsjA1w8h"
      },
      "source": [
        "def mean_squared_error(y_true, y_pred): \n",
        "    '''\n",
        "    y_true : (m,1)\n",
        "    y_pred : (m,1)\n",
        "    \n",
        "    Return the mean squared error\n",
        "    '''\n",
        "    ### START CODE HERE ###\n",
        "    loss = ((y_pred - y_true)**2).mean()\n",
        "    ### END CODE HERE ###\n",
        "    \n",
        "    return loss"
      ],
      "execution_count": null,
      "outputs": []
    },
    {
      "cell_type": "code",
      "metadata": {
        "id": "p9EnxLV01w8j"
      },
      "source": [
        "def gradient(X, y_true, y_pred):\n",
        "    '''\n",
        "    X      : array (m,2)\n",
        "    y_true : array (m,1)\n",
        "    y_pred : array (m,1)\n",
        "    \n",
        "    Returns a numpy array with gradients. Shape (2,1)\n",
        "    '''\n",
        "    # Initialize the gradient vector for w0 (intercept/bias) and w1 respectively\n",
        "    grad = np.zeros(2,)\n",
        "    \n",
        "    ### START CODE HERE ###\n",
        "    \n",
        "    grad[0] = (y_pred - y_true).mean()\n",
        "    grad[1] = (X.T * (y_pred - y_true)).mean()\n",
        "\n",
        "    ### END CODE HERE ###\n",
        "    \n",
        "    return grad"
      ],
      "execution_count": null,
      "outputs": []
    },
    {
      "cell_type": "code",
      "metadata": {
        "id": "PBz6pExb1w8k"
      },
      "source": [
        "def gradient_descent(X, y, learning_rate=0.0001, max_iterations=100):\n",
        "    '''\n",
        "    X              : Array (m,2)\n",
        "    y              : Array (m,1)\n",
        "    learning_rate  : Learning rate\n",
        "    max_iterations : Maximum iteratons\n",
        "    \n",
        "    Returns : weights vector (2,1)\n",
        "            : losses (List)\n",
        "    '''\n",
        "    # Initialise weights vector of random values of size (2,1)\n",
        "    weights = np.random.rand(2)\n",
        "    # Initialize a list to record all the losses \n",
        "    losses  = []\n",
        "    \n",
        "    ### START CODE HERE ###\n",
        "    for i in range(max_iterations):\n",
        "      \n",
        "      y_pred = predict(X, weights)\n",
        "\n",
        "      loss = mean_squared_error(y, y_pred)\n",
        "      losses.append(loss)\n",
        "\n",
        "      weights -= learning_rate * gradient(X,y,y_pred)\n",
        "\n",
        "    ### END CODE HERE ###\n",
        "    \n",
        "    return weights, losses"
      ],
      "execution_count": null,
      "outputs": []
    },
    {
      "cell_type": "markdown",
      "metadata": {
        "id": "Qh0qLO5g1w8m"
      },
      "source": [
        "##### Congratulations! You have implemented linear regression from scratch. Let's see this in action."
      ]
    },
    {
      "cell_type": "code",
      "metadata": {
        "id": "nD6tZiIA1w8n"
      },
      "source": [
        "# Perform gradient descent\n",
        "optimal_weights, losses = gradient_descent(X, y)"
      ],
      "execution_count": null,
      "outputs": []
    },
    {
      "cell_type": "code",
      "metadata": {
        "colab": {
          "base_uri": "https://localhost:8080/"
        },
        "id": "jQ7luxcb1w8n",
        "outputId": "3a25b396-0516-4b00-daa2-ccc0616569f7"
      },
      "source": [
        "# DO NOT CHANGE THE FOLLOWING CODE CELLS\n",
        "# Print final loss\n",
        "print(\"Mean squared error:\", losses[-1])"
      ],
      "execution_count": null,
      "outputs": [
        {
          "output_type": "stream",
          "name": "stdout",
          "text": [
            "Mean squared error: 100.23018221207506\n"
          ]
        }
      ]
    },
    {
      "cell_type": "code",
      "metadata": {
        "colab": {
          "base_uri": "https://localhost:8080/",
          "height": 295
        },
        "id": "ilZqcK-b1w8o",
        "outputId": "11f5378b-7df2-40bf-c6a9-6039d41e07a2"
      },
      "source": [
        "# Plot the loss curve\n",
        "plt.plot([i for i in range(len(losses))], losses)\n",
        "plt.title(\"Loss curve\")\n",
        "plt.xlabel(\"Iteration num\")\n",
        "plt.ylabel(\"Loss\")\n",
        "plt.show()"
      ],
      "execution_count": null,
      "outputs": [
        {
          "output_type": "display_data",
          "data": {
            "image/png": "[encoded data removed]",
            "text/plain": [
              "<Figure size 432x288 with 1 Axes>"
            ]
          },
          "metadata": {
            "needs_background": "light"
          }
        }
      ]
    },
    {
      "cell_type": "code",
      "metadata": {
        "id": "96tCPkHx1w8p"
      },
      "source": [
        "# Make predictions using trained weights\n",
        "y_pred = predict(X, optimal_weights)"
      ],
      "execution_count": null,
      "outputs": []
    },
    {
      "cell_type": "code",
      "metadata": {
        "colab": {
          "base_uri": "https://localhost:8080/",
          "height": 295
        },
        "id": "4h9xc-EU1w8p",
        "outputId": "5e5b8d4e-0ef0-4a68-9518-4fc2deea24ec"
      },
      "source": [
        "# Visualize the results by plotting it\n",
        "plt.scatter(X[:,1], y, c='r', label='Actual scores')\n",
        "plt.plot(X[:,1], y_pred, c='g', label='Fitted line | predictions')\n",
        "plt.legend()\n",
        "plt.title(\"Linear regression fitted line\")\n",
        "plt.xlabel(\"Second year grades\")\n",
        "plt.ylabel(\"Third year grades\")\n",
        "plt.show()"
      ],
      "execution_count": null,
      "outputs": [
        {
          "output_type": "display_data",
          "data": {
            "image/png": "[encoded data removed]",
            "text/plain": [
              "<Figure size 432x288 with 1 Axes>"
            ]
          },
          "metadata": {
            "needs_background": "light"
          }
        }
      ]
    },
    {
      "cell_type": "code",
      "metadata": {
        "id": "doUl5qFn1w8q"
      },
      "source": [
        ""
      ],
      "execution_count": null,
      "outputs": []
    }
  ]
}