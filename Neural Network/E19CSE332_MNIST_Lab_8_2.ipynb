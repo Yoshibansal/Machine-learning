{
  "nbformat": 4,
  "nbformat_minor": 0,
  "metadata": {
    "colab": {
      "name": "E19CSE332_MNIST_Lab_8.2.ipynb",
      "provenance": [],
      "collapsed_sections": [],
      "authorship_tag": "ABX9TyMjGM2Z3CD55fDNxdC8/2y+",
      "include_colab_link": true
    },
    "kernelspec": {
      "name": "python3",
      "display_name": "Python 3"
    },
    "language_info": {
      "name": "python"
    }
  },
  "cells": [
    {
      "cell_type": "markdown",
      "metadata": {
        "id": "view-in-github",
        "colab_type": "text"
      },
      "source": [
        "<a href=\"https://colab.research.google.com/github/Yoshibansal/Machine-learning/blob/main/Neural%20Network/E19CSE332_MNIST_Lab_8_2.ipynb\" target=\"_parent\"><img src=\"https://colab.research.google.com/assets/colab-badge.svg\" alt=\"Open In Colab\"/></a>"
      ]
    },
    {
      "cell_type": "markdown",
      "metadata": {
        "id": "Gwd9mKlwrep6"
      },
      "source": [
        "Yoshi Bansal\n",
        "\n",
        "E19CSE332"
      ]
    },
    {
      "cell_type": "code",
      "metadata": {
        "colab": {
          "base_uri": "https://localhost:8080/"
        },
        "id": "60VACV1eTln5",
        "outputId": "2f4571a3-964b-4dbf-b7d2-983c343f255a"
      },
      "source": [
        "import tensorflow as tf\n",
        "print(tf.__version__)"
      ],
      "execution_count": null,
      "outputs": [
        {
          "output_type": "stream",
          "name": "stdout",
          "text": [
            "2.6.0\n"
          ]
        }
      ]
    },
    {
      "cell_type": "code",
      "metadata": {
        "id": "Zaa9Dli9W2nH"
      },
      "source": [
        "#instance of dataset\n",
        "mnist = tf.keras.datasets.mnist"
      ],
      "execution_count": null,
      "outputs": []
    },
    {
      "cell_type": "code",
      "metadata": {
        "id": "ZOguZG1gW9H-"
      },
      "source": [
        "#load data\n",
        "(training_images, training_labels), (testing_images, testing_labels) = mnist.load_data()"
      ],
      "execution_count": null,
      "outputs": []
    },
    {
      "cell_type": "code",
      "metadata": {
        "colab": {
          "base_uri": "https://localhost:8080/",
          "height": 281
        },
        "id": "zI3R05jUXJgu",
        "outputId": "215ff3d3-bca8-4c96-e2bb-5a1a88191175"
      },
      "source": [
        "#@title Index\n",
        "index = 0 #@param {type:\"slider\", min:0, max:100, step:1}\n",
        "import matplotlib.pyplot as plt\n",
        "\n",
        "plt.imshow(training_images[index], cmap='gray')\n",
        "plt.title(training_labels[index])\n",
        "plt.show()"
      ],
      "execution_count": null,
      "outputs": [
        {
          "output_type": "display_data",
          "data": {
            "image/png": "[encoded data removed]",
            "text/plain": [
              "<Figure size 432x288 with 1 Axes>"
            ]
          },
          "metadata": {
            "needs_background": "light"
          }
        }
      ]
    },
    {
      "cell_type": "code",
      "metadata": {
        "id": "kwjDK_vaXqmX"
      },
      "source": [
        "#normalize\n",
        "training_images = training_images/255.0\n",
        "testing_images = testing_images/255.0\n",
        "\n",
        "#reshaping data\n",
        "training_images = training_images.reshape(60000, 784)\n",
        "testing_images = testing_images.reshape(10000, 784)"
      ],
      "execution_count": null,
      "outputs": []
    },
    {
      "cell_type": "code",
      "metadata": {
        "id": "QtjmnmNbcAHM"
      },
      "source": [
        "#Common function\n",
        "\n",
        "%matplotlib inline\n",
        "\n",
        "import matplotlib.image as mping\n",
        "import matplotlib.pyplot as plt\n",
        "\n",
        "def plot(history):\n",
        "  acc = history.history['accuracy']\n",
        "  loss = history.history['loss']\n",
        "\n",
        "  epochs = range(len(acc))\n",
        "\n",
        "  #plot training and validation accuracy per epoch\n",
        "  plt.plot(epochs, acc, 'r', label=\"Training accuracy\")\n",
        "  plt.title('Training accuracy')\n",
        "  plt.figure()\n",
        "\n",
        "  #plot training and validation loss per epoch\n",
        "  plt.plot(epochs, loss, 'r', label=\"Training loss\")\n",
        "  plt.title('Training loss')\n",
        "  plt.figure()"
      ],
      "execution_count": null,
      "outputs": []
    },
    {
      "cell_type": "markdown",
      "metadata": {
        "id": "EKarg_Wzbhd8"
      },
      "source": [
        "### PART-1"
      ]
    },
    {
      "cell_type": "code",
      "metadata": {
        "colab": {
          "base_uri": "https://localhost:8080/"
        },
        "id": "bjSd3CSuYJme",
        "outputId": "2ea3916c-f989-4c43-eef3-98acac71d36b"
      },
      "source": [
        "#@title Nodes\n",
        "nodes = 32 #@param [\"4\", \"32\", \"128\", \"512\", \"2056\"] {type:\"raw\"}\n",
        "INPUT_SHAPE = (784,)\n",
        "\n",
        "#model\n",
        "model = tf.keras.Sequential([\n",
        "                             tf.keras.layers.Dense(nodes, activation = tf.nn.relu, input_shape=INPUT_SHAPE),\n",
        "                             tf.keras.layers.Dense(nodes, activation = tf.nn.relu),\n",
        "                             tf.keras.layers.Dense(10, activation = tf.nn.softmax)\n",
        "])\n",
        "\n",
        "model.summary()"
      ],
      "execution_count": null,
      "outputs": [
        {
          "output_type": "stream",
          "name": "stdout",
          "text": [
            "Model: \"sequential_4\"\n",
            "_________________________________________________________________\n",
            "Layer (type)                 Output Shape              Param #   \n",
            "=================================================================\n",
            "dense_12 (Dense)             (None, 2056)              1613960   \n",
            "_________________________________________________________________\n",
            "dense_13 (Dense)             (None, 2056)              4229192   \n",
            "_________________________________________________________________\n",
            "dense_14 (Dense)             (None, 10)                20570     \n",
            "=================================================================\n",
            "Total params: 5,863,722\n",
            "Trainable params: 5,863,722\n",
            "Non-trainable params: 0\n",
            "_________________________________________________________________\n"
          ]
        }
      ]
    },
    {
      "cell_type": "code",
      "metadata": {
        "id": "PEutDuB2Yo9_"
      },
      "source": [
        "model.compile(\n",
        "              optimizer = 'adam', \n",
        "              loss = 'sparse_categorical_crossentropy',\n",
        "              metrics = ['accuracy']\n",
        "    )"
      ],
      "execution_count": null,
      "outputs": []
    },
    {
      "cell_type": "code",
      "metadata": {
        "colab": {
          "base_uri": "https://localhost:8080/"
        },
        "id": "8CaAsUjfYwc1",
        "outputId": "062fe046-ab7a-4d46-9ddf-7445cd17bbf2"
      },
      "source": [
        "EPOCHS = 10\n",
        "\n",
        "history = model.fit(\n",
        "    training_images, \n",
        "    training_labels, \n",
        "    epochs=EPOCHS)"
      ],
      "execution_count": null,
      "outputs": [
        {
          "output_type": "stream",
          "name": "stdout",
          "text": [
            "Epoch 1/10\n",
            "1875/1875 [==============================] - 91s 48ms/step - loss: 0.1850 - accuracy: 0.9442\n",
            "Epoch 2/10\n",
            "1875/1875 [==============================] - 89s 48ms/step - loss: 0.0855 - accuracy: 0.9745\n",
            "Epoch 3/10\n",
            "1875/1875 [==============================] - 89s 47ms/step - loss: 0.0623 - accuracy: 0.9809\n",
            "Epoch 4/10\n",
            "1875/1875 [==============================] - 88s 47ms/step - loss: 0.0527 - accuracy: 0.9842\n",
            "Epoch 5/10\n",
            "1875/1875 [==============================] - 89s 47ms/step - loss: 0.0422 - accuracy: 0.9877\n",
            "Epoch 6/10\n",
            "1875/1875 [==============================] - 90s 48ms/step - loss: 0.0351 - accuracy: 0.9899\n",
            "Epoch 7/10\n",
            "1875/1875 [==============================] - 89s 48ms/step - loss: 0.0324 - accuracy: 0.9906\n",
            "Epoch 8/10\n",
            "1875/1875 [==============================] - 89s 48ms/step - loss: 0.0301 - accuracy: 0.9916\n",
            "Epoch 9/10\n",
            "1875/1875 [==============================] - 89s 48ms/step - loss: 0.0272 - accuracy: 0.9926\n",
            "Epoch 10/10\n",
            "1875/1875 [==============================] - 89s 48ms/step - loss: 0.0238 - accuracy: 0.9942\n"
          ]
        }
      ]
    },
    {
      "cell_type": "code",
      "metadata": {
        "colab": {
          "base_uri": "https://localhost:8080/"
        },
        "id": "jfjusWEjbeMj",
        "outputId": "4bd90355-b4a1-47cb-dd19-a849a62daa8c"
      },
      "source": [
        "#evaluating the model on test data\n",
        "\n",
        "test_loss, test_acc = model.evaluate(testing_images, testing_labels)\n",
        "\n",
        "#printing the loss and accuracy of trained model on test dataset\n",
        "print(\"loss on test data: \", test_loss)\n",
        "print('accuracy on test data: ', test_acc)"
      ],
      "execution_count": null,
      "outputs": [
        {
          "output_type": "stream",
          "name": "stdout",
          "text": [
            "313/313 [==============================] - 4s 12ms/step - loss: 0.1059 - accuracy: 0.9813\n",
            "loss on test data:  0.105887770652771\n",
            "accuracy on test data:  0.9812999963760376\n"
          ]
        }
      ]
    },
    {
      "cell_type": "code",
      "metadata": {
        "colab": {
          "base_uri": "https://localhost:8080/",
          "height": 562
        },
        "id": "RYVJAEr1b3jk",
        "outputId": "776fce47-2b80-49dc-c29c-ad690f5a08ab"
      },
      "source": [
        "plot(history)"
      ],
      "execution_count": null,
      "outputs": [
        {
          "output_type": "display_data",
          "data": {
            "image/png": "[encoded data removed]",
            "text/plain": [
              "<Figure size 432x288 with 1 Axes>"
            ]
          },
          "metadata": {
            "needs_background": "light"
          }
        },
        {
          "output_type": "display_data",
          "data": {
            "image/png": "[encoded data removed]",
            "text/plain": [
              "<Figure size 432x288 with 1 Axes>"
            ]
          },
          "metadata": {
            "needs_background": "light"
          }
        },
        {
          "output_type": "display_data",
          "data": {
            "text/plain": [
              "<Figure size 432x288 with 0 Axes>"
            ]
          },
          "metadata": {}
        }
      ]
    },
    {
      "cell_type": "markdown",
      "metadata": {
        "id": "U-zWhi4idGy7"
      },
      "source": [
        "RESULTS for PART-1\n",
        "\n",
        "Training accuracy\n",
        "#### 4\n",
        "    Epoch 10/10\n",
        "    1875/1875 [==============================] - 3s 1ms/step - loss: 0.6516 - accuracy: 0.7969\n",
        "\n",
        "#### 32\n",
        "    Epoch 10/10\n",
        "    1875/1875 [==============================] - 3s 2ms/step - loss: 0.0579 - accuracy: 0.9816\n",
        "\n",
        "#### 128\n",
        "    Epoch 10/10\n",
        "    1875/1875 [==============================] - 4s 2ms/step - loss: 0.0193 - accuracy: 0.9939\n",
        "\n",
        "#### 512\n",
        "    Epoch 10/10\n",
        "    1875/1875 [==============================] - 13s 7ms/step - loss: 0.0175 - accuracy: 0.9942\n",
        "\n",
        "#### 2056\n",
        "    Epoch 10/10\n",
        "    1875/1875 [==============================] - 89s 48ms/step - loss: 0.0238 - accuracy: 0.9942\n",
        "\n",
        "\n",
        "## 128 IS BEST\n"
      ]
    },
    {
      "cell_type": "markdown",
      "metadata": {
        "id": "SNTPy-g5cdr0"
      },
      "source": [
        "### PART-2"
      ]
    },
    {
      "cell_type": "code",
      "metadata": {
        "id": "nfhn3ybeheLS"
      },
      "source": [
        "#@title Epochs\n",
        "\n",
        "#common process\n",
        "def train(model):\n",
        "  EPOCHS = 10 #@param [\"10\", \"30\"] {type:\"raw\"}\n",
        "  batch_size = 128\n",
        "\n",
        "  #compile\n",
        "  model.compile(\n",
        "                optimizer = 'adam', \n",
        "                loss = 'sparse_categorical_crossentropy',\n",
        "                metrics = ['accuracy']\n",
        "      )\n",
        "\n",
        "\n",
        "\n",
        "  #fit\n",
        "  history = model.fit(\n",
        "      training_images,\n",
        "      training_labels,\n",
        "      batch_size=batch_size, \n",
        "      epochs=EPOCHS,\n",
        "      verbose=2)\n",
        "\n",
        "\n",
        "\n",
        "  #evaluating the model on test data\n",
        "  test_loss, test_acc = model.evaluate(testing_images, testing_labels)\n",
        "\n",
        "  #printing the loss and accuracy of trained model on test dataset\n",
        "  print(\"loss on test data: \", test_loss)\n",
        "  print('accuracy on test data: ', test_acc)\n",
        "\n",
        "  prediction = model.predict(testing_images[10:11])\n",
        "  prediction = prediction[0]\n",
        "  print('Prediction\\n',prediction)\n",
        "  print('\\nThresholded output\\n',(prediction>0.5)*1)\n",
        "  print(\"True Value\\n\", testing_labels[10])\n",
        "\n",
        "  plot(history)"
      ],
      "execution_count": null,
      "outputs": []
    },
    {
      "cell_type": "markdown",
      "metadata": {
        "id": "34dET7YJgOFz"
      },
      "source": [
        "Number of Hidden layers -> **3**"
      ]
    },
    {
      "cell_type": "code",
      "metadata": {
        "colab": {
          "base_uri": "https://localhost:8080/"
        },
        "id": "9N9eNxNCcfbs",
        "outputId": "8abcfdda-5d7a-46b4-81b1-a961b2778c94"
      },
      "source": [
        "INPUT_SHAPE = (784,)\n",
        "\n",
        "#model\n",
        "model = tf.keras.Sequential([\n",
        "                             tf.keras.layers.Dense(32, activation = tf.nn.relu, input_shape=INPUT_SHAPE),\n",
        "                             tf.keras.layers.Dense(32, activation = tf.nn.relu),\n",
        "                             tf.keras.layers.Dense(32, activation = tf.nn.relu),\n",
        "                             tf.keras.layers.Dense(32, activation = tf.nn.relu),\n",
        "                             tf.keras.layers.Dense(10, activation = tf.nn.softmax)\n",
        "])\n",
        "\n",
        "model.summary()"
      ],
      "execution_count": null,
      "outputs": [
        {
          "output_type": "stream",
          "name": "stdout",
          "text": [
            "Model: \"sequential_11\"\n",
            "_________________________________________________________________\n",
            "Layer (type)                 Output Shape              Param #   \n",
            "=================================================================\n",
            "dense_64 (Dense)             (None, 32)                25120     \n",
            "_________________________________________________________________\n",
            "dense_65 (Dense)             (None, 32)                1056      \n",
            "_________________________________________________________________\n",
            "dense_66 (Dense)             (None, 32)                1056      \n",
            "_________________________________________________________________\n",
            "dense_67 (Dense)             (None, 32)                1056      \n",
            "_________________________________________________________________\n",
            "dense_68 (Dense)             (None, 10)                330       \n",
            "=================================================================\n",
            "Total params: 28,618\n",
            "Trainable params: 28,618\n",
            "Non-trainable params: 0\n",
            "_________________________________________________________________\n"
          ]
        }
      ]
    },
    {
      "cell_type": "code",
      "metadata": {
        "colab": {
          "base_uri": "https://localhost:8080/",
          "height": 1000
        },
        "id": "SmDDJo4gjTG6",
        "outputId": "8c46a746-2567-4530-bdb3-f80bb7c84c75"
      },
      "source": [
        "train(model)"
      ],
      "execution_count": null,
      "outputs": [
        {
          "output_type": "stream",
          "name": "stdout",
          "text": [
            "Epoch 1/10\n",
            "469/469 - 1s - loss: 0.5081 - accuracy: 0.8447\n",
            "Epoch 2/10\n",
            "469/469 - 1s - loss: 0.2018 - accuracy: 0.9393\n",
            "Epoch 3/10\n",
            "469/469 - 1s - loss: 0.1563 - accuracy: 0.9534\n",
            "Epoch 4/10\n",
            "469/469 - 1s - loss: 0.1333 - accuracy: 0.9592\n",
            "Epoch 5/10\n",
            "469/469 - 1s - loss: 0.1165 - accuracy: 0.9645\n",
            "Epoch 6/10\n",
            "469/469 - 1s - loss: 0.1053 - accuracy: 0.9677\n",
            "Epoch 7/10\n",
            "469/469 - 1s - loss: 0.0944 - accuracy: 0.9705\n",
            "Epoch 8/10\n",
            "469/469 - 1s - loss: 0.0884 - accuracy: 0.9731\n",
            "Epoch 9/10\n",
            "469/469 - 1s - loss: 0.0784 - accuracy: 0.9766\n",
            "Epoch 10/10\n",
            "469/469 - 1s - loss: 0.0751 - accuracy: 0.9763\n",
            "313/313 [==============================] - 0s 1ms/step - loss: 0.1114 - accuracy: 0.9671\n",
            "loss on test data:  0.11142329126596451\n",
            "accuracy on test data:  0.9671000242233276\n",
            "WARNING:tensorflow:5 out of the last 5 calls to <function Model.make_predict_function.<locals>.predict_function at 0x7f4deca66440> triggered tf.function retracing. Tracing is expensive and the excessive number of tracings could be due to (1) creating @tf.function repeatedly in a loop, (2) passing tensors with different shapes, (3) passing Python objects instead of tensors. For (1), please define your @tf.function outside of the loop. For (2), @tf.function has experimental_relax_shapes=True option that relaxes argument shapes that can avoid unnecessary retracing. For (3), please refer to https://www.tensorflow.org/guide/function#controlling_retracing and https://www.tensorflow.org/api_docs/python/tf/function for  more details.\n",
            "Prediction\n",
            " [9.9983084e-01 5.4412180e-07 6.5965141e-05 9.1806163e-07 6.1608798e-06\n",
            " 6.5499125e-07 7.4388663e-07 1.3834324e-09 6.2380306e-05 3.1680829e-05]\n",
            "\n",
            "Thresholded output\n",
            " [1 0 0 0 0 0 0 0 0 0]\n",
            "True Value\n",
            " 0\n"
          ]
        },
        {
          "output_type": "display_data",
          "data": {
            "image/png": "[encoded data removed]",
            "text/plain": [
              "<Figure size 432x288 with 1 Axes>"
            ]
          },
          "metadata": {
            "needs_background": "light"
          }
        },
        {
          "output_type": "display_data",
          "data": {
            "image/png": "[encoded data removed]",
            "text/plain": [
              "<Figure size 432x288 with 1 Axes>"
            ]
          },
          "metadata": {
            "needs_background": "light"
          }
        },
        {
          "output_type": "display_data",
          "data": {
            "text/plain": [
              "<Figure size 432x288 with 0 Axes>"
            ]
          },
          "metadata": {}
        }
      ]
    },
    {
      "cell_type": "markdown",
      "metadata": {
        "id": "JgEFmWG-gike"
      },
      "source": [
        "Number of Hidden layers -> **4**"
      ]
    },
    {
      "cell_type": "code",
      "metadata": {
        "colab": {
          "base_uri": "https://localhost:8080/",
          "height": 1000
        },
        "id": "iGH9s5tSgikf",
        "outputId": "d9302c19-2fc5-4cea-9149-33ca6cc39b4c"
      },
      "source": [
        "INPUT_SHAPE = (784,)\n",
        "\n",
        "#model\n",
        "model = tf.keras.Sequential([\n",
        "                             tf.keras.layers.Dense(32, activation = tf.nn.relu, input_shape=INPUT_SHAPE),\n",
        "                             tf.keras.layers.Dense(32, activation = tf.nn.relu),\n",
        "                             tf.keras.layers.Dense(32, activation = tf.nn.relu),\n",
        "                             tf.keras.layers.Dense(32, activation = tf.nn.relu),\n",
        "                             tf.keras.layers.Dense(32, activation = tf.nn.relu),\n",
        "                             tf.keras.layers.Dense(10, activation = tf.nn.softmax)\n",
        "])\n",
        "\n",
        "model.summary()\n",
        "\n",
        "train(model)"
      ],
      "execution_count": null,
      "outputs": [
        {
          "output_type": "stream",
          "name": "stdout",
          "text": [
            "Model: \"sequential_12\"\n",
            "_________________________________________________________________\n",
            "Layer (type)                 Output Shape              Param #   \n",
            "=================================================================\n",
            "dense_69 (Dense)             (None, 32)                25120     \n",
            "_________________________________________________________________\n",
            "dense_70 (Dense)             (None, 32)                1056      \n",
            "_________________________________________________________________\n",
            "dense_71 (Dense)             (None, 32)                1056      \n",
            "_________________________________________________________________\n",
            "dense_72 (Dense)             (None, 32)                1056      \n",
            "_________________________________________________________________\n",
            "dense_73 (Dense)             (None, 32)                1056      \n",
            "_________________________________________________________________\n",
            "dense_74 (Dense)             (None, 10)                330       \n",
            "=================================================================\n",
            "Total params: 29,674\n",
            "Trainable params: 29,674\n",
            "Non-trainable params: 0\n",
            "_________________________________________________________________\n",
            "Epoch 1/10\n",
            "469/469 - 2s - loss: 0.5405 - accuracy: 0.8320\n",
            "Epoch 2/10\n",
            "469/469 - 1s - loss: 0.2103 - accuracy: 0.9394\n",
            "Epoch 3/10\n",
            "469/469 - 1s - loss: 0.1687 - accuracy: 0.9498\n",
            "Epoch 4/10\n",
            "469/469 - 1s - loss: 0.1420 - accuracy: 0.9573\n",
            "Epoch 5/10\n",
            "469/469 - 1s - loss: 0.1264 - accuracy: 0.9622\n",
            "Epoch 6/10\n",
            "469/469 - 1s - loss: 0.1136 - accuracy: 0.9653\n",
            "Epoch 7/10\n",
            "469/469 - 1s - loss: 0.1041 - accuracy: 0.9688\n",
            "Epoch 8/10\n",
            "469/469 - 1s - loss: 0.0950 - accuracy: 0.9718\n",
            "Epoch 9/10\n",
            "469/469 - 1s - loss: 0.0882 - accuracy: 0.9735\n",
            "Epoch 10/10\n",
            "469/469 - 1s - loss: 0.0811 - accuracy: 0.9758\n",
            "313/313 [==============================] - 0s 1ms/step - loss: 0.1245 - accuracy: 0.9635\n",
            "loss on test data:  0.12445684522390366\n",
            "accuracy on test data:  0.9635000228881836\n",
            "WARNING:tensorflow:6 out of the last 6 calls to <function Model.make_predict_function.<locals>.predict_function at 0x7f4de2ff0e60> triggered tf.function retracing. Tracing is expensive and the excessive number of tracings could be due to (1) creating @tf.function repeatedly in a loop, (2) passing tensors with different shapes, (3) passing Python objects instead of tensors. For (1), please define your @tf.function outside of the loop. For (2), @tf.function has experimental_relax_shapes=True option that relaxes argument shapes that can avoid unnecessary retracing. For (3), please refer to https://www.tensorflow.org/guide/function#controlling_retracing and https://www.tensorflow.org/api_docs/python/tf/function for  more details.\n",
            "Prediction\n",
            " [9.9988234e-01 1.7844717e-09 1.6089198e-05 4.3586198e-07 1.5219333e-06\n",
            " 6.8454779e-06 1.7340139e-05 2.8206212e-08 1.7186156e-05 5.8284528e-05]\n",
            "\n",
            "Thresholded output\n",
            " [1 0 0 0 0 0 0 0 0 0]\n",
            "True Value\n",
            " 0\n"
          ]
        },
        {
          "output_type": "display_data",
          "data": {
            "image/png": "[encoded data removed]",
            "text/plain": [
              "<Figure size 432x288 with 1 Axes>"
            ]
          },
          "metadata": {
            "needs_background": "light"
          }
        },
        {
          "output_type": "display_data",
          "data": {
            "image/png": "[encoded data removed]",
            "text/plain": [
              "<Figure size 432x288 with 1 Axes>"
            ]
          },
          "metadata": {
            "needs_background": "light"
          }
        },
        {
          "output_type": "display_data",
          "data": {
            "text/plain": [
              "<Figure size 432x288 with 0 Axes>"
            ]
          },
          "metadata": {}
        }
      ]
    },
    {
      "cell_type": "markdown",
      "metadata": {
        "id": "AHlz561bgi4T"
      },
      "source": [
        "Number of Hidden layers -> **8**"
      ]
    },
    {
      "cell_type": "code",
      "metadata": {
        "colab": {
          "base_uri": "https://localhost:8080/",
          "height": 1000
        },
        "id": "-oglGC4rgi4U",
        "outputId": "7237133d-36cb-44b5-e14f-6295841e5dc9"
      },
      "source": [
        "INPUT_SHAPE = (784,)\n",
        "\n",
        "#model\n",
        "model = tf.keras.Sequential([\n",
        "                             tf.keras.layers.Dense(32, activation = tf.nn.relu, input_shape=INPUT_SHAPE),\n",
        "                             tf.keras.layers.Dense(32, activation = tf.nn.relu),\n",
        "                             tf.keras.layers.Dense(32, activation = tf.nn.relu),\n",
        "                             tf.keras.layers.Dense(32, activation = tf.nn.relu),\n",
        "                             tf.keras.layers.Dense(32, activation = tf.nn.relu),\n",
        "                             tf.keras.layers.Dense(32, activation = tf.nn.relu),\n",
        "                             tf.keras.layers.Dense(32, activation = tf.nn.relu),\n",
        "                             tf.keras.layers.Dense(32, activation = tf.nn.relu),\n",
        "                             tf.keras.layers.Dense(32, activation = tf.nn.relu),\n",
        "                             tf.keras.layers.Dense(10, activation = tf.nn.softmax)\n",
        "])\n",
        "\n",
        "model.summary()\n",
        "\n",
        "train(model)"
      ],
      "execution_count": null,
      "outputs": [
        {
          "output_type": "stream",
          "name": "stdout",
          "text": [
            "Model: \"sequential_13\"\n",
            "_________________________________________________________________\n",
            "Layer (type)                 Output Shape              Param #   \n",
            "=================================================================\n",
            "dense_75 (Dense)             (None, 32)                25120     \n",
            "_________________________________________________________________\n",
            "dense_76 (Dense)             (None, 32)                1056      \n",
            "_________________________________________________________________\n",
            "dense_77 (Dense)             (None, 32)                1056      \n",
            "_________________________________________________________________\n",
            "dense_78 (Dense)             (None, 32)                1056      \n",
            "_________________________________________________________________\n",
            "dense_79 (Dense)             (None, 32)                1056      \n",
            "_________________________________________________________________\n",
            "dense_80 (Dense)             (None, 32)                1056      \n",
            "_________________________________________________________________\n",
            "dense_81 (Dense)             (None, 32)                1056      \n",
            "_________________________________________________________________\n",
            "dense_82 (Dense)             (None, 32)                1056      \n",
            "_________________________________________________________________\n",
            "dense_83 (Dense)             (None, 32)                1056      \n",
            "_________________________________________________________________\n",
            "dense_84 (Dense)             (None, 10)                330       \n",
            "=================================================================\n",
            "Total params: 33,898\n",
            "Trainable params: 33,898\n",
            "Non-trainable params: 0\n",
            "_________________________________________________________________\n",
            "Epoch 1/10\n",
            "469/469 - 2s - loss: 0.7253 - accuracy: 0.7653\n",
            "Epoch 2/10\n",
            "469/469 - 1s - loss: 0.2560 - accuracy: 0.9294\n",
            "Epoch 3/10\n",
            "469/469 - 1s - loss: 0.1888 - accuracy: 0.9466\n",
            "Epoch 4/10\n",
            "469/469 - 1s - loss: 0.1544 - accuracy: 0.9556\n",
            "Epoch 5/10\n",
            "469/469 - 1s - loss: 0.1336 - accuracy: 0.9612\n",
            "Epoch 6/10\n",
            "469/469 - 1s - loss: 0.1215 - accuracy: 0.9648\n",
            "Epoch 7/10\n",
            "469/469 - 1s - loss: 0.1118 - accuracy: 0.9666\n",
            "Epoch 8/10\n",
            "469/469 - 1s - loss: 0.1030 - accuracy: 0.9699\n",
            "Epoch 9/10\n",
            "469/469 - 1s - loss: 0.0950 - accuracy: 0.9719\n",
            "Epoch 10/10\n",
            "469/469 - 1s - loss: 0.0899 - accuracy: 0.9733\n",
            "313/313 [==============================] - 1s 1ms/step - loss: 0.1357 - accuracy: 0.9632\n",
            "loss on test data:  0.13569462299346924\n",
            "accuracy on test data:  0.9631999731063843\n",
            "Prediction\n",
            " [9.9981254e-01 1.3356427e-08 1.2974743e-07 5.5067213e-09 1.8730649e-06\n",
            " 2.4790226e-05 1.2006654e-04 2.6708935e-07 3.7853537e-05 2.5719128e-06]\n",
            "\n",
            "Thresholded output\n",
            " [1 0 0 0 0 0 0 0 0 0]\n",
            "True Value\n",
            " 0\n"
          ]
        },
        {
          "output_type": "display_data",
          "data": {
            "image/png": "[encoded data removed]",
            "text/plain": [
              "<Figure size 432x288 with 1 Axes>"
            ]
          },
          "metadata": {
            "needs_background": "light"
          }
        },
        {
          "output_type": "display_data",
          "data": {
            "image/png": "[encoded data removed]",
            "text/plain": [
              "<Figure size 432x288 with 1 Axes>"
            ]
          },
          "metadata": {
            "needs_background": "light"
          }
        },
        {
          "output_type": "display_data",
          "data": {
            "text/plain": [
              "<Figure size 432x288 with 0 Axes>"
            ]
          },
          "metadata": {}
        }
      ]
    },
    {
      "cell_type": "markdown",
      "metadata": {
        "id": "YhhKuYAJgjJy"
      },
      "source": [
        "Number of Hidden layers -> **16**"
      ]
    },
    {
      "cell_type": "code",
      "metadata": {
        "colab": {
          "base_uri": "https://localhost:8080/",
          "height": 1000
        },
        "id": "JrEHHT-qgjJy",
        "outputId": "ecde314f-dd55-4803-f989-638c05446833"
      },
      "source": [
        "INPUT_SHAPE = (784,)\n",
        "\n",
        "#model\n",
        "model = tf.keras.Sequential([\n",
        "                             tf.keras.layers.Dense(32, activation = tf.nn.relu, input_shape=INPUT_SHAPE),\n",
        "                             tf.keras.layers.Dense(32, activation = tf.nn.relu),\n",
        "                             tf.keras.layers.Dense(32, activation = tf.nn.relu),\n",
        "                             tf.keras.layers.Dense(32, activation = tf.nn.relu),\n",
        "                             tf.keras.layers.Dense(32, activation = tf.nn.relu),\n",
        "                             tf.keras.layers.Dense(32, activation = tf.nn.relu),\n",
        "                             tf.keras.layers.Dense(32, activation = tf.nn.relu),\n",
        "                             tf.keras.layers.Dense(32, activation = tf.nn.relu),\n",
        "                             tf.keras.layers.Dense(32, activation = tf.nn.relu),\n",
        "                             tf.keras.layers.Dense(32, activation = tf.nn.relu),\n",
        "                             tf.keras.layers.Dense(32, activation = tf.nn.relu),\n",
        "                             tf.keras.layers.Dense(32, activation = tf.nn.relu),\n",
        "                             tf.keras.layers.Dense(32, activation = tf.nn.relu),\n",
        "                             tf.keras.layers.Dense(32, activation = tf.nn.relu),\n",
        "                             tf.keras.layers.Dense(32, activation = tf.nn.relu),\n",
        "                             tf.keras.layers.Dense(32, activation = tf.nn.relu),\n",
        "                             tf.keras.layers.Dense(32, activation = tf.nn.relu),\n",
        "                             tf.keras.layers.Dense(10, activation = tf.nn.softmax)\n",
        "])\n",
        "\n",
        "model.summary()\n",
        "\n",
        "train(model)"
      ],
      "execution_count": null,
      "outputs": [
        {
          "output_type": "stream",
          "name": "stdout",
          "text": [
            "Model: \"sequential_14\"\n",
            "_________________________________________________________________\n",
            "Layer (type)                 Output Shape              Param #   \n",
            "=================================================================\n",
            "dense_85 (Dense)             (None, 32)                25120     \n",
            "_________________________________________________________________\n",
            "dense_86 (Dense)             (None, 32)                1056      \n",
            "_________________________________________________________________\n",
            "dense_87 (Dense)             (None, 32)                1056      \n",
            "_________________________________________________________________\n",
            "dense_88 (Dense)             (None, 32)                1056      \n",
            "_________________________________________________________________\n",
            "dense_89 (Dense)             (None, 32)                1056      \n",
            "_________________________________________________________________\n",
            "dense_90 (Dense)             (None, 32)                1056      \n",
            "_________________________________________________________________\n",
            "dense_91 (Dense)             (None, 32)                1056      \n",
            "_________________________________________________________________\n",
            "dense_92 (Dense)             (None, 32)                1056      \n",
            "_________________________________________________________________\n",
            "dense_93 (Dense)             (None, 32)                1056      \n",
            "_________________________________________________________________\n",
            "dense_94 (Dense)             (None, 32)                1056      \n",
            "_________________________________________________________________\n",
            "dense_95 (Dense)             (None, 32)                1056      \n",
            "_________________________________________________________________\n",
            "dense_96 (Dense)             (None, 32)                1056      \n",
            "_________________________________________________________________\n",
            "dense_97 (Dense)             (None, 32)                1056      \n",
            "_________________________________________________________________\n",
            "dense_98 (Dense)             (None, 32)                1056      \n",
            "_________________________________________________________________\n",
            "dense_99 (Dense)             (None, 32)                1056      \n",
            "_________________________________________________________________\n",
            "dense_100 (Dense)            (None, 32)                1056      \n",
            "_________________________________________________________________\n",
            "dense_101 (Dense)            (None, 32)                1056      \n",
            "_________________________________________________________________\n",
            "dense_102 (Dense)            (None, 10)                330       \n",
            "=================================================================\n",
            "Total params: 42,346\n",
            "Trainable params: 42,346\n",
            "Non-trainable params: 0\n",
            "_________________________________________________________________\n",
            "Epoch 1/10\n",
            "469/469 - 3s - loss: 1.1336 - accuracy: 0.5899\n",
            "Epoch 2/10\n",
            "469/469 - 2s - loss: 0.4307 - accuracy: 0.8755\n",
            "Epoch 3/10\n",
            "469/469 - 2s - loss: 0.2863 - accuracy: 0.9216\n",
            "Epoch 4/10\n",
            "469/469 - 2s - loss: 0.2321 - accuracy: 0.9359\n",
            "Epoch 5/10\n",
            "469/469 - 2s - loss: 0.2008 - accuracy: 0.9455\n",
            "Epoch 6/10\n",
            "469/469 - 2s - loss: 0.1769 - accuracy: 0.9520\n",
            "Epoch 7/10\n",
            "469/469 - 2s - loss: 0.1635 - accuracy: 0.9546\n",
            "Epoch 8/10\n",
            "469/469 - 2s - loss: 0.1440 - accuracy: 0.9606\n",
            "Epoch 9/10\n",
            "469/469 - 2s - loss: 0.1312 - accuracy: 0.9636\n",
            "Epoch 10/10\n",
            "469/469 - 2s - loss: 0.1210 - accuracy: 0.9659\n",
            "313/313 [==============================] - 1s 1ms/step - loss: 0.1613 - accuracy: 0.9539\n",
            "loss on test data:  0.16133025288581848\n",
            "accuracy on test data:  0.9538999795913696\n",
            "Prediction\n",
            " [9.8749781e-01 4.5458761e-05 4.7313422e-03 1.8365266e-05 4.1730738e-05\n",
            " 7.2909059e-04 7.4413168e-04 1.0340609e-06 6.1531044e-03 3.8058686e-05]\n",
            "\n",
            "Thresholded output\n",
            " [1 0 0 0 0 0 0 0 0 0]\n",
            "True Value\n",
            " 0\n"
          ]
        },
        {
          "output_type": "display_data",
          "data": {
            "image/png": "[encoded data removed]",
            "text/plain": [
              "<Figure size 432x288 with 1 Axes>"
            ]
          },
          "metadata": {
            "needs_background": "light"
          }
        },
        {
          "output_type": "display_data",
          "data": {
            "image/png": "[encoded data removed]",
            "text/plain": [
              "<Figure size 432x288 with 1 Axes>"
            ]
          },
          "metadata": {
            "needs_background": "light"
          }
        },
        {
          "output_type": "display_data",
          "data": {
            "text/plain": [
              "<Figure size 432x288 with 0 Axes>"
            ]
          },
          "metadata": {}
        }
      ]
    },
    {
      "cell_type": "code",
      "metadata": {
        "id": "lCNhwQ5wkF1h"
      },
      "source": [
        ""
      ],
      "execution_count": null,
      "outputs": []
    },
    {
      "cell_type": "markdown",
      "metadata": {
        "id": "YykKhE27krDR"
      },
      "source": [
        "### PART-3"
      ]
    },
    {
      "cell_type": "markdown",
      "metadata": {
        "id": "t2a_LKFdlFc5"
      },
      "source": [
        "Topology-1"
      ]
    },
    {
      "cell_type": "code",
      "metadata": {
        "colab": {
          "base_uri": "https://localhost:8080/",
          "height": 1000
        },
        "id": "cWYQ2-26kqwh",
        "outputId": "335a546f-761d-4fb7-9ecd-1e3243805729"
      },
      "source": [
        "INPUT_SHAPE = (784,)\n",
        "\n",
        "#model\n",
        "model = tf.keras.Sequential([\n",
        "                             tf.keras.layers.Dense(784, activation = tf.nn.relu, input_shape=INPUT_SHAPE),\n",
        "                             tf.keras.layers.Dense(512, activation = tf.nn.relu),\n",
        "                             tf.keras.layers.Dense(256, activation = tf.nn.relu),\n",
        "                             tf.keras.layers.Dense(128, activation = tf.nn.relu),\n",
        "                             tf.keras.layers.Dense(64, activation = tf.nn.relu),\n",
        "                             tf.keras.layers.Dense(10, activation = tf.nn.softmax)\n",
        "])\n",
        "\n",
        "model.summary()\n",
        "\n",
        "train(model)"
      ],
      "execution_count": null,
      "outputs": [
        {
          "output_type": "stream",
          "name": "stdout",
          "text": [
            "Model: \"sequential_15\"\n",
            "_________________________________________________________________\n",
            "Layer (type)                 Output Shape              Param #   \n",
            "=================================================================\n",
            "dense_103 (Dense)            (None, 784)               615440    \n",
            "_________________________________________________________________\n",
            "dense_104 (Dense)            (None, 512)               401920    \n",
            "_________________________________________________________________\n",
            "dense_105 (Dense)            (None, 256)               131328    \n",
            "_________________________________________________________________\n",
            "dense_106 (Dense)            (None, 128)               32896     \n",
            "_________________________________________________________________\n",
            "dense_107 (Dense)            (None, 64)                8256      \n",
            "_________________________________________________________________\n",
            "dense_108 (Dense)            (None, 10)                650       \n",
            "=================================================================\n",
            "Total params: 1,190,490\n",
            "Trainable params: 1,190,490\n",
            "Non-trainable params: 0\n",
            "_________________________________________________________________\n",
            "Epoch 1/10\n",
            "469/469 - 10s - loss: 0.2341 - accuracy: 0.9285\n",
            "Epoch 2/10\n",
            "469/469 - 10s - loss: 0.0870 - accuracy: 0.9732\n",
            "Epoch 3/10\n",
            "469/469 - 10s - loss: 0.0624 - accuracy: 0.9807\n",
            "Epoch 4/10\n",
            "469/469 - 9s - loss: 0.0469 - accuracy: 0.9854\n",
            "Epoch 5/10\n",
            "469/469 - 10s - loss: 0.0404 - accuracy: 0.9876\n",
            "Epoch 6/10\n",
            "469/469 - 10s - loss: 0.0346 - accuracy: 0.9894\n",
            "Epoch 7/10\n",
            "469/469 - 10s - loss: 0.0290 - accuracy: 0.9911\n",
            "Epoch 8/10\n",
            "469/469 - 10s - loss: 0.0223 - accuracy: 0.9932\n",
            "Epoch 9/10\n",
            "469/469 - 10s - loss: 0.0249 - accuracy: 0.9925\n",
            "Epoch 10/10\n",
            "469/469 - 10s - loss: 0.0210 - accuracy: 0.9933\n",
            "313/313 [==============================] - 1s 4ms/step - loss: 0.0801 - accuracy: 0.9815\n",
            "loss on test data:  0.08007104694843292\n",
            "accuracy on test data:  0.9815000295639038\n",
            "Prediction\n",
            " [1.0000000e+00 4.3545506e-16 6.8807768e-12 9.5814876e-14 1.0817359e-12\n",
            " 3.1542484e-15 3.3742911e-10 4.3093360e-17 1.9745636e-15 1.8115313e-13]\n",
            "\n",
            "Thresholded output\n",
            " [1 0 0 0 0 0 0 0 0 0]\n",
            "True Value\n",
            " 0\n"
          ]
        },
        {
          "output_type": "display_data",
          "data": {
            "image/png": "[encoded data removed]",
            "text/plain": [
              "<Figure size 432x288 with 1 Axes>"
            ]
          },
          "metadata": {
            "needs_background": "light"
          }
        },
        {
          "output_type": "display_data",
          "data": {
            "image/png": "[encoded data removed]",
            "text/plain": [
              "<Figure size 432x288 with 1 Axes>"
            ]
          },
          "metadata": {
            "needs_background": "light"
          }
        },
        {
          "output_type": "display_data",
          "data": {
            "text/plain": [
              "<Figure size 432x288 with 0 Axes>"
            ]
          },
          "metadata": {}
        }
      ]
    },
    {
      "cell_type": "markdown",
      "metadata": {
        "id": "KNociO4alW9p"
      },
      "source": [
        "Topology-2"
      ]
    },
    {
      "cell_type": "code",
      "metadata": {
        "colab": {
          "base_uri": "https://localhost:8080/",
          "height": 1000
        },
        "id": "d2FrK94HlYfs",
        "outputId": "e540dd3c-6634-4cc4-c8cb-0e32cc35206a"
      },
      "source": [
        "INPUT_SHAPE = (784,)\n",
        "\n",
        "#model\n",
        "model = tf.keras.Sequential([\n",
        "                             tf.keras.layers.Dense(784, activation = tf.nn.relu, input_shape=INPUT_SHAPE),\n",
        "                             tf.keras.layers.Dense(1028, activation = tf.nn.relu),\n",
        "                             tf.keras.layers.Dense(1256, activation = tf.nn.relu),\n",
        "                             tf.keras.layers.Dense(1028, activation = tf.nn.relu),\n",
        "                             tf.keras.layers.Dense(512, activation = tf.nn.relu),\n",
        "                             tf.keras.layers.Dense(10, activation = tf.nn.softmax)\n",
        "])\n",
        "\n",
        "model.summary()\n",
        "\n",
        "train(model)"
      ],
      "execution_count": null,
      "outputs": [
        {
          "output_type": "stream",
          "name": "stdout",
          "text": [
            "Model: \"sequential_16\"\n",
            "_________________________________________________________________\n",
            "Layer (type)                 Output Shape              Param #   \n",
            "=================================================================\n",
            "dense_109 (Dense)            (None, 784)               615440    \n",
            "_________________________________________________________________\n",
            "dense_110 (Dense)            (None, 1028)              806980    \n",
            "_________________________________________________________________\n",
            "dense_111 (Dense)            (None, 1256)              1292424   \n",
            "_________________________________________________________________\n",
            "dense_112 (Dense)            (None, 1028)              1292196   \n",
            "_________________________________________________________________\n",
            "dense_113 (Dense)            (None, 512)               526848    \n",
            "_________________________________________________________________\n",
            "dense_114 (Dense)            (None, 10)                5130      \n",
            "=================================================================\n",
            "Total params: 4,539,018\n",
            "Trainable params: 4,539,018\n",
            "Non-trainable params: 0\n",
            "_________________________________________________________________\n",
            "Epoch 1/10\n",
            "469/469 - 38s - loss: 0.2220 - accuracy: 0.9322\n",
            "Epoch 2/10\n",
            "469/469 - 38s - loss: 0.1009 - accuracy: 0.9704\n",
            "Epoch 3/10\n",
            "469/469 - 38s - loss: 0.0743 - accuracy: 0.9780\n",
            "Epoch 4/10\n",
            "469/469 - 38s - loss: 0.0582 - accuracy: 0.9835\n",
            "Epoch 5/10\n",
            "469/469 - 38s - loss: 0.0446 - accuracy: 0.9877\n",
            "Epoch 6/10\n",
            "469/469 - 38s - loss: 0.0385 - accuracy: 0.9893\n",
            "Epoch 7/10\n",
            "469/469 - 38s - loss: 0.0349 - accuracy: 0.9900\n",
            "Epoch 8/10\n",
            "469/469 - 38s - loss: 0.0301 - accuracy: 0.9911\n",
            "Epoch 9/10\n",
            "469/469 - 38s - loss: 0.0294 - accuracy: 0.9922\n",
            "Epoch 10/10\n",
            "469/469 - 38s - loss: 0.0272 - accuracy: 0.9925\n",
            "313/313 [==============================] - 4s 12ms/step - loss: 0.1035 - accuracy: 0.9805\n",
            "loss on test data:  0.10354503244161606\n",
            "accuracy on test data:  0.9804999828338623\n",
            "Prediction\n",
            " [1.0000000e+00 3.8572099e-32 1.3866522e-16 3.0501340e-21 7.0569583e-22\n",
            " 3.9010490e-20 6.7224043e-21 1.0784566e-15 3.0617379e-18 5.6365774e-18]\n",
            "\n",
            "Thresholded output\n",
            " [1 0 0 0 0 0 0 0 0 0]\n",
            "True Value\n",
            " 0\n"
          ]
        },
        {
          "output_type": "display_data",
          "data": {
            "image/png": "[encoded data removed]",
            "text/plain": [
              "<Figure size 432x288 with 1 Axes>"
            ]
          },
          "metadata": {
            "needs_background": "light"
          }
        },
        {
          "output_type": "display_data",
          "data": {
            "image/png": "[encoded data removed]",
            "text/plain": [
              "<Figure size 432x288 with 1 Axes>"
            ]
          },
          "metadata": {
            "needs_background": "light"
          }
        },
        {
          "output_type": "display_data",
          "data": {
            "text/plain": [
              "<Figure size 432x288 with 0 Axes>"
            ]
          },
          "metadata": {}
        }
      ]
    },
    {
      "cell_type": "markdown",
      "metadata": {
        "id": "rwIBYvu9lr7Z"
      },
      "source": [
        "Topology-3"
      ]
    },
    {
      "cell_type": "code",
      "metadata": {
        "colab": {
          "base_uri": "https://localhost:8080/",
          "height": 1000
        },
        "id": "ia3lHVJPluDZ",
        "outputId": "eba22506-c694-44a2-f107-7f76a145c119"
      },
      "source": [
        "INPUT_SHAPE = (784,)\n",
        "\n",
        "#model\n",
        "model = tf.keras.Sequential([\n",
        "                             tf.keras.layers.Dense(784, activation = tf.nn.relu, input_shape=INPUT_SHAPE),\n",
        "                             tf.keras.layers.Dense(64, activation = tf.nn.relu),\n",
        "                             tf.keras.layers.Dense(512, activation = tf.nn.relu),\n",
        "                             tf.keras.layers.Dense(64, activation = tf.nn.relu),\n",
        "                             tf.keras.layers.Dense(512, activation = tf.nn.relu),\n",
        "                             tf.keras.layers.Dense(10, activation = tf.nn.softmax)\n",
        "])\n",
        "\n",
        "model.summary()\n",
        "\n",
        "train(model)"
      ],
      "execution_count": null,
      "outputs": [
        {
          "output_type": "stream",
          "name": "stdout",
          "text": [
            "Model: \"sequential_17\"\n",
            "_________________________________________________________________\n",
            "Layer (type)                 Output Shape              Param #   \n",
            "=================================================================\n",
            "dense_115 (Dense)            (None, 784)               615440    \n",
            "_________________________________________________________________\n",
            "dense_116 (Dense)            (None, 64)                50240     \n",
            "_________________________________________________________________\n",
            "dense_117 (Dense)            (None, 512)               33280     \n",
            "_________________________________________________________________\n",
            "dense_118 (Dense)            (None, 64)                32832     \n",
            "_________________________________________________________________\n",
            "dense_119 (Dense)            (None, 512)               33280     \n",
            "_________________________________________________________________\n",
            "dense_120 (Dense)            (None, 10)                5130      \n",
            "=================================================================\n",
            "Total params: 770,202\n",
            "Trainable params: 770,202\n",
            "Non-trainable params: 0\n",
            "_________________________________________________________________\n",
            "Epoch 1/10\n",
            "469/469 - 7s - loss: 0.2638 - accuracy: 0.9179\n",
            "Epoch 2/10\n",
            "469/469 - 6s - loss: 0.0991 - accuracy: 0.9703\n",
            "Epoch 3/10\n",
            "469/469 - 6s - loss: 0.0665 - accuracy: 0.9802\n",
            "Epoch 4/10\n",
            "469/469 - 6s - loss: 0.0500 - accuracy: 0.9849\n",
            "Epoch 5/10\n",
            "469/469 - 6s - loss: 0.0427 - accuracy: 0.9872\n",
            "Epoch 6/10\n",
            "469/469 - 6s - loss: 0.0355 - accuracy: 0.9892\n",
            "Epoch 7/10\n",
            "469/469 - 6s - loss: 0.0288 - accuracy: 0.9909\n",
            "Epoch 8/10\n",
            "469/469 - 6s - loss: 0.0267 - accuracy: 0.9919\n",
            "Epoch 9/10\n",
            "469/469 - 6s - loss: 0.0217 - accuracy: 0.9936\n",
            "Epoch 10/10\n",
            "469/469 - 6s - loss: 0.0204 - accuracy: 0.9938\n",
            "313/313 [==============================] - 1s 3ms/step - loss: 0.0944 - accuracy: 0.9775\n",
            "loss on test data:  0.09444509446620941\n",
            "accuracy on test data:  0.9775000214576721\n",
            "Prediction\n",
            " [1.0000000e+00 1.6898505e-13 1.8501256e-11 6.1578699e-13 1.1786078e-10\n",
            " 4.2821775e-12 3.2642156e-08 3.2127226e-10 7.3878094e-13 6.5902306e-10]\n",
            "\n",
            "Thresholded output\n",
            " [1 0 0 0 0 0 0 0 0 0]\n",
            "True Value\n",
            " 0\n"
          ]
        },
        {
          "output_type": "display_data",
          "data": {
            "image/png": "[encoded data removed]",
            "text/plain": [
              "<Figure size 432x288 with 1 Axes>"
            ]
          },
          "metadata": {
            "needs_background": "light"
          }
        },
        {
          "output_type": "display_data",
          "data": {
            "image/png": "[encoded data removed]",
            "text/plain": [
              "<Figure size 432x288 with 1 Axes>"
            ]
          },
          "metadata": {
            "needs_background": "light"
          }
        },
        {
          "output_type": "display_data",
          "data": {
            "text/plain": [
              "<Figure size 432x288 with 0 Axes>"
            ]
          },
          "metadata": {}
        }
      ]
    },
    {
      "cell_type": "markdown",
      "metadata": {
        "id": "aXoV3zM1l43Z"
      },
      "source": [
        "Topology-4"
      ]
    },
    {
      "cell_type": "code",
      "metadata": {
        "colab": {
          "base_uri": "https://localhost:8080/",
          "height": 1000
        },
        "id": "pFrrEgvVl9HR",
        "outputId": "be2fa473-f501-46ee-960a-bf27a7dc6fcc"
      },
      "source": [
        "INPUT_SHAPE = (784,)\n",
        "\n",
        "#model\n",
        "model = tf.keras.Sequential([\n",
        "                             tf.keras.layers.Dense(784, activation = tf.nn.relu, input_shape=INPUT_SHAPE),\n",
        "                             tf.keras.layers.Dense(512, activation = tf.nn.relu),\n",
        "                             tf.keras.layers.Dense(256, activation = tf.nn.relu),\n",
        "                             tf.keras.layers.Dense(128, activation = tf.nn.relu),\n",
        "                             tf.keras.layers.Dense(256, activation = tf.nn.relu),\n",
        "                             tf.keras.layers.Dense(512, activation = tf.nn.relu),\n",
        "                             tf.keras.layers.Dense(10, activation = tf.nn.softmax)\n",
        "])\n",
        "\n",
        "model.summary()\n",
        "\n",
        "train(model)"
      ],
      "execution_count": null,
      "outputs": [
        {
          "output_type": "stream",
          "name": "stdout",
          "text": [
            "Model: \"sequential_18\"\n",
            "_________________________________________________________________\n",
            "Layer (type)                 Output Shape              Param #   \n",
            "=================================================================\n",
            "dense_121 (Dense)            (None, 784)               615440    \n",
            "_________________________________________________________________\n",
            "dense_122 (Dense)            (None, 512)               401920    \n",
            "_________________________________________________________________\n",
            "dense_123 (Dense)            (None, 256)               131328    \n",
            "_________________________________________________________________\n",
            "dense_124 (Dense)            (None, 128)               32896     \n",
            "_________________________________________________________________\n",
            "dense_125 (Dense)            (None, 256)               33024     \n",
            "_________________________________________________________________\n",
            "dense_126 (Dense)            (None, 512)               131584    \n",
            "_________________________________________________________________\n",
            "dense_127 (Dense)            (None, 10)                5130      \n",
            "=================================================================\n",
            "Total params: 1,351,322\n",
            "Trainable params: 1,351,322\n",
            "Non-trainable params: 0\n",
            "_________________________________________________________________\n",
            "Epoch 1/10\n",
            "469/469 - 12s - loss: 0.2409 - accuracy: 0.9258\n",
            "Epoch 2/10\n",
            "469/469 - 11s - loss: 0.0928 - accuracy: 0.9722\n",
            "Epoch 3/10\n",
            "469/469 - 11s - loss: 0.0656 - accuracy: 0.9804\n",
            "Epoch 4/10\n",
            "469/469 - 11s - loss: 0.0520 - accuracy: 0.9840\n",
            "Epoch 5/10\n",
            "469/469 - 11s - loss: 0.0447 - accuracy: 0.9869\n",
            "Epoch 6/10\n",
            "469/469 - 11s - loss: 0.0364 - accuracy: 0.9893\n",
            "Epoch 7/10\n",
            "469/469 - 11s - loss: 0.0309 - accuracy: 0.9910\n",
            "Epoch 8/10\n",
            "469/469 - 11s - loss: 0.0299 - accuracy: 0.9913\n",
            "Epoch 9/10\n",
            "469/469 - 11s - loss: 0.0255 - accuracy: 0.9926\n",
            "Epoch 10/10\n",
            "469/469 - 11s - loss: 0.0247 - accuracy: 0.9930\n",
            "313/313 [==============================] - 2s 4ms/step - loss: 0.0759 - accuracy: 0.9820\n",
            "loss on test data:  0.07585068792104721\n",
            "accuracy on test data:  0.9819999933242798\n",
            "Prediction\n",
            " [1.0000000e+00 1.3112893e-16 7.3129836e-10 7.1190358e-15 3.5307450e-15\n",
            " 2.8040547e-12 8.6839358e-10 3.0555020e-14 3.1073922e-14 2.7419674e-13]\n",
            "\n",
            "Thresholded output\n",
            " [1 0 0 0 0 0 0 0 0 0]\n",
            "True Value\n",
            " 0\n"
          ]
        },
        {
          "output_type": "display_data",
          "data": {
            "image/png": "[encoded data removed]",
            "text/plain": [
              "<Figure size 432x288 with 1 Axes>"
            ]
          },
          "metadata": {
            "needs_background": "light"
          }
        },
        {
          "output_type": "display_data",
          "data": {
            "image/png": "[encoded data removed]",
            "text/plain": [
              "<Figure size 432x288 with 1 Axes>"
            ]
          },
          "metadata": {
            "needs_background": "light"
          }
        },
        {
          "output_type": "display_data",
          "data": {
            "text/plain": [
              "<Figure size 432x288 with 0 Axes>"
            ]
          },
          "metadata": {}
        }
      ]
    },
    {
      "cell_type": "code",
      "metadata": {
        "id": "QJ19INe5mNRQ"
      },
      "source": [
        ""
      ],
      "execution_count": null,
      "outputs": []
    },
    {
      "cell_type": "markdown",
      "metadata": {
        "id": "1VfKgBaenw1o"
      },
      "source": [
        "DATASET-SPLIT"
      ]
    },
    {
      "cell_type": "code",
      "metadata": {
        "id": "QgBfFleMnz0o"
      },
      "source": [
        "from sklearn.model_selection import train_test_split\n",
        "import tensorflow as tf\n",
        "import numpy as np\n",
        "\n",
        "DATASET_SIZE = 70000\n",
        "TRAIN_RATIO = 0.7\n",
        "VALIDATION_RATIO = 0.2\n",
        "TEST_RATIO = 0.1\n",
        "\n",
        "(x_train, y_train), (x_test, y_test) = tf.keras.datasets.mnist.load_data()\n",
        "\n",
        "X = np.concatenate([x_train, x_test])\n",
        "y = np.concatenate([y_train, y_test])\n",
        "\n",
        "X_train, X_val, y_train, y_val = train_test_split(X, y, test_size=(1-TRAIN_RATIO))\n",
        "X_val, X_test, y_val, y_test = train_test_split(X_val, y_val, test_size=((TEST_RATIO/(VALIDATION_RATIO+TEST_RATIO))))"
      ],
      "execution_count": null,
      "outputs": []
    },
    {
      "cell_type": "code",
      "metadata": {
        "id": "s_oqLGuVoQfY"
      },
      "source": [
        "#normalize\n",
        "training_images = X_train/255.0\n",
        "validation_images = X_val/255.0\n",
        "testing_images = X_test/255.0\n",
        "\n",
        "#reshaping data\n",
        "training_images = training_images.reshape(48999, 784)\n",
        "validation_images = validation_images.reshape(14000, 784)\n",
        "testing_images = testing_images.reshape(7001, 784)"
      ],
      "execution_count": null,
      "outputs": []
    },
    {
      "cell_type": "code",
      "metadata": {
        "colab": {
          "base_uri": "https://localhost:8080/"
        },
        "id": "8WMA3uhCn-Vp",
        "outputId": "e6218326-eba9-4585-ef1e-a7b7b9cf110e"
      },
      "source": [
        "INPUT_SHAPE = (784,)\n",
        "\n",
        "#model\n",
        "model = tf.keras.Sequential([\n",
        "                             tf.keras.layers.Dense(128, activation = tf.nn.relu, input_shape=INPUT_SHAPE),\n",
        "                             tf.keras.layers.Dense(64, activation = tf.nn.relu),\n",
        "                             tf.keras.layers.Dense(32, activation = tf.nn.relu),\n",
        "                             tf.keras.layers.Dense(10, activation = tf.nn.softmax)\n",
        "])\n",
        "\n",
        "model.summary()"
      ],
      "execution_count": null,
      "outputs": [
        {
          "output_type": "stream",
          "name": "stdout",
          "text": [
            "Model: \"sequential_19\"\n",
            "_________________________________________________________________\n",
            "Layer (type)                 Output Shape              Param #   \n",
            "=================================================================\n",
            "dense_128 (Dense)            (None, 128)               100480    \n",
            "_________________________________________________________________\n",
            "dense_129 (Dense)            (None, 64)                8256      \n",
            "_________________________________________________________________\n",
            "dense_130 (Dense)            (None, 32)                2080      \n",
            "_________________________________________________________________\n",
            "dense_131 (Dense)            (None, 10)                330       \n",
            "=================================================================\n",
            "Total params: 111,146\n",
            "Trainable params: 111,146\n",
            "Non-trainable params: 0\n",
            "_________________________________________________________________\n"
          ]
        }
      ]
    },
    {
      "cell_type": "code",
      "metadata": {
        "id": "JqIyRdSGpuTH"
      },
      "source": [
        "model.compile(\n",
        "              optimizer = 'adam', \n",
        "              loss = 'sparse_categorical_crossentropy',\n",
        "              metrics = ['accuracy']\n",
        ")"
      ],
      "execution_count": null,
      "outputs": []
    },
    {
      "cell_type": "code",
      "metadata": {
        "colab": {
          "base_uri": "https://localhost:8080/"
        },
        "id": "RJFxO-1sqZAH",
        "outputId": "2d524a5b-edc1-46ae-ddce-312278515f26"
      },
      "source": [
        "#fit\n",
        "history = model.fit(\n",
        "    training_images,\n",
        "    y_train,\n",
        "    batch_size=128, \n",
        "    epochs=10,\n",
        "    verbose=2)"
      ],
      "execution_count": null,
      "outputs": [
        {
          "output_type": "stream",
          "name": "stdout",
          "text": [
            "Epoch 1/10\n",
            "383/383 - 2s - loss: 0.3928 - accuracy: 0.8845\n",
            "Epoch 2/10\n",
            "383/383 - 1s - loss: 0.1495 - accuracy: 0.9562\n",
            "Epoch 3/10\n",
            "383/383 - 1s - loss: 0.1036 - accuracy: 0.9688\n",
            "Epoch 4/10\n",
            "383/383 - 1s - loss: 0.0788 - accuracy: 0.9758\n",
            "Epoch 5/10\n",
            "383/383 - 1s - loss: 0.0618 - accuracy: 0.9804\n",
            "Epoch 6/10\n",
            "383/383 - 1s - loss: 0.0505 - accuracy: 0.9838\n",
            "Epoch 7/10\n",
            "383/383 - 1s - loss: 0.0410 - accuracy: 0.9870\n",
            "Epoch 8/10\n",
            "383/383 - 1s - loss: 0.0307 - accuracy: 0.9904\n",
            "Epoch 9/10\n",
            "383/383 - 1s - loss: 0.0286 - accuracy: 0.9904\n",
            "Epoch 10/10\n",
            "383/383 - 1s - loss: 0.0252 - accuracy: 0.9914\n"
          ]
        }
      ]
    },
    {
      "cell_type": "code",
      "metadata": {
        "colab": {
          "base_uri": "https://localhost:8080/",
          "height": 749
        },
        "id": "F_1qB_dLqbmv",
        "outputId": "3a250ecd-cb0a-4ede-b038-bd74df5a22a6"
      },
      "source": [
        "#evaluating the model on test data\n",
        "test_loss, test_acc = model.evaluate(testing_images, y_test)\n",
        "\n",
        "#printing the loss and accuracy of trained model on test dataset\n",
        "print(\"loss on test data: \", test_loss)\n",
        "print('accuracy on test data: ', test_acc)\n",
        "\n",
        "prediction = model.predict(testing_images[10:11])\n",
        "prediction = prediction[0]\n",
        "print('Prediction\\n',prediction)\n",
        "print('\\nThresholded output\\n',(prediction>0.5)*1)\n",
        "print(\"True Value\\n\", testing_labels[10])\n",
        "\n",
        "plot(history)"
      ],
      "execution_count": null,
      "outputs": [
        {
          "output_type": "stream",
          "name": "stdout",
          "text": [
            "219/219 [==============================] - 0s 1ms/step - loss: 0.0946 - accuracy: 0.9750\n",
            "loss on test data:  0.09463615715503693\n",
            "accuracy on test data:  0.9750036001205444\n",
            "Prediction\n",
            " [5.8247838e-09 2.0685353e-07 1.0044793e-06 5.6238619e-10 1.9316034e-02\n",
            " 2.2447037e-07 8.7836568e-08 9.8068213e-01 1.9233038e-08 2.4580822e-07]\n",
            "\n",
            "Thresholded output\n",
            " [0 0 0 0 0 0 0 1 0 0]\n",
            "True Value\n",
            " 0\n"
          ]
        },
        {
          "output_type": "display_data",
          "data": {
            "image/png": "[encoded data removed]",
            "text/plain": [
              "<Figure size 432x288 with 1 Axes>"
            ]
          },
          "metadata": {
            "needs_background": "light"
          }
        },
        {
          "output_type": "display_data",
          "data": {
            "image/png": "[encoded data removed]",
            "text/plain": [
              "<Figure size 432x288 with 1 Axes>"
            ]
          },
          "metadata": {
            "needs_background": "light"
          }
        },
        {
          "output_type": "display_data",
          "data": {
            "text/plain": [
              "<Figure size 432x288 with 0 Axes>"
            ]
          },
          "metadata": {}
        }
      ]
    },
    {
      "cell_type": "code",
      "metadata": {
        "id": "GiQMFNkMq7-2"
      },
      "source": [
        ""
      ],
      "execution_count": null,
      "outputs": []
    }
  ]
}