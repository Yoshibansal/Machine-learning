{
  "nbformat": 4,
  "nbformat_minor": 0,
  "metadata": {
    "colab": {
      "name": "Regression_polynomial_p1.ipynb",
      "provenance": [],
      "collapsed_sections": [],
      "authorship_tag": "ABX9TyP1nmH0FisdxWogxl3zAhVW",
      "include_colab_link": true
    },
    "kernelspec": {
      "name": "python3",
      "display_name": "Python 3"
    },
    "language_info": {
      "name": "python"
    }
  },
  "cells": [
    {
      "cell_type": "markdown",
      "metadata": {
        "id": "view-in-github",
        "colab_type": "text"
      },
      "source": [
        "<a href=\"https://colab.research.google.com/github/Yoshibansal/Machine-learning/blob/main/Regression/Regression_polynomial_p1.ipynb\" target=\"_parent\"><img src=\"https://colab.research.google.com/assets/colab-badge.svg\" alt=\"Open In Colab\"/></a>"
      ]
    },
    {
      "cell_type": "markdown",
      "metadata": {
        "id": "apvkROcFMOoy"
      },
      "source": [
        "Yoshi Bansal\n",
        "\n",
        "E19CSE332"
      ]
    },
    {
      "cell_type": "code",
      "metadata": {
        "id": "i4Bo13sLlXlb"
      },
      "source": [
        "import numpy as np\n",
        "import pandas as pd"
      ],
      "execution_count": 1,
      "outputs": []
    },
    {
      "cell_type": "code",
      "metadata": {
        "id": "wlx6etXTljGh"
      },
      "source": [
        "path = 'https://raw.githubusercontent.com/Yoshibansal/Machine-learning/main/Regression/Behavior%20of%20the%20urban%20traffic%20of%20the%20city%20of%20Sao%20Paulo%20in%20Brazil.csv'"
      ],
      "execution_count": 2,
      "outputs": []
    },
    {
      "cell_type": "code",
      "metadata": {
        "colab": {
          "base_uri": "https://localhost:8080/",
          "height": 292
        },
        "id": "Ljj6R_spmjXl",
        "outputId": "ef9ca3e2-2f6c-43e1-ccc8-76dfc1906abc"
      },
      "source": [
        "raw_df = pd.read_csv(path, sep=';')\n",
        "print(\"Dataframe shape: \", raw_df.shape)\n",
        "raw_df.head()"
      ],
      "execution_count": 3,
      "outputs": [
        {
          "output_type": "stream",
          "name": "stdout",
          "text": [
            "Dataframe shape:  (135, 18)\n"
          ]
        },
        {
          "output_type": "execute_result",
          "data": {
            "text/html": [
              "<div>\n",
              "<style scoped>\n",
              "    .dataframe tbody tr th:only-of-type {\n",
              "        vertical-align: middle;\n",
              "    }\n",
              "\n",
              "    .dataframe tbody tr th {\n",
              "        vertical-align: top;\n",
              "    }\n",
              "\n",
              "    .dataframe thead th {\n",
              "        text-align: right;\n",
              "    }\n",
              "</style>\n",
              "<table border=\"1\" class=\"dataframe\">\n",
              "  <thead>\n",
              "    <tr style=\"text-align: right;\">\n",
              "      <th></th>\n",
              "      <th>Hour (Coded)</th>\n",
              "      <th>Immobilized bus</th>\n",
              "      <th>Broken Truck</th>\n",
              "      <th>Vehicle excess</th>\n",
              "      <th>Accident victim</th>\n",
              "      <th>Running over</th>\n",
              "      <th>Fire vehicles</th>\n",
              "      <th>Occurrence involving freight</th>\n",
              "      <th>Incident involving dangerous freight</th>\n",
              "      <th>Lack of electricity</th>\n",
              "      <th>Fire</th>\n",
              "      <th>Point of flooding</th>\n",
              "      <th>Manifestations</th>\n",
              "      <th>Defect in the network of trolleybuses</th>\n",
              "      <th>Tree on the road</th>\n",
              "      <th>Semaphore off</th>\n",
              "      <th>Intermittent Semaphore</th>\n",
              "      <th>Slowness in traffic (%)</th>\n",
              "    </tr>\n",
              "  </thead>\n",
              "  <tbody>\n",
              "    <tr>\n",
              "      <th>0</th>\n",
              "      <td>1</td>\n",
              "      <td>0</td>\n",
              "      <td>0</td>\n",
              "      <td>0</td>\n",
              "      <td>0</td>\n",
              "      <td>0</td>\n",
              "      <td>0</td>\n",
              "      <td>0</td>\n",
              "      <td>0</td>\n",
              "      <td>0</td>\n",
              "      <td>0</td>\n",
              "      <td>0</td>\n",
              "      <td>0</td>\n",
              "      <td>0</td>\n",
              "      <td>0</td>\n",
              "      <td>0</td>\n",
              "      <td>0</td>\n",
              "      <td>4,1</td>\n",
              "    </tr>\n",
              "    <tr>\n",
              "      <th>1</th>\n",
              "      <td>2</td>\n",
              "      <td>0</td>\n",
              "      <td>0</td>\n",
              "      <td>0</td>\n",
              "      <td>0</td>\n",
              "      <td>0</td>\n",
              "      <td>0</td>\n",
              "      <td>0</td>\n",
              "      <td>0</td>\n",
              "      <td>0</td>\n",
              "      <td>0</td>\n",
              "      <td>0</td>\n",
              "      <td>0</td>\n",
              "      <td>0</td>\n",
              "      <td>0</td>\n",
              "      <td>0</td>\n",
              "      <td>0</td>\n",
              "      <td>6,6</td>\n",
              "    </tr>\n",
              "    <tr>\n",
              "      <th>2</th>\n",
              "      <td>3</td>\n",
              "      <td>0</td>\n",
              "      <td>0</td>\n",
              "      <td>0</td>\n",
              "      <td>0</td>\n",
              "      <td>0</td>\n",
              "      <td>0</td>\n",
              "      <td>0</td>\n",
              "      <td>0</td>\n",
              "      <td>0</td>\n",
              "      <td>0</td>\n",
              "      <td>0</td>\n",
              "      <td>0</td>\n",
              "      <td>0</td>\n",
              "      <td>0</td>\n",
              "      <td>0</td>\n",
              "      <td>0</td>\n",
              "      <td>8,7</td>\n",
              "    </tr>\n",
              "    <tr>\n",
              "      <th>3</th>\n",
              "      <td>4</td>\n",
              "      <td>0</td>\n",
              "      <td>0</td>\n",
              "      <td>0</td>\n",
              "      <td>0</td>\n",
              "      <td>0</td>\n",
              "      <td>0</td>\n",
              "      <td>0</td>\n",
              "      <td>0</td>\n",
              "      <td>0</td>\n",
              "      <td>0</td>\n",
              "      <td>0</td>\n",
              "      <td>0</td>\n",
              "      <td>0</td>\n",
              "      <td>0</td>\n",
              "      <td>0</td>\n",
              "      <td>0</td>\n",
              "      <td>9,2</td>\n",
              "    </tr>\n",
              "    <tr>\n",
              "      <th>4</th>\n",
              "      <td>5</td>\n",
              "      <td>0</td>\n",
              "      <td>0</td>\n",
              "      <td>0</td>\n",
              "      <td>0</td>\n",
              "      <td>0</td>\n",
              "      <td>0</td>\n",
              "      <td>0</td>\n",
              "      <td>0</td>\n",
              "      <td>0</td>\n",
              "      <td>0</td>\n",
              "      <td>0</td>\n",
              "      <td>0</td>\n",
              "      <td>0</td>\n",
              "      <td>0</td>\n",
              "      <td>0</td>\n",
              "      <td>0</td>\n",
              "      <td>11,1</td>\n",
              "    </tr>\n",
              "  </tbody>\n",
              "</table>\n",
              "</div>"
            ],
            "text/plain": [
              "   Hour (Coded)  ...  Slowness in traffic (%)\n",
              "0             1  ...                      4,1\n",
              "1             2  ...                      6,6\n",
              "2             3  ...                      8,7\n",
              "3             4  ...                      9,2\n",
              "4             5  ...                     11,1\n",
              "\n",
              "[5 rows x 18 columns]"
            ]
          },
          "metadata": {},
          "execution_count": 3
        }
      ]
    },
    {
      "cell_type": "code",
      "metadata": {
        "colab": {
          "base_uri": "https://localhost:8080/",
          "height": 275
        },
        "id": "wx3FS3bymsuw",
        "outputId": "69cf38e5-70e2-49a5-dbaf-39f196e51110"
      },
      "source": [
        "raw_df.tail()"
      ],
      "execution_count": 4,
      "outputs": [
        {
          "output_type": "execute_result",
          "data": {
            "text/html": [
              "<div>\n",
              "<style scoped>\n",
              "    .dataframe tbody tr th:only-of-type {\n",
              "        vertical-align: middle;\n",
              "    }\n",
              "\n",
              "    .dataframe tbody tr th {\n",
              "        vertical-align: top;\n",
              "    }\n",
              "\n",
              "    .dataframe thead th {\n",
              "        text-align: right;\n",
              "    }\n",
              "</style>\n",
              "<table border=\"1\" class=\"dataframe\">\n",
              "  <thead>\n",
              "    <tr style=\"text-align: right;\">\n",
              "      <th></th>\n",
              "      <th>Hour (Coded)</th>\n",
              "      <th>Immobilized bus</th>\n",
              "      <th>Broken Truck</th>\n",
              "      <th>Vehicle excess</th>\n",
              "      <th>Accident victim</th>\n",
              "      <th>Running over</th>\n",
              "      <th>Fire vehicles</th>\n",
              "      <th>Occurrence involving freight</th>\n",
              "      <th>Incident involving dangerous freight</th>\n",
              "      <th>Lack of electricity</th>\n",
              "      <th>Fire</th>\n",
              "      <th>Point of flooding</th>\n",
              "      <th>Manifestations</th>\n",
              "      <th>Defect in the network of trolleybuses</th>\n",
              "      <th>Tree on the road</th>\n",
              "      <th>Semaphore off</th>\n",
              "      <th>Intermittent Semaphore</th>\n",
              "      <th>Slowness in traffic (%)</th>\n",
              "    </tr>\n",
              "  </thead>\n",
              "  <tbody>\n",
              "    <tr>\n",
              "      <th>130</th>\n",
              "      <td>23</td>\n",
              "      <td>1</td>\n",
              "      <td>0</td>\n",
              "      <td>0</td>\n",
              "      <td>0</td>\n",
              "      <td>1</td>\n",
              "      <td>0</td>\n",
              "      <td>0</td>\n",
              "      <td>0</td>\n",
              "      <td>0</td>\n",
              "      <td>0</td>\n",
              "      <td>0</td>\n",
              "      <td>0</td>\n",
              "      <td>1</td>\n",
              "      <td>0</td>\n",
              "      <td>0</td>\n",
              "      <td>0</td>\n",
              "      <td>17,8</td>\n",
              "    </tr>\n",
              "    <tr>\n",
              "      <th>131</th>\n",
              "      <td>24</td>\n",
              "      <td>0</td>\n",
              "      <td>0</td>\n",
              "      <td>0</td>\n",
              "      <td>2</td>\n",
              "      <td>0</td>\n",
              "      <td>0</td>\n",
              "      <td>0</td>\n",
              "      <td>0</td>\n",
              "      <td>0</td>\n",
              "      <td>0</td>\n",
              "      <td>0</td>\n",
              "      <td>0</td>\n",
              "      <td>0</td>\n",
              "      <td>0</td>\n",
              "      <td>0</td>\n",
              "      <td>0</td>\n",
              "      <td>18,1</td>\n",
              "    </tr>\n",
              "    <tr>\n",
              "      <th>132</th>\n",
              "      <td>25</td>\n",
              "      <td>1</td>\n",
              "      <td>0</td>\n",
              "      <td>0</td>\n",
              "      <td>2</td>\n",
              "      <td>0</td>\n",
              "      <td>0</td>\n",
              "      <td>0</td>\n",
              "      <td>0</td>\n",
              "      <td>0</td>\n",
              "      <td>0</td>\n",
              "      <td>0</td>\n",
              "      <td>0</td>\n",
              "      <td>0</td>\n",
              "      <td>0</td>\n",
              "      <td>0</td>\n",
              "      <td>0</td>\n",
              "      <td>17,7</td>\n",
              "    </tr>\n",
              "    <tr>\n",
              "      <th>133</th>\n",
              "      <td>26</td>\n",
              "      <td>0</td>\n",
              "      <td>4</td>\n",
              "      <td>0</td>\n",
              "      <td>0</td>\n",
              "      <td>0</td>\n",
              "      <td>0</td>\n",
              "      <td>0</td>\n",
              "      <td>0</td>\n",
              "      <td>0</td>\n",
              "      <td>0</td>\n",
              "      <td>0</td>\n",
              "      <td>1</td>\n",
              "      <td>0</td>\n",
              "      <td>0</td>\n",
              "      <td>1</td>\n",
              "      <td>0</td>\n",
              "      <td>17,4</td>\n",
              "    </tr>\n",
              "    <tr>\n",
              "      <th>134</th>\n",
              "      <td>27</td>\n",
              "      <td>0</td>\n",
              "      <td>0</td>\n",
              "      <td>0</td>\n",
              "      <td>0</td>\n",
              "      <td>0</td>\n",
              "      <td>0</td>\n",
              "      <td>0</td>\n",
              "      <td>0</td>\n",
              "      <td>0</td>\n",
              "      <td>0</td>\n",
              "      <td>0</td>\n",
              "      <td>0</td>\n",
              "      <td>0</td>\n",
              "      <td>0</td>\n",
              "      <td>0</td>\n",
              "      <td>0</td>\n",
              "      <td>12,1</td>\n",
              "    </tr>\n",
              "  </tbody>\n",
              "</table>\n",
              "</div>"
            ],
            "text/plain": [
              "     Hour (Coded)  ...  Slowness in traffic (%)\n",
              "130            23  ...                     17,8\n",
              "131            24  ...                     18,1\n",
              "132            25  ...                     17,7\n",
              "133            26  ...                     17,4\n",
              "134            27  ...                     12,1\n",
              "\n",
              "[5 rows x 18 columns]"
            ]
          },
          "metadata": {},
          "execution_count": 4
        }
      ]
    },
    {
      "cell_type": "code",
      "metadata": {
        "colab": {
          "base_uri": "https://localhost:8080/"
        },
        "id": "WlG3rBgHm0Sg",
        "outputId": "4cf20a13-95ad-47d2-b776-10e6212c4501"
      },
      "source": [
        "raw_df.isnull().sum()"
      ],
      "execution_count": 5,
      "outputs": [
        {
          "output_type": "execute_result",
          "data": {
            "text/plain": [
              "Hour (Coded)                             0\n",
              "Immobilized bus                          0\n",
              "Broken Truck                             0\n",
              "Vehicle excess                           0\n",
              "Accident victim                          0\n",
              "Running over                             0\n",
              "Fire vehicles                            0\n",
              "Occurrence involving freight             0\n",
              "Incident involving dangerous freight     0\n",
              "Lack of electricity                      0\n",
              "Fire                                     0\n",
              "Point of flooding                        0\n",
              "Manifestations                           0\n",
              "Defect in the network of trolleybuses    0\n",
              "Tree on the road                         0\n",
              "Semaphore off                            0\n",
              "Intermittent Semaphore                   0\n",
              "Slowness in traffic (%)                  0\n",
              "dtype: int64"
            ]
          },
          "metadata": {},
          "execution_count": 5
        }
      ]
    },
    {
      "cell_type": "code",
      "metadata": {
        "colab": {
          "base_uri": "https://localhost:8080/"
        },
        "id": "rPCt06i1nBRf",
        "outputId": "b663efe4-208c-4d64-89c8-bfc271a966cc"
      },
      "source": [
        "raw_df.info()"
      ],
      "execution_count": 6,
      "outputs": [
        {
          "output_type": "stream",
          "name": "stdout",
          "text": [
            "<class 'pandas.core.frame.DataFrame'>\n",
            "RangeIndex: 135 entries, 0 to 134\n",
            "Data columns (total 18 columns):\n",
            " #   Column                                 Non-Null Count  Dtype \n",
            "---  ------                                 --------------  ----- \n",
            " 0   Hour (Coded)                           135 non-null    int64 \n",
            " 1   Immobilized bus                        135 non-null    int64 \n",
            " 2   Broken Truck                           135 non-null    int64 \n",
            " 3   Vehicle excess                         135 non-null    int64 \n",
            " 4   Accident victim                        135 non-null    int64 \n",
            " 5   Running over                           135 non-null    int64 \n",
            " 6   Fire vehicles                          135 non-null    int64 \n",
            " 7   Occurrence involving freight           135 non-null    int64 \n",
            " 8   Incident involving dangerous freight   135 non-null    int64 \n",
            " 9   Lack of electricity                    135 non-null    int64 \n",
            " 10  Fire                                   135 non-null    int64 \n",
            " 11  Point of flooding                      135 non-null    int64 \n",
            " 12  Manifestations                         135 non-null    int64 \n",
            " 13  Defect in the network of trolleybuses  135 non-null    int64 \n",
            " 14  Tree on the road                       135 non-null    int64 \n",
            " 15  Semaphore off                          135 non-null    int64 \n",
            " 16  Intermittent Semaphore                 135 non-null    int64 \n",
            " 17  Slowness in traffic (%)                135 non-null    object\n",
            "dtypes: int64(17), object(1)\n",
            "memory usage: 19.1+ KB\n"
          ]
        }
      ]
    },
    {
      "cell_type": "code",
      "metadata": {
        "colab": {
          "base_uri": "https://localhost:8080/",
          "height": 368
        },
        "id": "ETNxmo1AnSLS",
        "outputId": "a7983089-6d06-4b64-e865-2f4425c17472"
      },
      "source": [
        "raw_df.describe()"
      ],
      "execution_count": 7,
      "outputs": [
        {
          "output_type": "execute_result",
          "data": {
            "text/html": [
              "<div>\n",
              "<style scoped>\n",
              "    .dataframe tbody tr th:only-of-type {\n",
              "        vertical-align: middle;\n",
              "    }\n",
              "\n",
              "    .dataframe tbody tr th {\n",
              "        vertical-align: top;\n",
              "    }\n",
              "\n",
              "    .dataframe thead th {\n",
              "        text-align: right;\n",
              "    }\n",
              "</style>\n",
              "<table border=\"1\" class=\"dataframe\">\n",
              "  <thead>\n",
              "    <tr style=\"text-align: right;\">\n",
              "      <th></th>\n",
              "      <th>Hour (Coded)</th>\n",
              "      <th>Immobilized bus</th>\n",
              "      <th>Broken Truck</th>\n",
              "      <th>Vehicle excess</th>\n",
              "      <th>Accident victim</th>\n",
              "      <th>Running over</th>\n",
              "      <th>Fire vehicles</th>\n",
              "      <th>Occurrence involving freight</th>\n",
              "      <th>Incident involving dangerous freight</th>\n",
              "      <th>Lack of electricity</th>\n",
              "      <th>Fire</th>\n",
              "      <th>Point of flooding</th>\n",
              "      <th>Manifestations</th>\n",
              "      <th>Defect in the network of trolleybuses</th>\n",
              "      <th>Tree on the road</th>\n",
              "      <th>Semaphore off</th>\n",
              "      <th>Intermittent Semaphore</th>\n",
              "    </tr>\n",
              "  </thead>\n",
              "  <tbody>\n",
              "    <tr>\n",
              "      <th>count</th>\n",
              "      <td>135.00000</td>\n",
              "      <td>135.000000</td>\n",
              "      <td>135.000000</td>\n",
              "      <td>135.000000</td>\n",
              "      <td>135.000000</td>\n",
              "      <td>135.000000</td>\n",
              "      <td>135.000000</td>\n",
              "      <td>135.000000</td>\n",
              "      <td>135.000000</td>\n",
              "      <td>135.000000</td>\n",
              "      <td>135.000000</td>\n",
              "      <td>135.000000</td>\n",
              "      <td>135.000000</td>\n",
              "      <td>135.000000</td>\n",
              "      <td>135.000000</td>\n",
              "      <td>135.000000</td>\n",
              "      <td>135.000000</td>\n",
              "    </tr>\n",
              "    <tr>\n",
              "      <th>mean</th>\n",
              "      <td>14.00000</td>\n",
              "      <td>0.340741</td>\n",
              "      <td>0.874074</td>\n",
              "      <td>0.029630</td>\n",
              "      <td>0.422222</td>\n",
              "      <td>0.118519</td>\n",
              "      <td>0.007407</td>\n",
              "      <td>0.007407</td>\n",
              "      <td>0.007407</td>\n",
              "      <td>0.118519</td>\n",
              "      <td>0.007407</td>\n",
              "      <td>0.118519</td>\n",
              "      <td>0.051852</td>\n",
              "      <td>0.229630</td>\n",
              "      <td>0.044444</td>\n",
              "      <td>0.125926</td>\n",
              "      <td>0.014815</td>\n",
              "    </tr>\n",
              "    <tr>\n",
              "      <th>std</th>\n",
              "      <td>7.81789</td>\n",
              "      <td>0.659749</td>\n",
              "      <td>1.102437</td>\n",
              "      <td>0.170195</td>\n",
              "      <td>0.696116</td>\n",
              "      <td>0.346665</td>\n",
              "      <td>0.086066</td>\n",
              "      <td>0.086066</td>\n",
              "      <td>0.086066</td>\n",
              "      <td>0.504485</td>\n",
              "      <td>0.086066</td>\n",
              "      <td>0.712907</td>\n",
              "      <td>0.222554</td>\n",
              "      <td>0.818998</td>\n",
              "      <td>0.206848</td>\n",
              "      <td>0.464077</td>\n",
              "      <td>0.121261</td>\n",
              "    </tr>\n",
              "    <tr>\n",
              "      <th>min</th>\n",
              "      <td>1.00000</td>\n",
              "      <td>0.000000</td>\n",
              "      <td>0.000000</td>\n",
              "      <td>0.000000</td>\n",
              "      <td>0.000000</td>\n",
              "      <td>0.000000</td>\n",
              "      <td>0.000000</td>\n",
              "      <td>0.000000</td>\n",
              "      <td>0.000000</td>\n",
              "      <td>0.000000</td>\n",
              "      <td>0.000000</td>\n",
              "      <td>0.000000</td>\n",
              "      <td>0.000000</td>\n",
              "      <td>0.000000</td>\n",
              "      <td>0.000000</td>\n",
              "      <td>0.000000</td>\n",
              "      <td>0.000000</td>\n",
              "    </tr>\n",
              "    <tr>\n",
              "      <th>25%</th>\n",
              "      <td>7.00000</td>\n",
              "      <td>0.000000</td>\n",
              "      <td>0.000000</td>\n",
              "      <td>0.000000</td>\n",
              "      <td>0.000000</td>\n",
              "      <td>0.000000</td>\n",
              "      <td>0.000000</td>\n",
              "      <td>0.000000</td>\n",
              "      <td>0.000000</td>\n",
              "      <td>0.000000</td>\n",
              "      <td>0.000000</td>\n",
              "      <td>0.000000</td>\n",
              "      <td>0.000000</td>\n",
              "      <td>0.000000</td>\n",
              "      <td>0.000000</td>\n",
              "      <td>0.000000</td>\n",
              "      <td>0.000000</td>\n",
              "    </tr>\n",
              "    <tr>\n",
              "      <th>50%</th>\n",
              "      <td>14.00000</td>\n",
              "      <td>0.000000</td>\n",
              "      <td>1.000000</td>\n",
              "      <td>0.000000</td>\n",
              "      <td>0.000000</td>\n",
              "      <td>0.000000</td>\n",
              "      <td>0.000000</td>\n",
              "      <td>0.000000</td>\n",
              "      <td>0.000000</td>\n",
              "      <td>0.000000</td>\n",
              "      <td>0.000000</td>\n",
              "      <td>0.000000</td>\n",
              "      <td>0.000000</td>\n",
              "      <td>0.000000</td>\n",
              "      <td>0.000000</td>\n",
              "      <td>0.000000</td>\n",
              "      <td>0.000000</td>\n",
              "    </tr>\n",
              "    <tr>\n",
              "      <th>75%</th>\n",
              "      <td>21.00000</td>\n",
              "      <td>1.000000</td>\n",
              "      <td>1.000000</td>\n",
              "      <td>0.000000</td>\n",
              "      <td>1.000000</td>\n",
              "      <td>0.000000</td>\n",
              "      <td>0.000000</td>\n",
              "      <td>0.000000</td>\n",
              "      <td>0.000000</td>\n",
              "      <td>0.000000</td>\n",
              "      <td>0.000000</td>\n",
              "      <td>0.000000</td>\n",
              "      <td>0.000000</td>\n",
              "      <td>0.000000</td>\n",
              "      <td>0.000000</td>\n",
              "      <td>0.000000</td>\n",
              "      <td>0.000000</td>\n",
              "    </tr>\n",
              "    <tr>\n",
              "      <th>max</th>\n",
              "      <td>27.00000</td>\n",
              "      <td>4.000000</td>\n",
              "      <td>5.000000</td>\n",
              "      <td>1.000000</td>\n",
              "      <td>3.000000</td>\n",
              "      <td>2.000000</td>\n",
              "      <td>1.000000</td>\n",
              "      <td>1.000000</td>\n",
              "      <td>1.000000</td>\n",
              "      <td>4.000000</td>\n",
              "      <td>1.000000</td>\n",
              "      <td>7.000000</td>\n",
              "      <td>1.000000</td>\n",
              "      <td>8.000000</td>\n",
              "      <td>1.000000</td>\n",
              "      <td>4.000000</td>\n",
              "      <td>1.000000</td>\n",
              "    </tr>\n",
              "  </tbody>\n",
              "</table>\n",
              "</div>"
            ],
            "text/plain": [
              "       Hour (Coded)  Immobilized bus  ...  Semaphore off  Intermittent Semaphore\n",
              "count     135.00000       135.000000  ...     135.000000              135.000000\n",
              "mean       14.00000         0.340741  ...       0.125926                0.014815\n",
              "std         7.81789         0.659749  ...       0.464077                0.121261\n",
              "min         1.00000         0.000000  ...       0.000000                0.000000\n",
              "25%         7.00000         0.000000  ...       0.000000                0.000000\n",
              "50%        14.00000         0.000000  ...       0.000000                0.000000\n",
              "75%        21.00000         1.000000  ...       0.000000                0.000000\n",
              "max        27.00000         4.000000  ...       4.000000                1.000000\n",
              "\n",
              "[8 rows x 17 columns]"
            ]
          },
          "metadata": {},
          "execution_count": 7
        }
      ]
    },
    {
      "cell_type": "code",
      "metadata": {
        "id": "s2HDJqmQnijy"
      },
      "source": [
        "raw_df['Slowness in traffic (%)'] = raw_df['Slowness in traffic (%)'].str.replace(',', '.').astype(float)"
      ],
      "execution_count": 9,
      "outputs": []
    },
    {
      "cell_type": "code",
      "metadata": {
        "colab": {
          "base_uri": "https://localhost:8080/"
        },
        "id": "IB9JJ1-PofxN",
        "outputId": "55fb286d-3ac6-4ffc-9d01-ec341530d4d1"
      },
      "source": [
        "raw_df.index"
      ],
      "execution_count": 10,
      "outputs": [
        {
          "output_type": "execute_result",
          "data": {
            "text/plain": [
              "RangeIndex(start=0, stop=135, step=1)"
            ]
          },
          "metadata": {},
          "execution_count": 10
        }
      ]
    },
    {
      "cell_type": "code",
      "metadata": {
        "colab": {
          "base_uri": "https://localhost:8080/"
        },
        "id": "S9do6eE3pWkz",
        "outputId": "c5ead692-6da6-4d04-95a0-08100759cf1a"
      },
      "source": [
        "raw_df.iloc[:, 0]"
      ],
      "execution_count": 11,
      "outputs": [
        {
          "output_type": "execute_result",
          "data": {
            "text/plain": [
              "0       1\n",
              "1       2\n",
              "2       3\n",
              "3       4\n",
              "4       5\n",
              "       ..\n",
              "130    23\n",
              "131    24\n",
              "132    25\n",
              "133    26\n",
              "134    27\n",
              "Name: Hour (Coded), Length: 135, dtype: int64"
            ]
          },
          "metadata": {},
          "execution_count": 11
        }
      ]
    },
    {
      "cell_type": "markdown",
      "metadata": {
        "id": "pIy2kkRXpwYN"
      },
      "source": [
        "Night: 0-5\n",
        "\n",
        "Morning: 6:11\n",
        "\n",
        "Noon: 12:17\n",
        "\n",
        "Afternoon: 18:22\n",
        "\n",
        "Evening: 23:27"
      ]
    },
    {
      "cell_type": "code",
      "metadata": {
        "id": "csGUjHwdop0u"
      },
      "source": [
        "col = 0\n",
        "for i in raw_df.index:\n",
        "  if raw_df.iloc[i, col] <= 5:\n",
        "    raw_df.iloc[i, col] = 'Night'\n",
        "\n",
        "  elif raw_df.iloc[i, col] <= 11:\n",
        "    raw_df.iloc[i, col] = 'Morning'\n",
        "\n",
        "  elif raw_df.iloc[i, col] <= 17:\n",
        "    raw_df.iloc[i, col] = 'Noon'\n",
        "\n",
        "  elif raw_df.iloc[i, col] <= 22:\n",
        "    raw_df.iloc[i, col] = 'Afternoon'\n",
        "\n",
        "  elif raw_df.iloc[i, col] <= 27:\n",
        "    raw_df.iloc[i, col] = 'Evening'"
      ],
      "execution_count": 12,
      "outputs": []
    },
    {
      "cell_type": "code",
      "metadata": {
        "colab": {
          "base_uri": "https://localhost:8080/",
          "height": 717
        },
        "id": "OZkoGSvDnWX4",
        "outputId": "f7b4bfbc-f788-4b5d-b316-c78f907de2aa"
      },
      "source": [
        "raw_df.hist(bins=50, figsize=(20,15));"
      ],
      "execution_count": 67,
      "outputs": [
        {
          "output_type": "display_data",
          "data": {
            "image/png": "[encoded data removed]",
            "text/plain": [
              "<Figure size 1440x1080 with 20 Axes>"
            ]
          },
          "metadata": {
            "needs_background": "light"
          }
        }
      ]
    },
    {
      "cell_type": "code",
      "metadata": {
        "id": "-4eCqCWJFP4_"
      },
      "source": [
        "import matplotlib.pyplot as plt"
      ],
      "execution_count": 72,
      "outputs": []
    },
    {
      "cell_type": "code",
      "metadata": {
        "colab": {
          "base_uri": "https://localhost:8080/",
          "height": 279
        },
        "id": "Bx_4keqOE5Xx",
        "outputId": "f624dcb4-e8ae-439a-f619-bb53bf075cfe"
      },
      "source": [
        "plt.hist(raw_df['Slowness in traffic (%)'], bins=50);\n",
        "plt.xlabel(\"Slowness in traffic (%)\")\n",
        "plt.grid()\n",
        "plt.show()"
      ],
      "execution_count": 73,
      "outputs": [
        {
          "output_type": "display_data",
          "data": {
            "image/png": "[encoded data removed]",
            "text/plain": [
              "<Figure size 432x288 with 1 Axes>"
            ]
          },
          "metadata": {
            "needs_background": "light"
          }
        }
      ]
    },
    {
      "cell_type": "code",
      "metadata": {
        "id": "3KfIV2J-rGqT"
      },
      "source": [
        "df = raw_df.copy()"
      ],
      "execution_count": 13,
      "outputs": []
    },
    {
      "cell_type": "code",
      "metadata": {
        "colab": {
          "base_uri": "https://localhost:8080/"
        },
        "id": "-zzTtLhYrb3r",
        "outputId": "331f8fd2-00d6-40ad-db5a-c7143cc209c6"
      },
      "source": [
        "print(*df.iloc[:, 0])"
      ],
      "execution_count": 14,
      "outputs": [
        {
          "output_type": "stream",
          "name": "stdout",
          "text": [
            "Night Night Night Night Night Morning Morning Morning Morning Morning Morning Noon Noon Noon Noon Noon Noon Afternoon Afternoon Afternoon Afternoon Afternoon Evening Evening Evening Evening Evening Night Night Night Night Night Morning Morning Morning Morning Morning Morning Noon Noon Noon Noon Noon Noon Afternoon Afternoon Afternoon Afternoon Afternoon Evening Evening Evening Evening Evening Night Night Night Night Night Morning Morning Morning Morning Morning Morning Noon Noon Noon Noon Noon Noon Afternoon Afternoon Afternoon Afternoon Afternoon Evening Evening Evening Evening Evening Night Night Night Night Night Morning Morning Morning Morning Morning Morning Noon Noon Noon Noon Noon Noon Afternoon Afternoon Afternoon Afternoon Afternoon Evening Evening Evening Evening Evening Night Night Night Night Night Morning Morning Morning Morning Morning Morning Noon Noon Noon Noon Noon Noon Afternoon Afternoon Afternoon Afternoon Afternoon Evening Evening Evening Evening Evening\n"
          ]
        }
      ]
    },
    {
      "cell_type": "code",
      "metadata": {
        "id": "Dt6fKGuArduz"
      },
      "source": [
        "from sklearn.preprocessing import OneHotEncoder"
      ],
      "execution_count": 15,
      "outputs": []
    },
    {
      "cell_type": "code",
      "metadata": {
        "id": "4ObkW6aQskJ1"
      },
      "source": [
        "enc = OneHotEncoder()"
      ],
      "execution_count": 16,
      "outputs": []
    },
    {
      "cell_type": "code",
      "metadata": {
        "id": "OXKhjMOnso-a"
      },
      "source": [
        "enc_ft = enc.fit_transform(df[['Hour (Coded)']])"
      ],
      "execution_count": 17,
      "outputs": []
    },
    {
      "cell_type": "code",
      "metadata": {
        "colab": {
          "base_uri": "https://localhost:8080/"
        },
        "id": "7kWy3YAFuCqr",
        "outputId": "d4cdbb41-7c4d-477f-bc51-b6f1eadb19b1"
      },
      "source": [
        "type(enc_ft)"
      ],
      "execution_count": 18,
      "outputs": [
        {
          "output_type": "execute_result",
          "data": {
            "text/plain": [
              "scipy.sparse.csr.csr_matrix"
            ]
          },
          "metadata": {},
          "execution_count": 18
        }
      ]
    },
    {
      "cell_type": "code",
      "metadata": {
        "id": "mKLJNINvsxTP"
      },
      "source": [
        "hour_encoded = pd.DataFrame(enc_ft.toarray())"
      ],
      "execution_count": 19,
      "outputs": []
    },
    {
      "cell_type": "code",
      "metadata": {
        "id": "vrbr9C13wBEq"
      },
      "source": [
        "# print(hour_encoded.to_string())"
      ],
      "execution_count": 20,
      "outputs": []
    },
    {
      "cell_type": "code",
      "metadata": {
        "id": "ChaFIWYasyqv"
      },
      "source": [
        "hour_encoded = hour_encoded.rename(columns={0:'Afternoon',1:'Evening',2:'Morning',3:'Night',4:'Noon'})"
      ],
      "execution_count": 21,
      "outputs": []
    },
    {
      "cell_type": "code",
      "metadata": {
        "id": "ksQqwkyFxdPw"
      },
      "source": [
        "df = hour_encoded.join(df)"
      ],
      "execution_count": 22,
      "outputs": []
    },
    {
      "cell_type": "code",
      "metadata": {
        "colab": {
          "base_uri": "https://localhost:8080/",
          "height": 275
        },
        "id": "ot4WPjbGx3nI",
        "outputId": "57b61198-f129-4ccc-941d-9b14e75e6091"
      },
      "source": [
        "df.head()"
      ],
      "execution_count": 23,
      "outputs": [
        {
          "output_type": "execute_result",
          "data": {
            "text/html": [
              "<div>\n",
              "<style scoped>\n",
              "    .dataframe tbody tr th:only-of-type {\n",
              "        vertical-align: middle;\n",
              "    }\n",
              "\n",
              "    .dataframe tbody tr th {\n",
              "        vertical-align: top;\n",
              "    }\n",
              "\n",
              "    .dataframe thead th {\n",
              "        text-align: right;\n",
              "    }\n",
              "</style>\n",
              "<table border=\"1\" class=\"dataframe\">\n",
              "  <thead>\n",
              "    <tr style=\"text-align: right;\">\n",
              "      <th></th>\n",
              "      <th>Afternoon</th>\n",
              "      <th>Evening</th>\n",
              "      <th>Morning</th>\n",
              "      <th>Night</th>\n",
              "      <th>Noon</th>\n",
              "      <th>Hour (Coded)</th>\n",
              "      <th>Immobilized bus</th>\n",
              "      <th>Broken Truck</th>\n",
              "      <th>Vehicle excess</th>\n",
              "      <th>Accident victim</th>\n",
              "      <th>Running over</th>\n",
              "      <th>Fire vehicles</th>\n",
              "      <th>Occurrence involving freight</th>\n",
              "      <th>Incident involving dangerous freight</th>\n",
              "      <th>Lack of electricity</th>\n",
              "      <th>Fire</th>\n",
              "      <th>Point of flooding</th>\n",
              "      <th>Manifestations</th>\n",
              "      <th>Defect in the network of trolleybuses</th>\n",
              "      <th>Tree on the road</th>\n",
              "      <th>Semaphore off</th>\n",
              "      <th>Intermittent Semaphore</th>\n",
              "      <th>Slowness in traffic (%)</th>\n",
              "    </tr>\n",
              "  </thead>\n",
              "  <tbody>\n",
              "    <tr>\n",
              "      <th>0</th>\n",
              "      <td>0.0</td>\n",
              "      <td>0.0</td>\n",
              "      <td>0.0</td>\n",
              "      <td>1.0</td>\n",
              "      <td>0.0</td>\n",
              "      <td>Night</td>\n",
              "      <td>0</td>\n",
              "      <td>0</td>\n",
              "      <td>0</td>\n",
              "      <td>0</td>\n",
              "      <td>0</td>\n",
              "      <td>0</td>\n",
              "      <td>0</td>\n",
              "      <td>0</td>\n",
              "      <td>0</td>\n",
              "      <td>0</td>\n",
              "      <td>0</td>\n",
              "      <td>0</td>\n",
              "      <td>0</td>\n",
              "      <td>0</td>\n",
              "      <td>0</td>\n",
              "      <td>0</td>\n",
              "      <td>4.1</td>\n",
              "    </tr>\n",
              "    <tr>\n",
              "      <th>1</th>\n",
              "      <td>0.0</td>\n",
              "      <td>0.0</td>\n",
              "      <td>0.0</td>\n",
              "      <td>1.0</td>\n",
              "      <td>0.0</td>\n",
              "      <td>Night</td>\n",
              "      <td>0</td>\n",
              "      <td>0</td>\n",
              "      <td>0</td>\n",
              "      <td>0</td>\n",
              "      <td>0</td>\n",
              "      <td>0</td>\n",
              "      <td>0</td>\n",
              "      <td>0</td>\n",
              "      <td>0</td>\n",
              "      <td>0</td>\n",
              "      <td>0</td>\n",
              "      <td>0</td>\n",
              "      <td>0</td>\n",
              "      <td>0</td>\n",
              "      <td>0</td>\n",
              "      <td>0</td>\n",
              "      <td>6.6</td>\n",
              "    </tr>\n",
              "    <tr>\n",
              "      <th>2</th>\n",
              "      <td>0.0</td>\n",
              "      <td>0.0</td>\n",
              "      <td>0.0</td>\n",
              "      <td>1.0</td>\n",
              "      <td>0.0</td>\n",
              "      <td>Night</td>\n",
              "      <td>0</td>\n",
              "      <td>0</td>\n",
              "      <td>0</td>\n",
              "      <td>0</td>\n",
              "      <td>0</td>\n",
              "      <td>0</td>\n",
              "      <td>0</td>\n",
              "      <td>0</td>\n",
              "      <td>0</td>\n",
              "      <td>0</td>\n",
              "      <td>0</td>\n",
              "      <td>0</td>\n",
              "      <td>0</td>\n",
              "      <td>0</td>\n",
              "      <td>0</td>\n",
              "      <td>0</td>\n",
              "      <td>8.7</td>\n",
              "    </tr>\n",
              "    <tr>\n",
              "      <th>3</th>\n",
              "      <td>0.0</td>\n",
              "      <td>0.0</td>\n",
              "      <td>0.0</td>\n",
              "      <td>1.0</td>\n",
              "      <td>0.0</td>\n",
              "      <td>Night</td>\n",
              "      <td>0</td>\n",
              "      <td>0</td>\n",
              "      <td>0</td>\n",
              "      <td>0</td>\n",
              "      <td>0</td>\n",
              "      <td>0</td>\n",
              "      <td>0</td>\n",
              "      <td>0</td>\n",
              "      <td>0</td>\n",
              "      <td>0</td>\n",
              "      <td>0</td>\n",
              "      <td>0</td>\n",
              "      <td>0</td>\n",
              "      <td>0</td>\n",
              "      <td>0</td>\n",
              "      <td>0</td>\n",
              "      <td>9.2</td>\n",
              "    </tr>\n",
              "    <tr>\n",
              "      <th>4</th>\n",
              "      <td>0.0</td>\n",
              "      <td>0.0</td>\n",
              "      <td>0.0</td>\n",
              "      <td>1.0</td>\n",
              "      <td>0.0</td>\n",
              "      <td>Night</td>\n",
              "      <td>0</td>\n",
              "      <td>0</td>\n",
              "      <td>0</td>\n",
              "      <td>0</td>\n",
              "      <td>0</td>\n",
              "      <td>0</td>\n",
              "      <td>0</td>\n",
              "      <td>0</td>\n",
              "      <td>0</td>\n",
              "      <td>0</td>\n",
              "      <td>0</td>\n",
              "      <td>0</td>\n",
              "      <td>0</td>\n",
              "      <td>0</td>\n",
              "      <td>0</td>\n",
              "      <td>0</td>\n",
              "      <td>11.1</td>\n",
              "    </tr>\n",
              "  </tbody>\n",
              "</table>\n",
              "</div>"
            ],
            "text/plain": [
              "   Afternoon  Evening  ...  Intermittent Semaphore  Slowness in traffic (%)\n",
              "0        0.0      0.0  ...                       0                      4.1\n",
              "1        0.0      0.0  ...                       0                      6.6\n",
              "2        0.0      0.0  ...                       0                      8.7\n",
              "3        0.0      0.0  ...                       0                      9.2\n",
              "4        0.0      0.0  ...                       0                     11.1\n",
              "\n",
              "[5 rows x 23 columns]"
            ]
          },
          "metadata": {},
          "execution_count": 23
        }
      ]
    },
    {
      "cell_type": "code",
      "metadata": {
        "id": "F1XqwvU6x5Ep"
      },
      "source": [
        "del df['Hour (Coded)']"
      ],
      "execution_count": 24,
      "outputs": []
    },
    {
      "cell_type": "code",
      "metadata": {
        "colab": {
          "base_uri": "https://localhost:8080/",
          "height": 490
        },
        "id": "IRZAFtgSyKDa",
        "outputId": "2dc893e3-91e0-46d4-b7d8-e43623e17d50"
      },
      "source": [
        "df"
      ],
      "execution_count": 25,
      "outputs": [
        {
          "output_type": "execute_result",
          "data": {
            "text/html": [
              "<div>\n",
              "<style scoped>\n",
              "    .dataframe tbody tr th:only-of-type {\n",
              "        vertical-align: middle;\n",
              "    }\n",
              "\n",
              "    .dataframe tbody tr th {\n",
              "        vertical-align: top;\n",
              "    }\n",
              "\n",
              "    .dataframe thead th {\n",
              "        text-align: right;\n",
              "    }\n",
              "</style>\n",
              "<table border=\"1\" class=\"dataframe\">\n",
              "  <thead>\n",
              "    <tr style=\"text-align: right;\">\n",
              "      <th></th>\n",
              "      <th>Afternoon</th>\n",
              "      <th>Evening</th>\n",
              "      <th>Morning</th>\n",
              "      <th>Night</th>\n",
              "      <th>Noon</th>\n",
              "      <th>Immobilized bus</th>\n",
              "      <th>Broken Truck</th>\n",
              "      <th>Vehicle excess</th>\n",
              "      <th>Accident victim</th>\n",
              "      <th>Running over</th>\n",
              "      <th>Fire vehicles</th>\n",
              "      <th>Occurrence involving freight</th>\n",
              "      <th>Incident involving dangerous freight</th>\n",
              "      <th>Lack of electricity</th>\n",
              "      <th>Fire</th>\n",
              "      <th>Point of flooding</th>\n",
              "      <th>Manifestations</th>\n",
              "      <th>Defect in the network of trolleybuses</th>\n",
              "      <th>Tree on the road</th>\n",
              "      <th>Semaphore off</th>\n",
              "      <th>Intermittent Semaphore</th>\n",
              "      <th>Slowness in traffic (%)</th>\n",
              "    </tr>\n",
              "  </thead>\n",
              "  <tbody>\n",
              "    <tr>\n",
              "      <th>0</th>\n",
              "      <td>0.0</td>\n",
              "      <td>0.0</td>\n",
              "      <td>0.0</td>\n",
              "      <td>1.0</td>\n",
              "      <td>0.0</td>\n",
              "      <td>0</td>\n",
              "      <td>0</td>\n",
              "      <td>0</td>\n",
              "      <td>0</td>\n",
              "      <td>0</td>\n",
              "      <td>0</td>\n",
              "      <td>0</td>\n",
              "      <td>0</td>\n",
              "      <td>0</td>\n",
              "      <td>0</td>\n",
              "      <td>0</td>\n",
              "      <td>0</td>\n",
              "      <td>0</td>\n",
              "      <td>0</td>\n",
              "      <td>0</td>\n",
              "      <td>0</td>\n",
              "      <td>4.1</td>\n",
              "    </tr>\n",
              "    <tr>\n",
              "      <th>1</th>\n",
              "      <td>0.0</td>\n",
              "      <td>0.0</td>\n",
              "      <td>0.0</td>\n",
              "      <td>1.0</td>\n",
              "      <td>0.0</td>\n",
              "      <td>0</td>\n",
              "      <td>0</td>\n",
              "      <td>0</td>\n",
              "      <td>0</td>\n",
              "      <td>0</td>\n",
              "      <td>0</td>\n",
              "      <td>0</td>\n",
              "      <td>0</td>\n",
              "      <td>0</td>\n",
              "      <td>0</td>\n",
              "      <td>0</td>\n",
              "      <td>0</td>\n",
              "      <td>0</td>\n",
              "      <td>0</td>\n",
              "      <td>0</td>\n",
              "      <td>0</td>\n",
              "      <td>6.6</td>\n",
              "    </tr>\n",
              "    <tr>\n",
              "      <th>2</th>\n",
              "      <td>0.0</td>\n",
              "      <td>0.0</td>\n",
              "      <td>0.0</td>\n",
              "      <td>1.0</td>\n",
              "      <td>0.0</td>\n",
              "      <td>0</td>\n",
              "      <td>0</td>\n",
              "      <td>0</td>\n",
              "      <td>0</td>\n",
              "      <td>0</td>\n",
              "      <td>0</td>\n",
              "      <td>0</td>\n",
              "      <td>0</td>\n",
              "      <td>0</td>\n",
              "      <td>0</td>\n",
              "      <td>0</td>\n",
              "      <td>0</td>\n",
              "      <td>0</td>\n",
              "      <td>0</td>\n",
              "      <td>0</td>\n",
              "      <td>0</td>\n",
              "      <td>8.7</td>\n",
              "    </tr>\n",
              "    <tr>\n",
              "      <th>3</th>\n",
              "      <td>0.0</td>\n",
              "      <td>0.0</td>\n",
              "      <td>0.0</td>\n",
              "      <td>1.0</td>\n",
              "      <td>0.0</td>\n",
              "      <td>0</td>\n",
              "      <td>0</td>\n",
              "      <td>0</td>\n",
              "      <td>0</td>\n",
              "      <td>0</td>\n",
              "      <td>0</td>\n",
              "      <td>0</td>\n",
              "      <td>0</td>\n",
              "      <td>0</td>\n",
              "      <td>0</td>\n",
              "      <td>0</td>\n",
              "      <td>0</td>\n",
              "      <td>0</td>\n",
              "      <td>0</td>\n",
              "      <td>0</td>\n",
              "      <td>0</td>\n",
              "      <td>9.2</td>\n",
              "    </tr>\n",
              "    <tr>\n",
              "      <th>4</th>\n",
              "      <td>0.0</td>\n",
              "      <td>0.0</td>\n",
              "      <td>0.0</td>\n",
              "      <td>1.0</td>\n",
              "      <td>0.0</td>\n",
              "      <td>0</td>\n",
              "      <td>0</td>\n",
              "      <td>0</td>\n",
              "      <td>0</td>\n",
              "      <td>0</td>\n",
              "      <td>0</td>\n",
              "      <td>0</td>\n",
              "      <td>0</td>\n",
              "      <td>0</td>\n",
              "      <td>0</td>\n",
              "      <td>0</td>\n",
              "      <td>0</td>\n",
              "      <td>0</td>\n",
              "      <td>0</td>\n",
              "      <td>0</td>\n",
              "      <td>0</td>\n",
              "      <td>11.1</td>\n",
              "    </tr>\n",
              "    <tr>\n",
              "      <th>...</th>\n",
              "      <td>...</td>\n",
              "      <td>...</td>\n",
              "      <td>...</td>\n",
              "      <td>...</td>\n",
              "      <td>...</td>\n",
              "      <td>...</td>\n",
              "      <td>...</td>\n",
              "      <td>...</td>\n",
              "      <td>...</td>\n",
              "      <td>...</td>\n",
              "      <td>...</td>\n",
              "      <td>...</td>\n",
              "      <td>...</td>\n",
              "      <td>...</td>\n",
              "      <td>...</td>\n",
              "      <td>...</td>\n",
              "      <td>...</td>\n",
              "      <td>...</td>\n",
              "      <td>...</td>\n",
              "      <td>...</td>\n",
              "      <td>...</td>\n",
              "      <td>...</td>\n",
              "    </tr>\n",
              "    <tr>\n",
              "      <th>130</th>\n",
              "      <td>0.0</td>\n",
              "      <td>1.0</td>\n",
              "      <td>0.0</td>\n",
              "      <td>0.0</td>\n",
              "      <td>0.0</td>\n",
              "      <td>1</td>\n",
              "      <td>0</td>\n",
              "      <td>0</td>\n",
              "      <td>0</td>\n",
              "      <td>1</td>\n",
              "      <td>0</td>\n",
              "      <td>0</td>\n",
              "      <td>0</td>\n",
              "      <td>0</td>\n",
              "      <td>0</td>\n",
              "      <td>0</td>\n",
              "      <td>0</td>\n",
              "      <td>1</td>\n",
              "      <td>0</td>\n",
              "      <td>0</td>\n",
              "      <td>0</td>\n",
              "      <td>17.8</td>\n",
              "    </tr>\n",
              "    <tr>\n",
              "      <th>131</th>\n",
              "      <td>0.0</td>\n",
              "      <td>1.0</td>\n",
              "      <td>0.0</td>\n",
              "      <td>0.0</td>\n",
              "      <td>0.0</td>\n",
              "      <td>0</td>\n",
              "      <td>0</td>\n",
              "      <td>0</td>\n",
              "      <td>2</td>\n",
              "      <td>0</td>\n",
              "      <td>0</td>\n",
              "      <td>0</td>\n",
              "      <td>0</td>\n",
              "      <td>0</td>\n",
              "      <td>0</td>\n",
              "      <td>0</td>\n",
              "      <td>0</td>\n",
              "      <td>0</td>\n",
              "      <td>0</td>\n",
              "      <td>0</td>\n",
              "      <td>0</td>\n",
              "      <td>18.1</td>\n",
              "    </tr>\n",
              "    <tr>\n",
              "      <th>132</th>\n",
              "      <td>0.0</td>\n",
              "      <td>1.0</td>\n",
              "      <td>0.0</td>\n",
              "      <td>0.0</td>\n",
              "      <td>0.0</td>\n",
              "      <td>1</td>\n",
              "      <td>0</td>\n",
              "      <td>0</td>\n",
              "      <td>2</td>\n",
              "      <td>0</td>\n",
              "      <td>0</td>\n",
              "      <td>0</td>\n",
              "      <td>0</td>\n",
              "      <td>0</td>\n",
              "      <td>0</td>\n",
              "      <td>0</td>\n",
              "      <td>0</td>\n",
              "      <td>0</td>\n",
              "      <td>0</td>\n",
              "      <td>0</td>\n",
              "      <td>0</td>\n",
              "      <td>17.7</td>\n",
              "    </tr>\n",
              "    <tr>\n",
              "      <th>133</th>\n",
              "      <td>0.0</td>\n",
              "      <td>1.0</td>\n",
              "      <td>0.0</td>\n",
              "      <td>0.0</td>\n",
              "      <td>0.0</td>\n",
              "      <td>0</td>\n",
              "      <td>4</td>\n",
              "      <td>0</td>\n",
              "      <td>0</td>\n",
              "      <td>0</td>\n",
              "      <td>0</td>\n",
              "      <td>0</td>\n",
              "      <td>0</td>\n",
              "      <td>0</td>\n",
              "      <td>0</td>\n",
              "      <td>0</td>\n",
              "      <td>1</td>\n",
              "      <td>0</td>\n",
              "      <td>0</td>\n",
              "      <td>1</td>\n",
              "      <td>0</td>\n",
              "      <td>17.4</td>\n",
              "    </tr>\n",
              "    <tr>\n",
              "      <th>134</th>\n",
              "      <td>0.0</td>\n",
              "      <td>1.0</td>\n",
              "      <td>0.0</td>\n",
              "      <td>0.0</td>\n",
              "      <td>0.0</td>\n",
              "      <td>0</td>\n",
              "      <td>0</td>\n",
              "      <td>0</td>\n",
              "      <td>0</td>\n",
              "      <td>0</td>\n",
              "      <td>0</td>\n",
              "      <td>0</td>\n",
              "      <td>0</td>\n",
              "      <td>0</td>\n",
              "      <td>0</td>\n",
              "      <td>0</td>\n",
              "      <td>0</td>\n",
              "      <td>0</td>\n",
              "      <td>0</td>\n",
              "      <td>0</td>\n",
              "      <td>0</td>\n",
              "      <td>12.1</td>\n",
              "    </tr>\n",
              "  </tbody>\n",
              "</table>\n",
              "<p>135 rows × 22 columns</p>\n",
              "</div>"
            ],
            "text/plain": [
              "     Afternoon  Evening  ...  Intermittent Semaphore  Slowness in traffic (%)\n",
              "0          0.0      0.0  ...                       0                      4.1\n",
              "1          0.0      0.0  ...                       0                      6.6\n",
              "2          0.0      0.0  ...                       0                      8.7\n",
              "3          0.0      0.0  ...                       0                      9.2\n",
              "4          0.0      0.0  ...                       0                     11.1\n",
              "..         ...      ...  ...                     ...                      ...\n",
              "130        0.0      1.0  ...                       0                     17.8\n",
              "131        0.0      1.0  ...                       0                     18.1\n",
              "132        0.0      1.0  ...                       0                     17.7\n",
              "133        0.0      1.0  ...                       0                     17.4\n",
              "134        0.0      1.0  ...                       0                     12.1\n",
              "\n",
              "[135 rows x 22 columns]"
            ]
          },
          "metadata": {},
          "execution_count": 25
        }
      ]
    },
    {
      "cell_type": "code",
      "metadata": {
        "colab": {
          "base_uri": "https://localhost:8080/",
          "height": 1000
        },
        "id": "h_5jSo04yLLn",
        "outputId": "cb13042c-a709-4c55-e7f6-6b1c1ee5e6ef"
      },
      "source": [
        "df.corr()"
      ],
      "execution_count": 26,
      "outputs": [
        {
          "output_type": "execute_result",
          "data": {
            "text/html": [
              "<div>\n",
              "<style scoped>\n",
              "    .dataframe tbody tr th:only-of-type {\n",
              "        vertical-align: middle;\n",
              "    }\n",
              "\n",
              "    .dataframe tbody tr th {\n",
              "        vertical-align: top;\n",
              "    }\n",
              "\n",
              "    .dataframe thead th {\n",
              "        text-align: right;\n",
              "    }\n",
              "</style>\n",
              "<table border=\"1\" class=\"dataframe\">\n",
              "  <thead>\n",
              "    <tr style=\"text-align: right;\">\n",
              "      <th></th>\n",
              "      <th>Afternoon</th>\n",
              "      <th>Evening</th>\n",
              "      <th>Morning</th>\n",
              "      <th>Night</th>\n",
              "      <th>Noon</th>\n",
              "      <th>Immobilized bus</th>\n",
              "      <th>Broken Truck</th>\n",
              "      <th>Vehicle excess</th>\n",
              "      <th>Accident victim</th>\n",
              "      <th>Running over</th>\n",
              "      <th>Fire vehicles</th>\n",
              "      <th>Occurrence involving freight</th>\n",
              "      <th>Incident involving dangerous freight</th>\n",
              "      <th>Lack of electricity</th>\n",
              "      <th>Fire</th>\n",
              "      <th>Point of flooding</th>\n",
              "      <th>Manifestations</th>\n",
              "      <th>Defect in the network of trolleybuses</th>\n",
              "      <th>Tree on the road</th>\n",
              "      <th>Semaphore off</th>\n",
              "      <th>Intermittent Semaphore</th>\n",
              "      <th>Slowness in traffic (%)</th>\n",
              "    </tr>\n",
              "  </thead>\n",
              "  <tbody>\n",
              "    <tr>\n",
              "      <th>Afternoon</th>\n",
              "      <td>1.000000</td>\n",
              "      <td>-0.227273</td>\n",
              "      <td>-0.254824</td>\n",
              "      <td>-0.227273</td>\n",
              "      <td>-0.254824</td>\n",
              "      <td>0.071991</td>\n",
              "      <td>0.054657</td>\n",
              "      <td>0.029157</td>\n",
              "      <td>0.067212</td>\n",
              "      <td>0.057257</td>\n",
              "      <td>-0.041183</td>\n",
              "      <td>-0.041183</td>\n",
              "      <td>-0.041183</td>\n",
              "      <td>-0.036535</td>\n",
              "      <td>-0.041183</td>\n",
              "      <td>-0.052702</td>\n",
              "      <td>-0.111485</td>\n",
              "      <td>-0.040682</td>\n",
              "      <td>-0.010281</td>\n",
              "      <td>0.076377</td>\n",
              "      <td>-0.058461</td>\n",
              "      <td>0.143462</td>\n",
              "    </tr>\n",
              "    <tr>\n",
              "      <th>Evening</th>\n",
              "      <td>-0.227273</td>\n",
              "      <td>1.000000</td>\n",
              "      <td>-0.254824</td>\n",
              "      <td>-0.227273</td>\n",
              "      <td>-0.254824</td>\n",
              "      <td>0.042980</td>\n",
              "      <td>0.019934</td>\n",
              "      <td>-0.083304</td>\n",
              "      <td>0.039716</td>\n",
              "      <td>0.002045</td>\n",
              "      <td>0.181207</td>\n",
              "      <td>-0.041183</td>\n",
              "      <td>-0.041183</td>\n",
              "      <td>0.266987</td>\n",
              "      <td>-0.041183</td>\n",
              "      <td>0.323173</td>\n",
              "      <td>0.060521</td>\n",
              "      <td>-0.064052</td>\n",
              "      <td>-0.010281</td>\n",
              "      <td>0.158865</td>\n",
              "      <td>-0.058461</td>\n",
              "      <td>0.694871</td>\n",
              "    </tr>\n",
              "    <tr>\n",
              "      <th>Morning</th>\n",
              "      <td>-0.254824</td>\n",
              "      <td>-0.254824</td>\n",
              "      <td>1.000000</td>\n",
              "      <td>-0.254824</td>\n",
              "      <td>-0.285714</td>\n",
              "      <td>0.021083</td>\n",
              "      <td>0.045061</td>\n",
              "      <td>0.011675</td>\n",
              "      <td>-0.094200</td>\n",
              "      <td>0.126104</td>\n",
              "      <td>-0.046176</td>\n",
              "      <td>-0.046176</td>\n",
              "      <td>-0.046176</td>\n",
              "      <td>-0.090593</td>\n",
              "      <td>0.161615</td>\n",
              "      <td>-0.089194</td>\n",
              "      <td>-0.044643</td>\n",
              "      <td>-0.084918</td>\n",
              "      <td>-0.028820</td>\n",
              "      <td>-0.068509</td>\n",
              "      <td>-0.065547</td>\n",
              "      <td>-0.214182</td>\n",
              "    </tr>\n",
              "    <tr>\n",
              "      <th>Night</th>\n",
              "      <td>-0.227273</td>\n",
              "      <td>-0.227273</td>\n",
              "      <td>-0.254824</td>\n",
              "      <td>1.000000</td>\n",
              "      <td>-0.254824</td>\n",
              "      <td>-0.131089</td>\n",
              "      <td>-0.223131</td>\n",
              "      <td>0.029157</td>\n",
              "      <td>-0.180250</td>\n",
              "      <td>-0.053168</td>\n",
              "      <td>-0.041183</td>\n",
              "      <td>-0.041183</td>\n",
              "      <td>-0.041183</td>\n",
              "      <td>-0.112415</td>\n",
              "      <td>-0.041183</td>\n",
              "      <td>-0.079550</td>\n",
              "      <td>0.060521</td>\n",
              "      <td>0.263133</td>\n",
              "      <td>0.174785</td>\n",
              "      <td>-0.088598</td>\n",
              "      <td>0.257226</td>\n",
              "      <td>-0.394349</td>\n",
              "    </tr>\n",
              "    <tr>\n",
              "      <th>Noon</th>\n",
              "      <td>-0.254824</td>\n",
              "      <td>-0.254824</td>\n",
              "      <td>-0.285714</td>\n",
              "      <td>-0.254824</td>\n",
              "      <td>1.000000</td>\n",
              "      <td>-0.006024</td>\n",
              "      <td>0.093727</td>\n",
              "      <td>0.011675</td>\n",
              "      <td>0.162708</td>\n",
              "      <td>-0.131836</td>\n",
              "      <td>-0.046176</td>\n",
              "      <td>0.161615</td>\n",
              "      <td>0.161615</td>\n",
              "      <td>-0.019694</td>\n",
              "      <td>-0.046176</td>\n",
              "      <td>-0.089194</td>\n",
              "      <td>0.035714</td>\n",
              "      <td>-0.063082</td>\n",
              "      <td>-0.115278</td>\n",
              "      <td>-0.068509</td>\n",
              "      <td>-0.065547</td>\n",
              "      <td>-0.200656</td>\n",
              "    </tr>\n",
              "    <tr>\n",
              "      <th>Immobilized bus</th>\n",
              "      <td>0.071991</td>\n",
              "      <td>0.042980</td>\n",
              "      <td>0.021083</td>\n",
              "      <td>-0.131089</td>\n",
              "      <td>-0.006024</td>\n",
              "      <td>1.000000</td>\n",
              "      <td>0.141517</td>\n",
              "      <td>0.175262</td>\n",
              "      <td>0.025638</td>\n",
              "      <td>0.246290</td>\n",
              "      <td>0.086644</td>\n",
              "      <td>0.086644</td>\n",
              "      <td>0.218071</td>\n",
              "      <td>0.057134</td>\n",
              "      <td>-0.044782</td>\n",
              "      <td>-0.054769</td>\n",
              "      <td>0.082074</td>\n",
              "      <td>0.019847</td>\n",
              "      <td>-0.002430</td>\n",
              "      <td>0.005055</td>\n",
              "      <td>0.029712</td>\n",
              "      <td>0.101143</td>\n",
              "    </tr>\n",
              "    <tr>\n",
              "      <th>Broken Truck</th>\n",
              "      <td>0.054657</td>\n",
              "      <td>0.019934</td>\n",
              "      <td>0.045061</td>\n",
              "      <td>-0.223131</td>\n",
              "      <td>0.093727</td>\n",
              "      <td>0.141517</td>\n",
              "      <td>1.000000</td>\n",
              "      <td>-0.059513</td>\n",
              "      <td>0.264286</td>\n",
              "      <td>0.117450</td>\n",
              "      <td>0.009904</td>\n",
              "      <td>0.088556</td>\n",
              "      <td>0.088556</td>\n",
              "      <td>0.107544</td>\n",
              "      <td>0.009904</td>\n",
              "      <td>0.142570</td>\n",
              "      <td>0.087644</td>\n",
              "      <td>0.040531</td>\n",
              "      <td>-0.008000</td>\n",
              "      <td>0.220850</td>\n",
              "      <td>-0.041765</td>\n",
              "      <td>0.131998</td>\n",
              "    </tr>\n",
              "    <tr>\n",
              "      <th>Vehicle excess</th>\n",
              "      <td>0.029157</td>\n",
              "      <td>-0.083304</td>\n",
              "      <td>0.011675</td>\n",
              "      <td>0.029157</td>\n",
              "      <td>0.011675</td>\n",
              "      <td>0.175262</td>\n",
              "      <td>-0.059513</td>\n",
              "      <td>1.000000</td>\n",
              "      <td>0.082586</td>\n",
              "      <td>-0.059963</td>\n",
              "      <td>-0.015095</td>\n",
              "      <td>-0.015095</td>\n",
              "      <td>-0.015095</td>\n",
              "      <td>-0.041205</td>\n",
              "      <td>-0.015095</td>\n",
              "      <td>-0.029158</td>\n",
              "      <td>-0.040864</td>\n",
              "      <td>0.004362</td>\n",
              "      <td>-0.037686</td>\n",
              "      <td>-0.047592</td>\n",
              "      <td>-0.021428</td>\n",
              "      <td>-0.045297</td>\n",
              "    </tr>\n",
              "    <tr>\n",
              "      <th>Accident victim</th>\n",
              "      <td>0.067212</td>\n",
              "      <td>0.039716</td>\n",
              "      <td>-0.094200</td>\n",
              "      <td>-0.180250</td>\n",
              "      <td>0.162708</td>\n",
              "      <td>0.025638</td>\n",
              "      <td>0.264286</td>\n",
              "      <td>0.082586</td>\n",
              "      <td>1.000000</td>\n",
              "      <td>0.038484</td>\n",
              "      <td>0.071968</td>\n",
              "      <td>-0.052592</td>\n",
              "      <td>0.071968</td>\n",
              "      <td>0.111446</td>\n",
              "      <td>-0.052592</td>\n",
              "      <td>0.048789</td>\n",
              "      <td>-0.094200</td>\n",
              "      <td>0.077375</td>\n",
              "      <td>-0.079469</td>\n",
              "      <td>0.134497</td>\n",
              "      <td>-0.074656</td>\n",
              "      <td>0.121730</td>\n",
              "    </tr>\n",
              "    <tr>\n",
              "      <th>Running over</th>\n",
              "      <td>0.057257</td>\n",
              "      <td>0.002045</td>\n",
              "      <td>0.126104</td>\n",
              "      <td>-0.053168</td>\n",
              "      <td>-0.131836</td>\n",
              "      <td>0.246290</td>\n",
              "      <td>0.117450</td>\n",
              "      <td>-0.059963</td>\n",
              "      <td>0.038484</td>\n",
              "      <td>1.000000</td>\n",
              "      <td>-0.029644</td>\n",
              "      <td>-0.029644</td>\n",
              "      <td>-0.029644</td>\n",
              "      <td>-0.038246</td>\n",
              "      <td>-0.029644</td>\n",
              "      <td>-0.027065</td>\n",
              "      <td>0.016480</td>\n",
              "      <td>0.008567</td>\n",
              "      <td>0.030065</td>\n",
              "      <td>-0.093461</td>\n",
              "      <td>0.135446</td>\n",
              "      <td>-0.001133</td>\n",
              "    </tr>\n",
              "    <tr>\n",
              "      <th>Fire vehicles</th>\n",
              "      <td>-0.041183</td>\n",
              "      <td>0.181207</td>\n",
              "      <td>-0.046176</td>\n",
              "      <td>-0.041183</td>\n",
              "      <td>-0.046176</td>\n",
              "      <td>0.086644</td>\n",
              "      <td>0.009904</td>\n",
              "      <td>-0.015095</td>\n",
              "      <td>0.071968</td>\n",
              "      <td>-0.029644</td>\n",
              "      <td>1.000000</td>\n",
              "      <td>-0.007463</td>\n",
              "      <td>-0.007463</td>\n",
              "      <td>-0.020370</td>\n",
              "      <td>-0.007463</td>\n",
              "      <td>-0.014415</td>\n",
              "      <td>-0.020202</td>\n",
              "      <td>-0.024311</td>\n",
              "      <td>-0.018631</td>\n",
              "      <td>-0.023528</td>\n",
              "      <td>-0.010593</td>\n",
              "      <td>0.134103</td>\n",
              "    </tr>\n",
              "    <tr>\n",
              "      <th>Occurrence involving freight</th>\n",
              "      <td>-0.041183</td>\n",
              "      <td>-0.041183</td>\n",
              "      <td>-0.046176</td>\n",
              "      <td>-0.041183</td>\n",
              "      <td>0.161615</td>\n",
              "      <td>0.086644</td>\n",
              "      <td>0.088556</td>\n",
              "      <td>-0.015095</td>\n",
              "      <td>-0.052592</td>\n",
              "      <td>-0.029644</td>\n",
              "      <td>-0.007463</td>\n",
              "      <td>1.000000</td>\n",
              "      <td>-0.007463</td>\n",
              "      <td>-0.020370</td>\n",
              "      <td>-0.007463</td>\n",
              "      <td>-0.014415</td>\n",
              "      <td>0.369406</td>\n",
              "      <td>-0.024311</td>\n",
              "      <td>-0.018631</td>\n",
              "      <td>0.163313</td>\n",
              "      <td>-0.010593</td>\n",
              "      <td>0.026791</td>\n",
              "    </tr>\n",
              "    <tr>\n",
              "      <th>Incident involving dangerous freight</th>\n",
              "      <td>-0.041183</td>\n",
              "      <td>-0.041183</td>\n",
              "      <td>-0.046176</td>\n",
              "      <td>-0.041183</td>\n",
              "      <td>0.161615</td>\n",
              "      <td>0.218071</td>\n",
              "      <td>0.088556</td>\n",
              "      <td>-0.015095</td>\n",
              "      <td>0.071968</td>\n",
              "      <td>-0.029644</td>\n",
              "      <td>-0.007463</td>\n",
              "      <td>-0.007463</td>\n",
              "      <td>1.000000</td>\n",
              "      <td>-0.020370</td>\n",
              "      <td>-0.007463</td>\n",
              "      <td>-0.014415</td>\n",
              "      <td>0.369406</td>\n",
              "      <td>-0.024311</td>\n",
              "      <td>-0.018631</td>\n",
              "      <td>-0.023528</td>\n",
              "      <td>-0.010593</td>\n",
              "      <td>0.000957</td>\n",
              "    </tr>\n",
              "    <tr>\n",
              "      <th>Lack of electricity</th>\n",
              "      <td>-0.036535</td>\n",
              "      <td>0.266987</td>\n",
              "      <td>-0.090593</td>\n",
              "      <td>-0.112415</td>\n",
              "      <td>-0.019694</td>\n",
              "      <td>0.057134</td>\n",
              "      <td>0.107544</td>\n",
              "      <td>-0.041205</td>\n",
              "      <td>0.111446</td>\n",
              "      <td>-0.038246</td>\n",
              "      <td>-0.020370</td>\n",
              "      <td>-0.020370</td>\n",
              "      <td>-0.020370</td>\n",
              "      <td>1.000000</td>\n",
              "      <td>-0.020370</td>\n",
              "      <td>0.334149</td>\n",
              "      <td>-0.055144</td>\n",
              "      <td>-0.030237</td>\n",
              "      <td>-0.050855</td>\n",
              "      <td>0.605162</td>\n",
              "      <td>-0.028916</td>\n",
              "      <td>0.436569</td>\n",
              "    </tr>\n",
              "    <tr>\n",
              "      <th>Fire</th>\n",
              "      <td>-0.041183</td>\n",
              "      <td>-0.041183</td>\n",
              "      <td>0.161615</td>\n",
              "      <td>-0.041183</td>\n",
              "      <td>-0.046176</td>\n",
              "      <td>-0.044782</td>\n",
              "      <td>0.009904</td>\n",
              "      <td>-0.015095</td>\n",
              "      <td>-0.052592</td>\n",
              "      <td>-0.029644</td>\n",
              "      <td>-0.007463</td>\n",
              "      <td>-0.007463</td>\n",
              "      <td>-0.007463</td>\n",
              "      <td>-0.020370</td>\n",
              "      <td>1.000000</td>\n",
              "      <td>-0.014415</td>\n",
              "      <td>-0.020202</td>\n",
              "      <td>-0.024311</td>\n",
              "      <td>-0.018631</td>\n",
              "      <td>-0.023528</td>\n",
              "      <td>-0.010593</td>\n",
              "      <td>-0.046737</td>\n",
              "    </tr>\n",
              "    <tr>\n",
              "      <th>Point of flooding</th>\n",
              "      <td>-0.052702</td>\n",
              "      <td>0.323173</td>\n",
              "      <td>-0.089194</td>\n",
              "      <td>-0.079550</td>\n",
              "      <td>-0.089194</td>\n",
              "      <td>-0.054769</td>\n",
              "      <td>0.142570</td>\n",
              "      <td>-0.029158</td>\n",
              "      <td>0.048789</td>\n",
              "      <td>-0.027065</td>\n",
              "      <td>-0.014415</td>\n",
              "      <td>-0.014415</td>\n",
              "      <td>-0.014415</td>\n",
              "      <td>0.334149</td>\n",
              "      <td>-0.014415</td>\n",
              "      <td>1.000000</td>\n",
              "      <td>0.102085</td>\n",
              "      <td>0.131980</td>\n",
              "      <td>-0.035987</td>\n",
              "      <td>0.270344</td>\n",
              "      <td>-0.020462</td>\n",
              "      <td>0.420016</td>\n",
              "    </tr>\n",
              "    <tr>\n",
              "      <th>Manifestations</th>\n",
              "      <td>-0.111485</td>\n",
              "      <td>0.060521</td>\n",
              "      <td>-0.044643</td>\n",
              "      <td>0.060521</td>\n",
              "      <td>0.035714</td>\n",
              "      <td>0.082074</td>\n",
              "      <td>0.087644</td>\n",
              "      <td>-0.040864</td>\n",
              "      <td>-0.094200</td>\n",
              "      <td>0.016480</td>\n",
              "      <td>-0.020202</td>\n",
              "      <td>0.369406</td>\n",
              "      <td>0.369406</td>\n",
              "      <td>-0.055144</td>\n",
              "      <td>-0.020202</td>\n",
              "      <td>0.102085</td>\n",
              "      <td>1.000000</td>\n",
              "      <td>0.057017</td>\n",
              "      <td>0.111676</td>\n",
              "      <td>0.080819</td>\n",
              "      <td>-0.028677</td>\n",
              "      <td>0.066377</td>\n",
              "    </tr>\n",
              "    <tr>\n",
              "      <th>Defect in the network of trolleybuses</th>\n",
              "      <td>-0.040682</td>\n",
              "      <td>-0.064052</td>\n",
              "      <td>-0.084918</td>\n",
              "      <td>0.263133</td>\n",
              "      <td>-0.063082</td>\n",
              "      <td>0.019847</td>\n",
              "      <td>0.040531</td>\n",
              "      <td>0.004362</td>\n",
              "      <td>0.077375</td>\n",
              "      <td>0.008567</td>\n",
              "      <td>-0.024311</td>\n",
              "      <td>-0.024311</td>\n",
              "      <td>-0.024311</td>\n",
              "      <td>-0.030237</td>\n",
              "      <td>-0.024311</td>\n",
              "      <td>0.131980</td>\n",
              "      <td>0.057017</td>\n",
              "      <td>1.000000</td>\n",
              "      <td>0.071461</td>\n",
              "      <td>0.139333</td>\n",
              "      <td>-0.034510</td>\n",
              "      <td>-0.147035</td>\n",
              "    </tr>\n",
              "    <tr>\n",
              "      <th>Tree on the road</th>\n",
              "      <td>-0.010281</td>\n",
              "      <td>-0.010281</td>\n",
              "      <td>-0.028820</td>\n",
              "      <td>0.174785</td>\n",
              "      <td>-0.115278</td>\n",
              "      <td>-0.002430</td>\n",
              "      <td>-0.008000</td>\n",
              "      <td>-0.037686</td>\n",
              "      <td>-0.079469</td>\n",
              "      <td>0.030065</td>\n",
              "      <td>-0.018631</td>\n",
              "      <td>-0.018631</td>\n",
              "      <td>-0.018631</td>\n",
              "      <td>-0.050855</td>\n",
              "      <td>-0.018631</td>\n",
              "      <td>-0.035987</td>\n",
              "      <td>0.111676</td>\n",
              "      <td>0.071461</td>\n",
              "      <td>1.000000</td>\n",
              "      <td>-0.058738</td>\n",
              "      <td>-0.026447</td>\n",
              "      <td>-0.098489</td>\n",
              "    </tr>\n",
              "    <tr>\n",
              "      <th>Semaphore off</th>\n",
              "      <td>0.076377</td>\n",
              "      <td>0.158865</td>\n",
              "      <td>-0.068509</td>\n",
              "      <td>-0.088598</td>\n",
              "      <td>-0.068509</td>\n",
              "      <td>0.005055</td>\n",
              "      <td>0.220850</td>\n",
              "      <td>-0.047592</td>\n",
              "      <td>0.134497</td>\n",
              "      <td>-0.093461</td>\n",
              "      <td>-0.023528</td>\n",
              "      <td>0.163313</td>\n",
              "      <td>-0.023528</td>\n",
              "      <td>0.605162</td>\n",
              "      <td>-0.023528</td>\n",
              "      <td>0.270344</td>\n",
              "      <td>0.080819</td>\n",
              "      <td>0.139333</td>\n",
              "      <td>-0.058738</td>\n",
              "      <td>1.000000</td>\n",
              "      <td>-0.033399</td>\n",
              "      <td>0.347242</td>\n",
              "    </tr>\n",
              "    <tr>\n",
              "      <th>Intermittent Semaphore</th>\n",
              "      <td>-0.058461</td>\n",
              "      <td>-0.058461</td>\n",
              "      <td>-0.065547</td>\n",
              "      <td>0.257226</td>\n",
              "      <td>-0.065547</td>\n",
              "      <td>0.029712</td>\n",
              "      <td>-0.041765</td>\n",
              "      <td>-0.021428</td>\n",
              "      <td>-0.074656</td>\n",
              "      <td>0.135446</td>\n",
              "      <td>-0.010593</td>\n",
              "      <td>-0.010593</td>\n",
              "      <td>-0.010593</td>\n",
              "      <td>-0.028916</td>\n",
              "      <td>-0.010593</td>\n",
              "      <td>-0.020462</td>\n",
              "      <td>-0.028677</td>\n",
              "      <td>-0.034510</td>\n",
              "      <td>-0.026447</td>\n",
              "      <td>-0.033399</td>\n",
              "      <td>1.000000</td>\n",
              "      <td>-0.119942</td>\n",
              "    </tr>\n",
              "    <tr>\n",
              "      <th>Slowness in traffic (%)</th>\n",
              "      <td>0.143462</td>\n",
              "      <td>0.694871</td>\n",
              "      <td>-0.214182</td>\n",
              "      <td>-0.394349</td>\n",
              "      <td>-0.200656</td>\n",
              "      <td>0.101143</td>\n",
              "      <td>0.131998</td>\n",
              "      <td>-0.045297</td>\n",
              "      <td>0.121730</td>\n",
              "      <td>-0.001133</td>\n",
              "      <td>0.134103</td>\n",
              "      <td>0.026791</td>\n",
              "      <td>0.000957</td>\n",
              "      <td>0.436569</td>\n",
              "      <td>-0.046737</td>\n",
              "      <td>0.420016</td>\n",
              "      <td>0.066377</td>\n",
              "      <td>-0.147035</td>\n",
              "      <td>-0.098489</td>\n",
              "      <td>0.347242</td>\n",
              "      <td>-0.119942</td>\n",
              "      <td>1.000000</td>\n",
              "    </tr>\n",
              "  </tbody>\n",
              "</table>\n",
              "</div>"
            ],
            "text/plain": [
              "                                       Afternoon  ...  Slowness in traffic (%)\n",
              "Afternoon                               1.000000  ...                 0.143462\n",
              "Evening                                -0.227273  ...                 0.694871\n",
              "Morning                                -0.254824  ...                -0.214182\n",
              "Night                                  -0.227273  ...                -0.394349\n",
              "Noon                                   -0.254824  ...                -0.200656\n",
              "Immobilized bus                         0.071991  ...                 0.101143\n",
              "Broken Truck                            0.054657  ...                 0.131998\n",
              "Vehicle excess                          0.029157  ...                -0.045297\n",
              "Accident victim                         0.067212  ...                 0.121730\n",
              "Running over                            0.057257  ...                -0.001133\n",
              "Fire vehicles                          -0.041183  ...                 0.134103\n",
              "Occurrence involving freight           -0.041183  ...                 0.026791\n",
              "Incident involving dangerous freight   -0.041183  ...                 0.000957\n",
              "Lack of electricity                    -0.036535  ...                 0.436569\n",
              "Fire                                   -0.041183  ...                -0.046737\n",
              "Point of flooding                      -0.052702  ...                 0.420016\n",
              "Manifestations                         -0.111485  ...                 0.066377\n",
              "Defect in the network of trolleybuses  -0.040682  ...                -0.147035\n",
              "Tree on the road                       -0.010281  ...                -0.098489\n",
              "Semaphore off                           0.076377  ...                 0.347242\n",
              "Intermittent Semaphore                 -0.058461  ...                -0.119942\n",
              "Slowness in traffic (%)                 0.143462  ...                 1.000000\n",
              "\n",
              "[22 rows x 22 columns]"
            ]
          },
          "metadata": {},
          "execution_count": 26
        }
      ]
    },
    {
      "cell_type": "code",
      "metadata": {
        "id": "NA8gZNNsyaag"
      },
      "source": [
        "import matplotlib.pyplot as plt\n",
        "import seaborn as sns"
      ],
      "execution_count": 27,
      "outputs": []
    },
    {
      "cell_type": "code",
      "metadata": {
        "colab": {
          "base_uri": "https://localhost:8080/",
          "height": 662
        },
        "id": "rwVoBClByr9G",
        "outputId": "1c92d382-097b-4108-ec2f-22822f10d95b"
      },
      "source": [
        "plt.figure(figsize=(12, 8))\n",
        "sns.heatmap(df.corr(), cmap='Blues', annot=True)\n",
        "plt.show()"
      ],
      "execution_count": 28,
      "outputs": [
        {
          "output_type": "display_data",
          "data": {
            "image/png": "[encoded data removed]",
            "text/plain": [
              "<Figure size 864x576 with 2 Axes>"
            ]
          },
          "metadata": {
            "needs_background": "light"
          }
        }
      ]
    },
    {
      "cell_type": "code",
      "metadata": {
        "colab": {
          "base_uri": "https://localhost:8080/"
        },
        "id": "b9Sctd87ysvB",
        "outputId": "24bcf802-c73f-4e37-c515-99a68ab4042e"
      },
      "source": [
        "corr_matrix = df.corr()\n",
        "corr_matrix['Slowness in traffic (%)'].sort_values(ascending=False)"
      ],
      "execution_count": 29,
      "outputs": [
        {
          "output_type": "execute_result",
          "data": {
            "text/plain": [
              "Slowness in traffic (%)                  1.000000\n",
              "Evening                                  0.694871\n",
              "Lack of electricity                      0.436569\n",
              "Point of flooding                        0.420016\n",
              "Semaphore off                            0.347242\n",
              "Afternoon                                0.143462\n",
              "Fire vehicles                            0.134103\n",
              "Broken Truck                             0.131998\n",
              "Accident victim                          0.121730\n",
              "Immobilized bus                          0.101143\n",
              "Manifestations                           0.066377\n",
              "Occurrence involving freight             0.026791\n",
              "Incident involving dangerous freight     0.000957\n",
              "Running over                            -0.001133\n",
              "Vehicle excess                          -0.045297\n",
              "Fire                                    -0.046737\n",
              "Tree on the road                        -0.098489\n",
              "Intermittent Semaphore                  -0.119942\n",
              "Defect in the network of trolleybuses   -0.147035\n",
              "Noon                                    -0.200656\n",
              "Morning                                 -0.214182\n",
              "Night                                   -0.394349\n",
              "Name: Slowness in traffic (%), dtype: float64"
            ]
          },
          "metadata": {},
          "execution_count": 29
        }
      ]
    },
    {
      "cell_type": "code",
      "metadata": {
        "id": "ZVx0WkO5y5mv"
      },
      "source": [
        "df = df.to_numpy()"
      ],
      "execution_count": 30,
      "outputs": []
    },
    {
      "cell_type": "code",
      "metadata": {
        "id": "aTc0Ilu41_UR"
      },
      "source": [
        "X = df[:, :-1]\n",
        "y = df[:, -1:]"
      ],
      "execution_count": 31,
      "outputs": []
    },
    {
      "cell_type": "code",
      "metadata": {
        "colab": {
          "base_uri": "https://localhost:8080/"
        },
        "id": "J5HCbX3a2F5N",
        "outputId": "99e7d03c-3303-4659-cbdb-8ee2a77e2582"
      },
      "source": [
        "print(\"X shape: \", X.shape)\n",
        "print(\"X type: \", type(X))\n",
        "\n",
        "print(\"y shape: \", y.shape)\n",
        "print(\"y type: \", type(y))"
      ],
      "execution_count": 32,
      "outputs": [
        {
          "output_type": "stream",
          "name": "stdout",
          "text": [
            "X shape:  (135, 21)\n",
            "X type:  <class 'numpy.ndarray'>\n",
            "y shape:  (135, 1)\n",
            "y type:  <class 'numpy.ndarray'>\n"
          ]
        }
      ]
    },
    {
      "cell_type": "code",
      "metadata": {
        "id": "nXdgU3RN2UU-"
      },
      "source": [
        "from sklearn.model_selection import train_test_split"
      ],
      "execution_count": 33,
      "outputs": []
    },
    {
      "cell_type": "code",
      "metadata": {
        "id": "H5PXdcgv2p1o"
      },
      "source": [
        "X_train, X_test, y_train, y_test = train_test_split(X, y, test_size=0.20, random_state=10)"
      ],
      "execution_count": 34,
      "outputs": []
    },
    {
      "cell_type": "code",
      "metadata": {
        "colab": {
          "base_uri": "https://localhost:8080/"
        },
        "id": "UU7VUaAY3Jk6",
        "outputId": "13923e11-4e55-402b-df03-019f04165d1c"
      },
      "source": [
        "print(\"X train shape\", X_train.shape)\n",
        "print(\"y train shape\", y_train.shape)\n",
        "\n",
        "print(\"X test shape\", X_test.shape)\n",
        "print(\"y test shape\", y_test.shape)"
      ],
      "execution_count": 35,
      "outputs": [
        {
          "output_type": "stream",
          "name": "stdout",
          "text": [
            "X train shape (108, 21)\n",
            "y train shape (108, 1)\n",
            "X test shape (27, 21)\n",
            "y test shape (27, 1)\n"
          ]
        }
      ]
    },
    {
      "cell_type": "code",
      "metadata": {
        "id": "PVnssKxu3POL"
      },
      "source": [
        "from sklearn.preprocessing import PolynomialFeatures\n",
        "from sklearn.pipeline import make_pipeline\n",
        "from sklearn.metrics import mean_squared_error, r2_score\n",
        "from sklearn.linear_model import LinearRegression"
      ],
      "execution_count": 44,
      "outputs": []
    },
    {
      "cell_type": "code",
      "metadata": {
        "colab": {
          "base_uri": "https://localhost:8080/"
        },
        "id": "SfxxzXRnANSB",
        "outputId": "dcbf8c0b-5709-4c52-b531-28b30f0ce5f4"
      },
      "source": [
        "#@title Degree\n",
        "degree = 2 #@param {type:\"slider\", min:1, max:4, step:1}\n",
        "\n",
        "model = make_pipeline(PolynomialFeatures(degree),LinearRegression())\n",
        "model.fit(X_train, y_train)"
      ],
      "execution_count": 92,
      "outputs": [
        {
          "output_type": "execute_result",
          "data": {
            "text/plain": [
              "Pipeline(memory=None,\n",
              "         steps=[('polynomialfeatures',\n",
              "                 PolynomialFeatures(degree=2, include_bias=True,\n",
              "                                    interaction_only=False, order='C')),\n",
              "                ('linearregression',\n",
              "                 LinearRegression(copy_X=True, fit_intercept=True, n_jobs=None,\n",
              "                                  normalize=False))],\n",
              "         verbose=False)"
            ]
          },
          "metadata": {},
          "execution_count": 92
        }
      ]
    },
    {
      "cell_type": "code",
      "metadata": {
        "colab": {
          "base_uri": "https://localhost:8080/"
        },
        "id": "0mOpDVFQA5cG",
        "outputId": "fef3cbac-8b75-4de5-cb58-9fc6bf868f11"
      },
      "source": [
        "y_train_pred = model.predict(X_train)\n",
        "rmse_train = np.sqrt(mean_squared_error(y_train, y_train_pred))\n",
        "r2_train = r2_score(y_train, y_train_pred)\n",
        "print(\"RMSE train: \", rmse_train)\n",
        "print(\"R2 train: \", r2_train)"
      ],
      "execution_count": 93,
      "outputs": [
        {
          "output_type": "stream",
          "name": "stdout",
          "text": [
            "RMSE train:  1.4283650054514088\n",
            "R2 train:  0.8939187862145336\n"
          ]
        }
      ]
    },
    {
      "cell_type": "code",
      "metadata": {
        "colab": {
          "base_uri": "https://localhost:8080/"
        },
        "id": "qqrBQnJC_CVu",
        "outputId": "9916724a-7243-434e-8d9c-57be3b4b17c3"
      },
      "source": [
        "y_test_pred = model.predict(X_test)\n",
        "rmse_test = np.sqrt(mean_squared_error(y_test, y_test_pred))\n",
        "r2_test = r2_score(y_test, y_test_pred)\n",
        "print(\"RMSE test: \", rmse_test)\n",
        "print(\"R2 test: \", r2_test)"
      ],
      "execution_count": 119,
      "outputs": [
        {
          "output_type": "stream",
          "name": "stdout",
          "text": [
            "RMSE test:  6.455988488088276\n",
            "R2 test:  -1.3858501383727586\n"
          ]
        }
      ]
    },
    {
      "cell_type": "code",
      "metadata": {
        "id": "21qLGWH4Czi2"
      },
      "source": [
        "# print(pd.DataFrame(X_train).to_string())"
      ],
      "execution_count": null,
      "outputs": []
    },
    {
      "cell_type": "code",
      "metadata": {
        "colab": {
          "base_uri": "https://localhost:8080/",
          "height": 279
        },
        "id": "5KVAtTDAFzln",
        "outputId": "07d3e4f9-0909-450c-d9d0-cc4b9fd5b963"
      },
      "source": [
        "plt.scatter(X_train.mean(axis=1), y_train, marker='s', label='True');\n",
        "plt.scatter(X_train.mean(axis=1), y_train_pred, marker='o', label='Predicted');\n",
        "plt.legend(loc='lower right');\n",
        "plt.xlabel(\"Mean of input X\")\n",
        "plt.ylabel(\"y\")\n",
        "plt.show()"
      ],
      "execution_count": 117,
      "outputs": [
        {
          "output_type": "display_data",
          "data": {
            "image/png": "[encoded data removed]",
            "text/plain": [
              "<Figure size 432x288 with 1 Axes>"
            ]
          },
          "metadata": {
            "needs_background": "light"
          }
        }
      ]
    },
    {
      "cell_type": "code",
      "metadata": {
        "colab": {
          "base_uri": "https://localhost:8080/",
          "height": 279
        },
        "id": "xpW6--CcJPnh",
        "outputId": "0b02a639-9a15-4457-ec7d-e9e12fa4cd12"
      },
      "source": [
        "plt.scatter(X_test.mean(axis=1), y_test, marker='s', label='True');\n",
        "plt.scatter(X_test.mean(axis=1), y_test_pred, marker='o', label='Predicted');\n",
        "plt.legend(loc='lower right');\n",
        "plt.xlabel(\"Mean of input X\")\n",
        "plt.ylabel(\"y\")\n",
        "plt.show()"
      ],
      "execution_count": 120,
      "outputs": [
        {
          "output_type": "display_data",
          "data": {
            "image/png": "[encoded data removed]",
            "text/plain": [
              "<Figure size 432x288 with 1 Axes>"
            ]
          },
          "metadata": {
            "needs_background": "light"
          }
        }
      ]
    },
    {
      "cell_type": "code",
      "metadata": {
        "id": "FYn9pJmXL9OZ"
      },
      "source": [
        ""
      ],
      "execution_count": null,
      "outputs": []
    }
  ]
}