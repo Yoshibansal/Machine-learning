{
  "nbformat": 4,
  "nbformat_minor": 0,
  "metadata": {
    "colab": {
      "name": "BitcoinHeistData.ipynb",
      "provenance": [],
      "collapsed_sections": [],
      "authorship_tag": "ABX9TyNaNHtKiCtD9YgCvutT6Rgn",
      "include_colab_link": true
    },
    "kernelspec": {
      "name": "python3",
      "display_name": "Python 3"
    },
    "language_info": {
      "name": "python"
    }
  },
  "cells": [
    {
      "cell_type": "markdown",
      "metadata": {
        "id": "view-in-github",
        "colab_type": "text"
      },
      "source": [
        "<a href=\"https://colab.research.google.com/github/Yoshibansal/Machine-learning/blob/main/BitcoinHeistData.ipynb\" target=\"_parent\"><img src=\"https://colab.research.google.com/assets/colab-badge.svg\" alt=\"Open In Colab\"/></a>"
      ]
    },
    {
      "cell_type": "markdown",
      "source": [
        "# BitcoinHeistData\n",
        "\n",
        "Features\n",
        "\n",
        "    address: String. Bitcoin address.\n",
        "    year: Integer. Year.\n",
        "    day: Integer. Day of the year. 1 is the first day, 365 is the last day.\n",
        "    length: Integer.\n",
        "    weight: Float.\n",
        "    count: Integer.\n",
        "    looped: Integer.\n",
        "    neighbors: Integer.\n",
        "    income: Integer. Satoshi amount (1 bitcoin = 100 million satoshis).\n",
        "    label: Category String. Name of the ransomware family (e.g., Cryptxxx, cryptolocker etc) or white (i.e., not known to be ransomware)."
      ],
      "metadata": {
        "id": "hSMundb5W_Eu"
      }
    },
    {
      "cell_type": "code",
      "source": [
        "import numpy as np\n",
        "import pandas as pd\n",
        "from sklearn.model_selection import train_test_split\n",
        "from sklearn.tree import DecisionTreeClassifier\n",
        "import matplotlib.pyplot as plt\n",
        "from sklearn.metrics import mean_squared_error, r2_score\n",
        "import seaborn as sns"
      ],
      "metadata": {
        "id": "CH6TxPriIfgR"
      },
      "execution_count": 1,
      "outputs": []
    },
    {
      "cell_type": "code",
      "source": [
        "!wget https://archive.ics.uci.edu/ml/machine-learning-databases/00526/data.zip"
      ],
      "metadata": {
        "colab": {
          "base_uri": "https://localhost:8080/"
        },
        "id": "T2RA7gKheo8I",
        "outputId": "7d82a2ba-598f-454e-96b8-609fcd9716ca"
      },
      "execution_count": 2,
      "outputs": [
        {
          "output_type": "stream",
          "name": "stdout",
          "text": [
            "--2022-02-16 12:21:10--  https://archive.ics.uci.edu/ml/machine-learning-databases/00526/data.zip\n",
            "Resolving archive.ics.uci.edu (archive.ics.uci.edu)... 128.195.10.252\n",
            "Connecting to archive.ics.uci.edu (archive.ics.uci.edu)|128.195.10.252|:443... connected.\n",
            "HTTP request sent, awaiting response... 200 OK\n",
            "Length: 116104947 (111M) [application/x-httpd-php]\n",
            "Saving to: ‘data.zip’\n",
            "\n",
            "data.zip            100%[===================>] 110.73M  87.8MB/s    in 1.3s    \n",
            "\n",
            "2022-02-16 12:21:11 (87.8 MB/s) - ‘data.zip’ saved [116104947/116104947]\n",
            "\n"
          ]
        }
      ]
    },
    {
      "cell_type": "code",
      "source": [
        "!unzip /content/data.zip -d /content/"
      ],
      "metadata": {
        "colab": {
          "base_uri": "https://localhost:8080/"
        },
        "id": "UHna8XylesCj",
        "outputId": "ab71bdcd-9c99-4609-a0c2-3626500cfd76"
      },
      "execution_count": 3,
      "outputs": [
        {
          "output_type": "stream",
          "name": "stdout",
          "text": [
            "Archive:  /content/data.zip\n",
            "  inflating: /content/BitcoinHeistData.csv  \n"
          ]
        }
      ]
    },
    {
      "cell_type": "code",
      "source": [
        "df = pd.read_csv('/content/BitcoinHeistData.csv')"
      ],
      "metadata": {
        "id": "TI5sz1l9IeDL"
      },
      "execution_count": 4,
      "outputs": []
    },
    {
      "cell_type": "code",
      "source": [
        "df.head()"
      ],
      "metadata": {
        "colab": {
          "base_uri": "https://localhost:8080/",
          "height": 206
        },
        "id": "I7B-IkU7JRq5",
        "outputId": "4c7bcad4-1dfb-4e8a-b62b-08ceb36758eb"
      },
      "execution_count": 5,
      "outputs": [
        {
          "output_type": "execute_result",
          "data": {
            "text/html": [
              "\n",
              "  <div id=\"df-1e957d88-1eed-4c2b-b07d-260d9517cc7c\">\n",
              "    <div class=\"colab-df-container\">\n",
              "      <div>\n",
              "<style scoped>\n",
              "    .dataframe tbody tr th:only-of-type {\n",
              "        vertical-align: middle;\n",
              "    }\n",
              "\n",
              "    .dataframe tbody tr th {\n",
              "        vertical-align: top;\n",
              "    }\n",
              "\n",
              "    .dataframe thead th {\n",
              "        text-align: right;\n",
              "    }\n",
              "</style>\n",
              "<table border=\"1\" class=\"dataframe\">\n",
              "  <thead>\n",
              "    <tr style=\"text-align: right;\">\n",
              "      <th></th>\n",
              "      <th>address</th>\n",
              "      <th>year</th>\n",
              "      <th>day</th>\n",
              "      <th>length</th>\n",
              "      <th>weight</th>\n",
              "      <th>count</th>\n",
              "      <th>looped</th>\n",
              "      <th>neighbors</th>\n",
              "      <th>income</th>\n",
              "      <th>label</th>\n",
              "    </tr>\n",
              "  </thead>\n",
              "  <tbody>\n",
              "    <tr>\n",
              "      <th>0</th>\n",
              "      <td>111K8kZAEnJg245r2cM6y9zgJGHZtJPy6</td>\n",
              "      <td>2017</td>\n",
              "      <td>11</td>\n",
              "      <td>18</td>\n",
              "      <td>0.008333</td>\n",
              "      <td>1</td>\n",
              "      <td>0</td>\n",
              "      <td>2</td>\n",
              "      <td>100050000.0</td>\n",
              "      <td>princetonCerber</td>\n",
              "    </tr>\n",
              "    <tr>\n",
              "      <th>1</th>\n",
              "      <td>1123pJv8jzeFQaCV4w644pzQJzVWay2zcA</td>\n",
              "      <td>2016</td>\n",
              "      <td>132</td>\n",
              "      <td>44</td>\n",
              "      <td>0.000244</td>\n",
              "      <td>1</td>\n",
              "      <td>0</td>\n",
              "      <td>1</td>\n",
              "      <td>100000000.0</td>\n",
              "      <td>princetonLocky</td>\n",
              "    </tr>\n",
              "    <tr>\n",
              "      <th>2</th>\n",
              "      <td>112536im7hy6wtKbpH1qYDWtTyMRAcA2p7</td>\n",
              "      <td>2016</td>\n",
              "      <td>246</td>\n",
              "      <td>0</td>\n",
              "      <td>1.000000</td>\n",
              "      <td>1</td>\n",
              "      <td>0</td>\n",
              "      <td>2</td>\n",
              "      <td>200000000.0</td>\n",
              "      <td>princetonCerber</td>\n",
              "    </tr>\n",
              "    <tr>\n",
              "      <th>3</th>\n",
              "      <td>1126eDRw2wqSkWosjTCre8cjjQW8sSeWH7</td>\n",
              "      <td>2016</td>\n",
              "      <td>322</td>\n",
              "      <td>72</td>\n",
              "      <td>0.003906</td>\n",
              "      <td>1</td>\n",
              "      <td>0</td>\n",
              "      <td>2</td>\n",
              "      <td>71200000.0</td>\n",
              "      <td>princetonCerber</td>\n",
              "    </tr>\n",
              "    <tr>\n",
              "      <th>4</th>\n",
              "      <td>1129TSjKtx65E35GiUo4AYVeyo48twbrGX</td>\n",
              "      <td>2016</td>\n",
              "      <td>238</td>\n",
              "      <td>144</td>\n",
              "      <td>0.072848</td>\n",
              "      <td>456</td>\n",
              "      <td>0</td>\n",
              "      <td>1</td>\n",
              "      <td>200000000.0</td>\n",
              "      <td>princetonLocky</td>\n",
              "    </tr>\n",
              "  </tbody>\n",
              "</table>\n",
              "</div>\n",
              "      <button class=\"colab-df-convert\" onclick=\"convertToInteractive('df-1e957d88-1eed-4c2b-b07d-260d9517cc7c')\"\n",
              "              title=\"Convert this dataframe to an interactive table.\"\n",
              "              style=\"display:none;\">\n",
              "        \n",
              "  <svg xmlns=\"http://www.w3.org/2000/svg\" height=\"24px\"viewBox=\"0 0 24 24\"\n",
              "       width=\"24px\">\n",
              "    <path d=\"M0 0h24v24H0V0z\" fill=\"none\"/>\n",
              "    <path d=\"M18.56 5.44l.94 2.06.94-2.06 2.06-.94-2.06-.94-.94-2.06-.94 2.06-2.06.94zm-11 1L8.5 8.5l.94-2.06 2.06-.94-2.06-.94L8.5 2.5l-.94 2.06-2.06.94zm10 10l.94 2.06.94-2.06 2.06-.94-2.06-.94-.94-2.06-.94 2.06-2.06.94z\"/><path d=\"M17.41 7.96l-1.37-1.37c-.4-.4-.92-.59-1.43-.59-.52 0-1.04.2-1.43.59L10.3 9.45l-7.72 7.72c-.78.78-.78 2.05 0 2.83L4 21.41c.39.39.9.59 1.41.59.51 0 1.02-.2 1.41-.59l7.78-7.78 2.81-2.81c.8-.78.8-2.07 0-2.86zM5.41 20L4 18.59l7.72-7.72 1.47 1.35L5.41 20z\"/>\n",
              "  </svg>\n",
              "      </button>\n",
              "      \n",
              "  <style>\n",
              "    .colab-df-container {\n",
              "      display:flex;\n",
              "      flex-wrap:wrap;\n",
              "      gap: 12px;\n",
              "    }\n",
              "\n",
              "    .colab-df-convert {\n",
              "      background-color: #E8F0FE;\n",
              "      border: none;\n",
              "      border-radius: 50%;\n",
              "      cursor: pointer;\n",
              "      display: none;\n",
              "      fill: #1967D2;\n",
              "      height: 32px;\n",
              "      padding: 0 0 0 0;\n",
              "      width: 32px;\n",
              "    }\n",
              "\n",
              "    .colab-df-convert:hover {\n",
              "      background-color: #E2EBFA;\n",
              "      box-shadow: 0px 1px 2px rgba(60, 64, 67, 0.3), 0px 1px 3px 1px rgba(60, 64, 67, 0.15);\n",
              "      fill: #174EA6;\n",
              "    }\n",
              "\n",
              "    [theme=dark] .colab-df-convert {\n",
              "      background-color: #3B4455;\n",
              "      fill: #D2E3FC;\n",
              "    }\n",
              "\n",
              "    [theme=dark] .colab-df-convert:hover {\n",
              "      background-color: #434B5C;\n",
              "      box-shadow: 0px 1px 3px 1px rgba(0, 0, 0, 0.15);\n",
              "      filter: drop-shadow(0px 1px 2px rgba(0, 0, 0, 0.3));\n",
              "      fill: #FFFFFF;\n",
              "    }\n",
              "  </style>\n",
              "\n",
              "      <script>\n",
              "        const buttonEl =\n",
              "          document.querySelector('#df-1e957d88-1eed-4c2b-b07d-260d9517cc7c button.colab-df-convert');\n",
              "        buttonEl.style.display =\n",
              "          google.colab.kernel.accessAllowed ? 'block' : 'none';\n",
              "\n",
              "        async function convertToInteractive(key) {\n",
              "          const element = document.querySelector('#df-1e957d88-1eed-4c2b-b07d-260d9517cc7c');\n",
              "          const dataTable =\n",
              "            await google.colab.kernel.invokeFunction('convertToInteractive',\n",
              "                                                     [key], {});\n",
              "          if (!dataTable) return;\n",
              "\n",
              "          const docLinkHtml = 'Like what you see? Visit the ' +\n",
              "            '<a target=\"_blank\" href=https://colab.research.google.com/notebooks/data_table.ipynb>data table notebook</a>'\n",
              "            + ' to learn more about interactive tables.';\n",
              "          element.innerHTML = '';\n",
              "          dataTable['output_type'] = 'display_data';\n",
              "          await google.colab.output.renderOutput(dataTable, element);\n",
              "          const docLink = document.createElement('div');\n",
              "          docLink.innerHTML = docLinkHtml;\n",
              "          element.appendChild(docLink);\n",
              "        }\n",
              "      </script>\n",
              "    </div>\n",
              "  </div>\n",
              "  "
            ],
            "text/plain": [
              "                              address  year  ...       income            label\n",
              "0   111K8kZAEnJg245r2cM6y9zgJGHZtJPy6  2017  ...  100050000.0  princetonCerber\n",
              "1  1123pJv8jzeFQaCV4w644pzQJzVWay2zcA  2016  ...  100000000.0   princetonLocky\n",
              "2  112536im7hy6wtKbpH1qYDWtTyMRAcA2p7  2016  ...  200000000.0  princetonCerber\n",
              "3  1126eDRw2wqSkWosjTCre8cjjQW8sSeWH7  2016  ...   71200000.0  princetonCerber\n",
              "4  1129TSjKtx65E35GiUo4AYVeyo48twbrGX  2016  ...  200000000.0   princetonLocky\n",
              "\n",
              "[5 rows x 10 columns]"
            ]
          },
          "metadata": {},
          "execution_count": 5
        }
      ]
    },
    {
      "cell_type": "code",
      "source": [
        "print(df.label.unique())\n",
        "print(f'Number of Classes: {len(df.label.unique())}')"
      ],
      "metadata": {
        "colab": {
          "base_uri": "https://localhost:8080/"
        },
        "id": "_t6KTgs3LtNu",
        "outputId": "5edb5c05-4441-4464-e0a0-9c23613298ec"
      },
      "execution_count": 6,
      "outputs": [
        {
          "output_type": "stream",
          "name": "stdout",
          "text": [
            "['princetonCerber' 'princetonLocky' 'montrealCryptoLocker'\n",
            " 'montrealCryptXXX' 'paduaCryptoWall' 'montrealWannaCry'\n",
            " 'montrealDMALockerv3' 'montrealCryptoTorLocker2015' 'montrealSamSam'\n",
            " 'montrealFlyper' 'montrealNoobCrypt' 'montrealDMALocker' 'montrealGlobe'\n",
            " 'montrealEDA2' 'paduaKeRanger' 'montrealVenusLocker' 'montrealXTPLocker'\n",
            " 'paduaJigsaw' 'montrealGlobev3' 'montrealJigSaw' 'montrealXLockerv5.0'\n",
            " 'montrealXLocker' 'montrealRazy' 'montrealCryptConsole'\n",
            " 'montrealGlobeImposter' 'montrealSam' 'montrealComradeCircle'\n",
            " 'montrealAPT' 'white']\n",
            "Number of Classes: 29\n"
          ]
        }
      ]
    },
    {
      "cell_type": "code",
      "source": [
        "df.describe()"
      ],
      "metadata": {
        "colab": {
          "base_uri": "https://localhost:8080/",
          "height": 300
        },
        "id": "0dOnIIwuMLeO",
        "outputId": "3dcee90f-1bad-4652-e1e0-f265fa056dc5"
      },
      "execution_count": 7,
      "outputs": [
        {
          "output_type": "execute_result",
          "data": {
            "text/html": [
              "\n",
              "  <div id=\"df-dc5784b6-c4a4-4710-86c1-1b3c1cc760bb\">\n",
              "    <div class=\"colab-df-container\">\n",
              "      <div>\n",
              "<style scoped>\n",
              "    .dataframe tbody tr th:only-of-type {\n",
              "        vertical-align: middle;\n",
              "    }\n",
              "\n",
              "    .dataframe tbody tr th {\n",
              "        vertical-align: top;\n",
              "    }\n",
              "\n",
              "    .dataframe thead th {\n",
              "        text-align: right;\n",
              "    }\n",
              "</style>\n",
              "<table border=\"1\" class=\"dataframe\">\n",
              "  <thead>\n",
              "    <tr style=\"text-align: right;\">\n",
              "      <th></th>\n",
              "      <th>year</th>\n",
              "      <th>day</th>\n",
              "      <th>length</th>\n",
              "      <th>weight</th>\n",
              "      <th>count</th>\n",
              "      <th>looped</th>\n",
              "      <th>neighbors</th>\n",
              "      <th>income</th>\n",
              "    </tr>\n",
              "  </thead>\n",
              "  <tbody>\n",
              "    <tr>\n",
              "      <th>count</th>\n",
              "      <td>2.916697e+06</td>\n",
              "      <td>2.916697e+06</td>\n",
              "      <td>2.916697e+06</td>\n",
              "      <td>2.916697e+06</td>\n",
              "      <td>2.916697e+06</td>\n",
              "      <td>2.916697e+06</td>\n",
              "      <td>2.916697e+06</td>\n",
              "      <td>2.916697e+06</td>\n",
              "    </tr>\n",
              "    <tr>\n",
              "      <th>mean</th>\n",
              "      <td>2.014475e+03</td>\n",
              "      <td>1.814572e+02</td>\n",
              "      <td>4.500859e+01</td>\n",
              "      <td>5.455192e-01</td>\n",
              "      <td>7.216446e+02</td>\n",
              "      <td>2.385067e+02</td>\n",
              "      <td>2.206516e+00</td>\n",
              "      <td>4.464889e+09</td>\n",
              "    </tr>\n",
              "    <tr>\n",
              "      <th>std</th>\n",
              "      <td>2.257398e+00</td>\n",
              "      <td>1.040118e+02</td>\n",
              "      <td>5.898236e+01</td>\n",
              "      <td>3.674255e+00</td>\n",
              "      <td>1.689676e+03</td>\n",
              "      <td>9.663217e+02</td>\n",
              "      <td>1.791877e+01</td>\n",
              "      <td>1.626860e+11</td>\n",
              "    </tr>\n",
              "    <tr>\n",
              "      <th>min</th>\n",
              "      <td>2.011000e+03</td>\n",
              "      <td>1.000000e+00</td>\n",
              "      <td>0.000000e+00</td>\n",
              "      <td>3.606469e-94</td>\n",
              "      <td>1.000000e+00</td>\n",
              "      <td>0.000000e+00</td>\n",
              "      <td>1.000000e+00</td>\n",
              "      <td>3.000000e+07</td>\n",
              "    </tr>\n",
              "    <tr>\n",
              "      <th>25%</th>\n",
              "      <td>2.013000e+03</td>\n",
              "      <td>9.200000e+01</td>\n",
              "      <td>2.000000e+00</td>\n",
              "      <td>2.148438e-02</td>\n",
              "      <td>1.000000e+00</td>\n",
              "      <td>0.000000e+00</td>\n",
              "      <td>1.000000e+00</td>\n",
              "      <td>7.428559e+07</td>\n",
              "    </tr>\n",
              "    <tr>\n",
              "      <th>50%</th>\n",
              "      <td>2.014000e+03</td>\n",
              "      <td>1.810000e+02</td>\n",
              "      <td>8.000000e+00</td>\n",
              "      <td>2.500000e-01</td>\n",
              "      <td>1.000000e+00</td>\n",
              "      <td>0.000000e+00</td>\n",
              "      <td>2.000000e+00</td>\n",
              "      <td>1.999985e+08</td>\n",
              "    </tr>\n",
              "    <tr>\n",
              "      <th>75%</th>\n",
              "      <td>2.016000e+03</td>\n",
              "      <td>2.710000e+02</td>\n",
              "      <td>1.080000e+02</td>\n",
              "      <td>8.819482e-01</td>\n",
              "      <td>5.600000e+01</td>\n",
              "      <td>0.000000e+00</td>\n",
              "      <td>2.000000e+00</td>\n",
              "      <td>9.940000e+08</td>\n",
              "    </tr>\n",
              "    <tr>\n",
              "      <th>max</th>\n",
              "      <td>2.018000e+03</td>\n",
              "      <td>3.650000e+02</td>\n",
              "      <td>1.440000e+02</td>\n",
              "      <td>1.943749e+03</td>\n",
              "      <td>1.449700e+04</td>\n",
              "      <td>1.449600e+04</td>\n",
              "      <td>1.292000e+04</td>\n",
              "      <td>4.996440e+13</td>\n",
              "    </tr>\n",
              "  </tbody>\n",
              "</table>\n",
              "</div>\n",
              "      <button class=\"colab-df-convert\" onclick=\"convertToInteractive('df-dc5784b6-c4a4-4710-86c1-1b3c1cc760bb')\"\n",
              "              title=\"Convert this dataframe to an interactive table.\"\n",
              "              style=\"display:none;\">\n",
              "        \n",
              "  <svg xmlns=\"http://www.w3.org/2000/svg\" height=\"24px\"viewBox=\"0 0 24 24\"\n",
              "       width=\"24px\">\n",
              "    <path d=\"M0 0h24v24H0V0z\" fill=\"none\"/>\n",
              "    <path d=\"M18.56 5.44l.94 2.06.94-2.06 2.06-.94-2.06-.94-.94-2.06-.94 2.06-2.06.94zm-11 1L8.5 8.5l.94-2.06 2.06-.94-2.06-.94L8.5 2.5l-.94 2.06-2.06.94zm10 10l.94 2.06.94-2.06 2.06-.94-2.06-.94-.94-2.06-.94 2.06-2.06.94z\"/><path d=\"M17.41 7.96l-1.37-1.37c-.4-.4-.92-.59-1.43-.59-.52 0-1.04.2-1.43.59L10.3 9.45l-7.72 7.72c-.78.78-.78 2.05 0 2.83L4 21.41c.39.39.9.59 1.41.59.51 0 1.02-.2 1.41-.59l7.78-7.78 2.81-2.81c.8-.78.8-2.07 0-2.86zM5.41 20L4 18.59l7.72-7.72 1.47 1.35L5.41 20z\"/>\n",
              "  </svg>\n",
              "      </button>\n",
              "      \n",
              "  <style>\n",
              "    .colab-df-container {\n",
              "      display:flex;\n",
              "      flex-wrap:wrap;\n",
              "      gap: 12px;\n",
              "    }\n",
              "\n",
              "    .colab-df-convert {\n",
              "      background-color: #E8F0FE;\n",
              "      border: none;\n",
              "      border-radius: 50%;\n",
              "      cursor: pointer;\n",
              "      display: none;\n",
              "      fill: #1967D2;\n",
              "      height: 32px;\n",
              "      padding: 0 0 0 0;\n",
              "      width: 32px;\n",
              "    }\n",
              "\n",
              "    .colab-df-convert:hover {\n",
              "      background-color: #E2EBFA;\n",
              "      box-shadow: 0px 1px 2px rgba(60, 64, 67, 0.3), 0px 1px 3px 1px rgba(60, 64, 67, 0.15);\n",
              "      fill: #174EA6;\n",
              "    }\n",
              "\n",
              "    [theme=dark] .colab-df-convert {\n",
              "      background-color: #3B4455;\n",
              "      fill: #D2E3FC;\n",
              "    }\n",
              "\n",
              "    [theme=dark] .colab-df-convert:hover {\n",
              "      background-color: #434B5C;\n",
              "      box-shadow: 0px 1px 3px 1px rgba(0, 0, 0, 0.15);\n",
              "      filter: drop-shadow(0px 1px 2px rgba(0, 0, 0, 0.3));\n",
              "      fill: #FFFFFF;\n",
              "    }\n",
              "  </style>\n",
              "\n",
              "      <script>\n",
              "        const buttonEl =\n",
              "          document.querySelector('#df-dc5784b6-c4a4-4710-86c1-1b3c1cc760bb button.colab-df-convert');\n",
              "        buttonEl.style.display =\n",
              "          google.colab.kernel.accessAllowed ? 'block' : 'none';\n",
              "\n",
              "        async function convertToInteractive(key) {\n",
              "          const element = document.querySelector('#df-dc5784b6-c4a4-4710-86c1-1b3c1cc760bb');\n",
              "          const dataTable =\n",
              "            await google.colab.kernel.invokeFunction('convertToInteractive',\n",
              "                                                     [key], {});\n",
              "          if (!dataTable) return;\n",
              "\n",
              "          const docLinkHtml = 'Like what you see? Visit the ' +\n",
              "            '<a target=\"_blank\" href=https://colab.research.google.com/notebooks/data_table.ipynb>data table notebook</a>'\n",
              "            + ' to learn more about interactive tables.';\n",
              "          element.innerHTML = '';\n",
              "          dataTable['output_type'] = 'display_data';\n",
              "          await google.colab.output.renderOutput(dataTable, element);\n",
              "          const docLink = document.createElement('div');\n",
              "          docLink.innerHTML = docLinkHtml;\n",
              "          element.appendChild(docLink);\n",
              "        }\n",
              "      </script>\n",
              "    </div>\n",
              "  </div>\n",
              "  "
            ],
            "text/plain": [
              "               year           day  ...     neighbors        income\n",
              "count  2.916697e+06  2.916697e+06  ...  2.916697e+06  2.916697e+06\n",
              "mean   2.014475e+03  1.814572e+02  ...  2.206516e+00  4.464889e+09\n",
              "std    2.257398e+00  1.040118e+02  ...  1.791877e+01  1.626860e+11\n",
              "min    2.011000e+03  1.000000e+00  ...  1.000000e+00  3.000000e+07\n",
              "25%    2.013000e+03  9.200000e+01  ...  1.000000e+00  7.428559e+07\n",
              "50%    2.014000e+03  1.810000e+02  ...  2.000000e+00  1.999985e+08\n",
              "75%    2.016000e+03  2.710000e+02  ...  2.000000e+00  9.940000e+08\n",
              "max    2.018000e+03  3.650000e+02  ...  1.292000e+04  4.996440e+13\n",
              "\n",
              "[8 rows x 8 columns]"
            ]
          },
          "metadata": {},
          "execution_count": 7
        }
      ]
    },
    {
      "cell_type": "code",
      "source": [
        "df.dropna()"
      ],
      "metadata": {
        "colab": {
          "base_uri": "https://localhost:8080/",
          "height": 423
        },
        "id": "G1MFALAMMte3",
        "outputId": "f6be6187-dd5d-4cae-d7c3-cecc71f552ba"
      },
      "execution_count": 8,
      "outputs": [
        {
          "output_type": "execute_result",
          "data": {
            "text/html": [
              "\n",
              "  <div id=\"df-7d9c8d94-8db2-4a5e-be35-148ec30bd253\">\n",
              "    <div class=\"colab-df-container\">\n",
              "      <div>\n",
              "<style scoped>\n",
              "    .dataframe tbody tr th:only-of-type {\n",
              "        vertical-align: middle;\n",
              "    }\n",
              "\n",
              "    .dataframe tbody tr th {\n",
              "        vertical-align: top;\n",
              "    }\n",
              "\n",
              "    .dataframe thead th {\n",
              "        text-align: right;\n",
              "    }\n",
              "</style>\n",
              "<table border=\"1\" class=\"dataframe\">\n",
              "  <thead>\n",
              "    <tr style=\"text-align: right;\">\n",
              "      <th></th>\n",
              "      <th>address</th>\n",
              "      <th>year</th>\n",
              "      <th>day</th>\n",
              "      <th>length</th>\n",
              "      <th>weight</th>\n",
              "      <th>count</th>\n",
              "      <th>looped</th>\n",
              "      <th>neighbors</th>\n",
              "      <th>income</th>\n",
              "      <th>label</th>\n",
              "    </tr>\n",
              "  </thead>\n",
              "  <tbody>\n",
              "    <tr>\n",
              "      <th>0</th>\n",
              "      <td>111K8kZAEnJg245r2cM6y9zgJGHZtJPy6</td>\n",
              "      <td>2017</td>\n",
              "      <td>11</td>\n",
              "      <td>18</td>\n",
              "      <td>0.008333</td>\n",
              "      <td>1</td>\n",
              "      <td>0</td>\n",
              "      <td>2</td>\n",
              "      <td>1.000500e+08</td>\n",
              "      <td>princetonCerber</td>\n",
              "    </tr>\n",
              "    <tr>\n",
              "      <th>1</th>\n",
              "      <td>1123pJv8jzeFQaCV4w644pzQJzVWay2zcA</td>\n",
              "      <td>2016</td>\n",
              "      <td>132</td>\n",
              "      <td>44</td>\n",
              "      <td>0.000244</td>\n",
              "      <td>1</td>\n",
              "      <td>0</td>\n",
              "      <td>1</td>\n",
              "      <td>1.000000e+08</td>\n",
              "      <td>princetonLocky</td>\n",
              "    </tr>\n",
              "    <tr>\n",
              "      <th>2</th>\n",
              "      <td>112536im7hy6wtKbpH1qYDWtTyMRAcA2p7</td>\n",
              "      <td>2016</td>\n",
              "      <td>246</td>\n",
              "      <td>0</td>\n",
              "      <td>1.000000</td>\n",
              "      <td>1</td>\n",
              "      <td>0</td>\n",
              "      <td>2</td>\n",
              "      <td>2.000000e+08</td>\n",
              "      <td>princetonCerber</td>\n",
              "    </tr>\n",
              "    <tr>\n",
              "      <th>3</th>\n",
              "      <td>1126eDRw2wqSkWosjTCre8cjjQW8sSeWH7</td>\n",
              "      <td>2016</td>\n",
              "      <td>322</td>\n",
              "      <td>72</td>\n",
              "      <td>0.003906</td>\n",
              "      <td>1</td>\n",
              "      <td>0</td>\n",
              "      <td>2</td>\n",
              "      <td>7.120000e+07</td>\n",
              "      <td>princetonCerber</td>\n",
              "    </tr>\n",
              "    <tr>\n",
              "      <th>4</th>\n",
              "      <td>1129TSjKtx65E35GiUo4AYVeyo48twbrGX</td>\n",
              "      <td>2016</td>\n",
              "      <td>238</td>\n",
              "      <td>144</td>\n",
              "      <td>0.072848</td>\n",
              "      <td>456</td>\n",
              "      <td>0</td>\n",
              "      <td>1</td>\n",
              "      <td>2.000000e+08</td>\n",
              "      <td>princetonLocky</td>\n",
              "    </tr>\n",
              "    <tr>\n",
              "      <th>...</th>\n",
              "      <td>...</td>\n",
              "      <td>...</td>\n",
              "      <td>...</td>\n",
              "      <td>...</td>\n",
              "      <td>...</td>\n",
              "      <td>...</td>\n",
              "      <td>...</td>\n",
              "      <td>...</td>\n",
              "      <td>...</td>\n",
              "      <td>...</td>\n",
              "    </tr>\n",
              "    <tr>\n",
              "      <th>2916692</th>\n",
              "      <td>12D3trgho1vJ4mGtWBRPyHdMJK96TRYSry</td>\n",
              "      <td>2018</td>\n",
              "      <td>330</td>\n",
              "      <td>0</td>\n",
              "      <td>0.111111</td>\n",
              "      <td>1</td>\n",
              "      <td>0</td>\n",
              "      <td>1</td>\n",
              "      <td>1.255809e+09</td>\n",
              "      <td>white</td>\n",
              "    </tr>\n",
              "    <tr>\n",
              "      <th>2916693</th>\n",
              "      <td>1P7PputTcVkhXBmXBvSD9MJ3UYPsiou1u2</td>\n",
              "      <td>2018</td>\n",
              "      <td>330</td>\n",
              "      <td>0</td>\n",
              "      <td>1.000000</td>\n",
              "      <td>1</td>\n",
              "      <td>0</td>\n",
              "      <td>1</td>\n",
              "      <td>4.409699e+07</td>\n",
              "      <td>white</td>\n",
              "    </tr>\n",
              "    <tr>\n",
              "      <th>2916694</th>\n",
              "      <td>1KYiKJEfdJtap9QX2v9BXJMpz2SfU4pgZw</td>\n",
              "      <td>2018</td>\n",
              "      <td>330</td>\n",
              "      <td>2</td>\n",
              "      <td>12.000000</td>\n",
              "      <td>6</td>\n",
              "      <td>6</td>\n",
              "      <td>35</td>\n",
              "      <td>2.398267e+09</td>\n",
              "      <td>white</td>\n",
              "    </tr>\n",
              "    <tr>\n",
              "      <th>2916695</th>\n",
              "      <td>15iPUJsRNZQZHmZZVwmQ63srsmughCXV4a</td>\n",
              "      <td>2018</td>\n",
              "      <td>330</td>\n",
              "      <td>0</td>\n",
              "      <td>0.500000</td>\n",
              "      <td>1</td>\n",
              "      <td>0</td>\n",
              "      <td>1</td>\n",
              "      <td>1.780427e+08</td>\n",
              "      <td>white</td>\n",
              "    </tr>\n",
              "    <tr>\n",
              "      <th>2916696</th>\n",
              "      <td>3LFFBxp15h9KSFtaw55np8eP5fv6kdK17e</td>\n",
              "      <td>2018</td>\n",
              "      <td>330</td>\n",
              "      <td>144</td>\n",
              "      <td>0.073972</td>\n",
              "      <td>6800</td>\n",
              "      <td>0</td>\n",
              "      <td>2</td>\n",
              "      <td>1.123500e+08</td>\n",
              "      <td>white</td>\n",
              "    </tr>\n",
              "  </tbody>\n",
              "</table>\n",
              "<p>2916697 rows × 10 columns</p>\n",
              "</div>\n",
              "      <button class=\"colab-df-convert\" onclick=\"convertToInteractive('df-7d9c8d94-8db2-4a5e-be35-148ec30bd253')\"\n",
              "              title=\"Convert this dataframe to an interactive table.\"\n",
              "              style=\"display:none;\">\n",
              "        \n",
              "  <svg xmlns=\"http://www.w3.org/2000/svg\" height=\"24px\"viewBox=\"0 0 24 24\"\n",
              "       width=\"24px\">\n",
              "    <path d=\"M0 0h24v24H0V0z\" fill=\"none\"/>\n",
              "    <path d=\"M18.56 5.44l.94 2.06.94-2.06 2.06-.94-2.06-.94-.94-2.06-.94 2.06-2.06.94zm-11 1L8.5 8.5l.94-2.06 2.06-.94-2.06-.94L8.5 2.5l-.94 2.06-2.06.94zm10 10l.94 2.06.94-2.06 2.06-.94-2.06-.94-.94-2.06-.94 2.06-2.06.94z\"/><path d=\"M17.41 7.96l-1.37-1.37c-.4-.4-.92-.59-1.43-.59-.52 0-1.04.2-1.43.59L10.3 9.45l-7.72 7.72c-.78.78-.78 2.05 0 2.83L4 21.41c.39.39.9.59 1.41.59.51 0 1.02-.2 1.41-.59l7.78-7.78 2.81-2.81c.8-.78.8-2.07 0-2.86zM5.41 20L4 18.59l7.72-7.72 1.47 1.35L5.41 20z\"/>\n",
              "  </svg>\n",
              "      </button>\n",
              "      \n",
              "  <style>\n",
              "    .colab-df-container {\n",
              "      display:flex;\n",
              "      flex-wrap:wrap;\n",
              "      gap: 12px;\n",
              "    }\n",
              "\n",
              "    .colab-df-convert {\n",
              "      background-color: #E8F0FE;\n",
              "      border: none;\n",
              "      border-radius: 50%;\n",
              "      cursor: pointer;\n",
              "      display: none;\n",
              "      fill: #1967D2;\n",
              "      height: 32px;\n",
              "      padding: 0 0 0 0;\n",
              "      width: 32px;\n",
              "    }\n",
              "\n",
              "    .colab-df-convert:hover {\n",
              "      background-color: #E2EBFA;\n",
              "      box-shadow: 0px 1px 2px rgba(60, 64, 67, 0.3), 0px 1px 3px 1px rgba(60, 64, 67, 0.15);\n",
              "      fill: #174EA6;\n",
              "    }\n",
              "\n",
              "    [theme=dark] .colab-df-convert {\n",
              "      background-color: #3B4455;\n",
              "      fill: #D2E3FC;\n",
              "    }\n",
              "\n",
              "    [theme=dark] .colab-df-convert:hover {\n",
              "      background-color: #434B5C;\n",
              "      box-shadow: 0px 1px 3px 1px rgba(0, 0, 0, 0.15);\n",
              "      filter: drop-shadow(0px 1px 2px rgba(0, 0, 0, 0.3));\n",
              "      fill: #FFFFFF;\n",
              "    }\n",
              "  </style>\n",
              "\n",
              "      <script>\n",
              "        const buttonEl =\n",
              "          document.querySelector('#df-7d9c8d94-8db2-4a5e-be35-148ec30bd253 button.colab-df-convert');\n",
              "        buttonEl.style.display =\n",
              "          google.colab.kernel.accessAllowed ? 'block' : 'none';\n",
              "\n",
              "        async function convertToInteractive(key) {\n",
              "          const element = document.querySelector('#df-7d9c8d94-8db2-4a5e-be35-148ec30bd253');\n",
              "          const dataTable =\n",
              "            await google.colab.kernel.invokeFunction('convertToInteractive',\n",
              "                                                     [key], {});\n",
              "          if (!dataTable) return;\n",
              "\n",
              "          const docLinkHtml = 'Like what you see? Visit the ' +\n",
              "            '<a target=\"_blank\" href=https://colab.research.google.com/notebooks/data_table.ipynb>data table notebook</a>'\n",
              "            + ' to learn more about interactive tables.';\n",
              "          element.innerHTML = '';\n",
              "          dataTable['output_type'] = 'display_data';\n",
              "          await google.colab.output.renderOutput(dataTable, element);\n",
              "          const docLink = document.createElement('div');\n",
              "          docLink.innerHTML = docLinkHtml;\n",
              "          element.appendChild(docLink);\n",
              "        }\n",
              "      </script>\n",
              "    </div>\n",
              "  </div>\n",
              "  "
            ],
            "text/plain": [
              "                                    address  ...            label\n",
              "0         111K8kZAEnJg245r2cM6y9zgJGHZtJPy6  ...  princetonCerber\n",
              "1        1123pJv8jzeFQaCV4w644pzQJzVWay2zcA  ...   princetonLocky\n",
              "2        112536im7hy6wtKbpH1qYDWtTyMRAcA2p7  ...  princetonCerber\n",
              "3        1126eDRw2wqSkWosjTCre8cjjQW8sSeWH7  ...  princetonCerber\n",
              "4        1129TSjKtx65E35GiUo4AYVeyo48twbrGX  ...   princetonLocky\n",
              "...                                     ...  ...              ...\n",
              "2916692  12D3trgho1vJ4mGtWBRPyHdMJK96TRYSry  ...            white\n",
              "2916693  1P7PputTcVkhXBmXBvSD9MJ3UYPsiou1u2  ...            white\n",
              "2916694  1KYiKJEfdJtap9QX2v9BXJMpz2SfU4pgZw  ...            white\n",
              "2916695  15iPUJsRNZQZHmZZVwmQ63srsmughCXV4a  ...            white\n",
              "2916696  3LFFBxp15h9KSFtaw55np8eP5fv6kdK17e  ...            white\n",
              "\n",
              "[2916697 rows x 10 columns]"
            ]
          },
          "metadata": {},
          "execution_count": 8
        }
      ]
    },
    {
      "cell_type": "code",
      "source": [
        "df.isnull().sum()"
      ],
      "metadata": {
        "colab": {
          "base_uri": "https://localhost:8080/"
        },
        "id": "AgOSpN8FOJyb",
        "outputId": "3b4efb6a-a95a-40c5-8591-eb6f8b3a58d4"
      },
      "execution_count": 9,
      "outputs": [
        {
          "output_type": "execute_result",
          "data": {
            "text/plain": [
              "address      0\n",
              "year         0\n",
              "day          0\n",
              "length       0\n",
              "weight       0\n",
              "count        0\n",
              "looped       0\n",
              "neighbors    0\n",
              "income       0\n",
              "label        0\n",
              "dtype: int64"
            ]
          },
          "metadata": {},
          "execution_count": 9
        }
      ]
    },
    {
      "cell_type": "code",
      "source": [
        "# df.drop(df.tail(1).index,inplace=True)\n",
        "# df.isnull().sum()"
      ],
      "metadata": {
        "id": "1VOoljOBN3xJ"
      },
      "execution_count": null,
      "outputs": []
    },
    {
      "cell_type": "code",
      "source": [
        "df.count()"
      ],
      "metadata": {
        "colab": {
          "base_uri": "https://localhost:8080/"
        },
        "id": "4ZfhJJtwONbW",
        "outputId": "cfb7deab-41a1-469a-e78c-74de97201067"
      },
      "execution_count": 10,
      "outputs": [
        {
          "output_type": "execute_result",
          "data": {
            "text/plain": [
              "address      2916697\n",
              "year         2916697\n",
              "day          2916697\n",
              "length       2916697\n",
              "weight       2916697\n",
              "count        2916697\n",
              "looped       2916697\n",
              "neighbors    2916697\n",
              "income       2916697\n",
              "label        2916697\n",
              "dtype: int64"
            ]
          },
          "metadata": {},
          "execution_count": 10
        }
      ]
    },
    {
      "cell_type": "code",
      "source": [
        "df_arr = df.to_numpy()\n",
        "\n",
        "X = df_arr[:, 1:-1]"
      ],
      "metadata": {
        "id": "bpx7VMKcOQIY"
      },
      "execution_count": 11,
      "outputs": []
    },
    {
      "cell_type": "code",
      "source": [
        "from sklearn.preprocessing import LabelEncoder\n",
        "\n",
        "le = LabelEncoder().fit(df_arr[:, -1])\n",
        "print(list(le.classes_))\n",
        "y = le.transform(df_arr[:, -1])"
      ],
      "metadata": {
        "colab": {
          "base_uri": "https://localhost:8080/"
        },
        "id": "1Z5LstcoOaRI",
        "outputId": "e74811dd-8538-4550-e5fd-4b57f343a431"
      },
      "execution_count": 12,
      "outputs": [
        {
          "output_type": "stream",
          "name": "stdout",
          "text": [
            "['montrealAPT', 'montrealComradeCircle', 'montrealCryptConsole', 'montrealCryptXXX', 'montrealCryptoLocker', 'montrealCryptoTorLocker2015', 'montrealDMALocker', 'montrealDMALockerv3', 'montrealEDA2', 'montrealFlyper', 'montrealGlobe', 'montrealGlobeImposter', 'montrealGlobev3', 'montrealJigSaw', 'montrealNoobCrypt', 'montrealRazy', 'montrealSam', 'montrealSamSam', 'montrealVenusLocker', 'montrealWannaCry', 'montrealXLocker', 'montrealXLockerv5.0', 'montrealXTPLocker', 'paduaCryptoWall', 'paduaJigsaw', 'paduaKeRanger', 'princetonCerber', 'princetonLocky', 'white']\n"
          ]
        }
      ]
    },
    {
      "cell_type": "code",
      "source": [
        "print(f'X shape: {X.shape}')\n",
        "print(f'y shape: {y.shape}')"
      ],
      "metadata": {
        "colab": {
          "base_uri": "https://localhost:8080/"
        },
        "id": "8xRkg0LkOf8x",
        "outputId": "81e3462e-3148-47c6-84cb-7e173e5c9555"
      },
      "execution_count": 13,
      "outputs": [
        {
          "output_type": "stream",
          "name": "stdout",
          "text": [
            "X shape: (2916697, 8)\n",
            "y shape: (2916697,)\n"
          ]
        }
      ]
    },
    {
      "cell_type": "code",
      "source": [
        "cor = df.corr()\n",
        "f, ax = plt.subplots(figsize=(12,9))\n",
        "sns.heatmap(cor, vmax=0.8, square=True)"
      ],
      "metadata": {
        "colab": {
          "base_uri": "https://localhost:8080/",
          "height": 559
        },
        "id": "8RsUirtLOmY6",
        "outputId": "7f19fb67-c0dc-4d7a-a875-c04613ef46ac"
      },
      "execution_count": 14,
      "outputs": [
        {
          "output_type": "execute_result",
          "data": {
            "text/plain": [
              "<matplotlib.axes._subplots.AxesSubplot at 0x7f5aadda9ad0>"
            ]
          },
          "metadata": {},
          "execution_count": 14
        },
        {
          "output_type": "display_data",
          "data": {
            "image/png": "[encoded data removed]",
            "text/plain": [
              "<Figure size 864x648 with 2 Axes>"
            ]
          },
          "metadata": {
            "needs_background": "light"
          }
        }
      ]
    },
    {
      "cell_type": "code",
      "source": [
        "df.columns"
      ],
      "metadata": {
        "colab": {
          "base_uri": "https://localhost:8080/"
        },
        "id": "SK_YgvISO7qW",
        "outputId": "21806251-4e71-4211-e2e5-580d0bd576b9"
      },
      "execution_count": 15,
      "outputs": [
        {
          "output_type": "execute_result",
          "data": {
            "text/plain": [
              "Index(['address', 'year', 'day', 'length', 'weight', 'count', 'looped',\n",
              "       'neighbors', 'income', 'label'],\n",
              "      dtype='object')"
            ]
          },
          "metadata": {},
          "execution_count": 15
        }
      ]
    },
    {
      "cell_type": "code",
      "source": [
        "pd.DataFrame(X, columns=df.columns[1:-1]).head()"
      ],
      "metadata": {
        "colab": {
          "base_uri": "https://localhost:8080/",
          "height": 206
        },
        "id": "hTvO3OOZSfs-",
        "outputId": "6eef9a54-7e7f-4990-f095-aed678442bc5"
      },
      "execution_count": 16,
      "outputs": [
        {
          "output_type": "execute_result",
          "data": {
            "text/html": [
              "\n",
              "  <div id=\"df-ab23cf19-7f9a-48b0-ab27-106eeb2cc4ed\">\n",
              "    <div class=\"colab-df-container\">\n",
              "      <div>\n",
              "<style scoped>\n",
              "    .dataframe tbody tr th:only-of-type {\n",
              "        vertical-align: middle;\n",
              "    }\n",
              "\n",
              "    .dataframe tbody tr th {\n",
              "        vertical-align: top;\n",
              "    }\n",
              "\n",
              "    .dataframe thead th {\n",
              "        text-align: right;\n",
              "    }\n",
              "</style>\n",
              "<table border=\"1\" class=\"dataframe\">\n",
              "  <thead>\n",
              "    <tr style=\"text-align: right;\">\n",
              "      <th></th>\n",
              "      <th>year</th>\n",
              "      <th>day</th>\n",
              "      <th>length</th>\n",
              "      <th>weight</th>\n",
              "      <th>count</th>\n",
              "      <th>looped</th>\n",
              "      <th>neighbors</th>\n",
              "      <th>income</th>\n",
              "    </tr>\n",
              "  </thead>\n",
              "  <tbody>\n",
              "    <tr>\n",
              "      <th>0</th>\n",
              "      <td>2017</td>\n",
              "      <td>11</td>\n",
              "      <td>18</td>\n",
              "      <td>0.008333</td>\n",
              "      <td>1</td>\n",
              "      <td>0</td>\n",
              "      <td>2</td>\n",
              "      <td>100050000.0</td>\n",
              "    </tr>\n",
              "    <tr>\n",
              "      <th>1</th>\n",
              "      <td>2016</td>\n",
              "      <td>132</td>\n",
              "      <td>44</td>\n",
              "      <td>0.000244</td>\n",
              "      <td>1</td>\n",
              "      <td>0</td>\n",
              "      <td>1</td>\n",
              "      <td>100000000.0</td>\n",
              "    </tr>\n",
              "    <tr>\n",
              "      <th>2</th>\n",
              "      <td>2016</td>\n",
              "      <td>246</td>\n",
              "      <td>0</td>\n",
              "      <td>1.0</td>\n",
              "      <td>1</td>\n",
              "      <td>0</td>\n",
              "      <td>2</td>\n",
              "      <td>200000000.0</td>\n",
              "    </tr>\n",
              "    <tr>\n",
              "      <th>3</th>\n",
              "      <td>2016</td>\n",
              "      <td>322</td>\n",
              "      <td>72</td>\n",
              "      <td>0.003906</td>\n",
              "      <td>1</td>\n",
              "      <td>0</td>\n",
              "      <td>2</td>\n",
              "      <td>71200000.0</td>\n",
              "    </tr>\n",
              "    <tr>\n",
              "      <th>4</th>\n",
              "      <td>2016</td>\n",
              "      <td>238</td>\n",
              "      <td>144</td>\n",
              "      <td>0.072848</td>\n",
              "      <td>456</td>\n",
              "      <td>0</td>\n",
              "      <td>1</td>\n",
              "      <td>200000000.0</td>\n",
              "    </tr>\n",
              "  </tbody>\n",
              "</table>\n",
              "</div>\n",
              "      <button class=\"colab-df-convert\" onclick=\"convertToInteractive('df-ab23cf19-7f9a-48b0-ab27-106eeb2cc4ed')\"\n",
              "              title=\"Convert this dataframe to an interactive table.\"\n",
              "              style=\"display:none;\">\n",
              "        \n",
              "  <svg xmlns=\"http://www.w3.org/2000/svg\" height=\"24px\"viewBox=\"0 0 24 24\"\n",
              "       width=\"24px\">\n",
              "    <path d=\"M0 0h24v24H0V0z\" fill=\"none\"/>\n",
              "    <path d=\"M18.56 5.44l.94 2.06.94-2.06 2.06-.94-2.06-.94-.94-2.06-.94 2.06-2.06.94zm-11 1L8.5 8.5l.94-2.06 2.06-.94-2.06-.94L8.5 2.5l-.94 2.06-2.06.94zm10 10l.94 2.06.94-2.06 2.06-.94-2.06-.94-.94-2.06-.94 2.06-2.06.94z\"/><path d=\"M17.41 7.96l-1.37-1.37c-.4-.4-.92-.59-1.43-.59-.52 0-1.04.2-1.43.59L10.3 9.45l-7.72 7.72c-.78.78-.78 2.05 0 2.83L4 21.41c.39.39.9.59 1.41.59.51 0 1.02-.2 1.41-.59l7.78-7.78 2.81-2.81c.8-.78.8-2.07 0-2.86zM5.41 20L4 18.59l7.72-7.72 1.47 1.35L5.41 20z\"/>\n",
              "  </svg>\n",
              "      </button>\n",
              "      \n",
              "  <style>\n",
              "    .colab-df-container {\n",
              "      display:flex;\n",
              "      flex-wrap:wrap;\n",
              "      gap: 12px;\n",
              "    }\n",
              "\n",
              "    .colab-df-convert {\n",
              "      background-color: #E8F0FE;\n",
              "      border: none;\n",
              "      border-radius: 50%;\n",
              "      cursor: pointer;\n",
              "      display: none;\n",
              "      fill: #1967D2;\n",
              "      height: 32px;\n",
              "      padding: 0 0 0 0;\n",
              "      width: 32px;\n",
              "    }\n",
              "\n",
              "    .colab-df-convert:hover {\n",
              "      background-color: #E2EBFA;\n",
              "      box-shadow: 0px 1px 2px rgba(60, 64, 67, 0.3), 0px 1px 3px 1px rgba(60, 64, 67, 0.15);\n",
              "      fill: #174EA6;\n",
              "    }\n",
              "\n",
              "    [theme=dark] .colab-df-convert {\n",
              "      background-color: #3B4455;\n",
              "      fill: #D2E3FC;\n",
              "    }\n",
              "\n",
              "    [theme=dark] .colab-df-convert:hover {\n",
              "      background-color: #434B5C;\n",
              "      box-shadow: 0px 1px 3px 1px rgba(0, 0, 0, 0.15);\n",
              "      filter: drop-shadow(0px 1px 2px rgba(0, 0, 0, 0.3));\n",
              "      fill: #FFFFFF;\n",
              "    }\n",
              "  </style>\n",
              "\n",
              "      <script>\n",
              "        const buttonEl =\n",
              "          document.querySelector('#df-ab23cf19-7f9a-48b0-ab27-106eeb2cc4ed button.colab-df-convert');\n",
              "        buttonEl.style.display =\n",
              "          google.colab.kernel.accessAllowed ? 'block' : 'none';\n",
              "\n",
              "        async function convertToInteractive(key) {\n",
              "          const element = document.querySelector('#df-ab23cf19-7f9a-48b0-ab27-106eeb2cc4ed');\n",
              "          const dataTable =\n",
              "            await google.colab.kernel.invokeFunction('convertToInteractive',\n",
              "                                                     [key], {});\n",
              "          if (!dataTable) return;\n",
              "\n",
              "          const docLinkHtml = 'Like what you see? Visit the ' +\n",
              "            '<a target=\"_blank\" href=https://colab.research.google.com/notebooks/data_table.ipynb>data table notebook</a>'\n",
              "            + ' to learn more about interactive tables.';\n",
              "          element.innerHTML = '';\n",
              "          dataTable['output_type'] = 'display_data';\n",
              "          await google.colab.output.renderOutput(dataTable, element);\n",
              "          const docLink = document.createElement('div');\n",
              "          docLink.innerHTML = docLinkHtml;\n",
              "          element.appendChild(docLink);\n",
              "        }\n",
              "      </script>\n",
              "    </div>\n",
              "  </div>\n",
              "  "
            ],
            "text/plain": [
              "   year  day length    weight count looped neighbors       income\n",
              "0  2017   11     18  0.008333     1      0         2  100050000.0\n",
              "1  2016  132     44  0.000244     1      0         1  100000000.0\n",
              "2  2016  246      0       1.0     1      0         2  200000000.0\n",
              "3  2016  322     72  0.003906     1      0         2   71200000.0\n",
              "4  2016  238    144  0.072848   456      0         1  200000000.0"
            ]
          },
          "metadata": {},
          "execution_count": 16
        }
      ]
    },
    {
      "cell_type": "code",
      "source": [
        "pd.DataFrame(y, columns=['Target']).head()"
      ],
      "metadata": {
        "colab": {
          "base_uri": "https://localhost:8080/",
          "height": 206
        },
        "id": "Nq2wiQTzSv_d",
        "outputId": "b6f7b038-159c-46af-90e9-aafc5aec9700"
      },
      "execution_count": 17,
      "outputs": [
        {
          "output_type": "execute_result",
          "data": {
            "text/html": [
              "\n",
              "  <div id=\"df-d2c9599f-8063-408e-ab2f-90481b84a4ea\">\n",
              "    <div class=\"colab-df-container\">\n",
              "      <div>\n",
              "<style scoped>\n",
              "    .dataframe tbody tr th:only-of-type {\n",
              "        vertical-align: middle;\n",
              "    }\n",
              "\n",
              "    .dataframe tbody tr th {\n",
              "        vertical-align: top;\n",
              "    }\n",
              "\n",
              "    .dataframe thead th {\n",
              "        text-align: right;\n",
              "    }\n",
              "</style>\n",
              "<table border=\"1\" class=\"dataframe\">\n",
              "  <thead>\n",
              "    <tr style=\"text-align: right;\">\n",
              "      <th></th>\n",
              "      <th>Target</th>\n",
              "    </tr>\n",
              "  </thead>\n",
              "  <tbody>\n",
              "    <tr>\n",
              "      <th>0</th>\n",
              "      <td>26</td>\n",
              "    </tr>\n",
              "    <tr>\n",
              "      <th>1</th>\n",
              "      <td>27</td>\n",
              "    </tr>\n",
              "    <tr>\n",
              "      <th>2</th>\n",
              "      <td>26</td>\n",
              "    </tr>\n",
              "    <tr>\n",
              "      <th>3</th>\n",
              "      <td>26</td>\n",
              "    </tr>\n",
              "    <tr>\n",
              "      <th>4</th>\n",
              "      <td>27</td>\n",
              "    </tr>\n",
              "  </tbody>\n",
              "</table>\n",
              "</div>\n",
              "      <button class=\"colab-df-convert\" onclick=\"convertToInteractive('df-d2c9599f-8063-408e-ab2f-90481b84a4ea')\"\n",
              "              title=\"Convert this dataframe to an interactive table.\"\n",
              "              style=\"display:none;\">\n",
              "        \n",
              "  <svg xmlns=\"http://www.w3.org/2000/svg\" height=\"24px\"viewBox=\"0 0 24 24\"\n",
              "       width=\"24px\">\n",
              "    <path d=\"M0 0h24v24H0V0z\" fill=\"none\"/>\n",
              "    <path d=\"M18.56 5.44l.94 2.06.94-2.06 2.06-.94-2.06-.94-.94-2.06-.94 2.06-2.06.94zm-11 1L8.5 8.5l.94-2.06 2.06-.94-2.06-.94L8.5 2.5l-.94 2.06-2.06.94zm10 10l.94 2.06.94-2.06 2.06-.94-2.06-.94-.94-2.06-.94 2.06-2.06.94z\"/><path d=\"M17.41 7.96l-1.37-1.37c-.4-.4-.92-.59-1.43-.59-.52 0-1.04.2-1.43.59L10.3 9.45l-7.72 7.72c-.78.78-.78 2.05 0 2.83L4 21.41c.39.39.9.59 1.41.59.51 0 1.02-.2 1.41-.59l7.78-7.78 2.81-2.81c.8-.78.8-2.07 0-2.86zM5.41 20L4 18.59l7.72-7.72 1.47 1.35L5.41 20z\"/>\n",
              "  </svg>\n",
              "      </button>\n",
              "      \n",
              "  <style>\n",
              "    .colab-df-container {\n",
              "      display:flex;\n",
              "      flex-wrap:wrap;\n",
              "      gap: 12px;\n",
              "    }\n",
              "\n",
              "    .colab-df-convert {\n",
              "      background-color: #E8F0FE;\n",
              "      border: none;\n",
              "      border-radius: 50%;\n",
              "      cursor: pointer;\n",
              "      display: none;\n",
              "      fill: #1967D2;\n",
              "      height: 32px;\n",
              "      padding: 0 0 0 0;\n",
              "      width: 32px;\n",
              "    }\n",
              "\n",
              "    .colab-df-convert:hover {\n",
              "      background-color: #E2EBFA;\n",
              "      box-shadow: 0px 1px 2px rgba(60, 64, 67, 0.3), 0px 1px 3px 1px rgba(60, 64, 67, 0.15);\n",
              "      fill: #174EA6;\n",
              "    }\n",
              "\n",
              "    [theme=dark] .colab-df-convert {\n",
              "      background-color: #3B4455;\n",
              "      fill: #D2E3FC;\n",
              "    }\n",
              "\n",
              "    [theme=dark] .colab-df-convert:hover {\n",
              "      background-color: #434B5C;\n",
              "      box-shadow: 0px 1px 3px 1px rgba(0, 0, 0, 0.15);\n",
              "      filter: drop-shadow(0px 1px 2px rgba(0, 0, 0, 0.3));\n",
              "      fill: #FFFFFF;\n",
              "    }\n",
              "  </style>\n",
              "\n",
              "      <script>\n",
              "        const buttonEl =\n",
              "          document.querySelector('#df-d2c9599f-8063-408e-ab2f-90481b84a4ea button.colab-df-convert');\n",
              "        buttonEl.style.display =\n",
              "          google.colab.kernel.accessAllowed ? 'block' : 'none';\n",
              "\n",
              "        async function convertToInteractive(key) {\n",
              "          const element = document.querySelector('#df-d2c9599f-8063-408e-ab2f-90481b84a4ea');\n",
              "          const dataTable =\n",
              "            await google.colab.kernel.invokeFunction('convertToInteractive',\n",
              "                                                     [key], {});\n",
              "          if (!dataTable) return;\n",
              "\n",
              "          const docLinkHtml = 'Like what you see? Visit the ' +\n",
              "            '<a target=\"_blank\" href=https://colab.research.google.com/notebooks/data_table.ipynb>data table notebook</a>'\n",
              "            + ' to learn more about interactive tables.';\n",
              "          element.innerHTML = '';\n",
              "          dataTable['output_type'] = 'display_data';\n",
              "          await google.colab.output.renderOutput(dataTable, element);\n",
              "          const docLink = document.createElement('div');\n",
              "          docLink.innerHTML = docLinkHtml;\n",
              "          element.appendChild(docLink);\n",
              "        }\n",
              "      </script>\n",
              "    </div>\n",
              "  </div>\n",
              "  "
            ],
            "text/plain": [
              "   Target\n",
              "0      26\n",
              "1      27\n",
              "2      26\n",
              "3      26\n",
              "4      27"
            ]
          },
          "metadata": {},
          "execution_count": 17
        }
      ]
    },
    {
      "cell_type": "code",
      "source": [
        "X_train, X_test, y_train, y_test = train_test_split(X, y, test_size=0.5, random_state=32)"
      ],
      "metadata": {
        "id": "aAVv-LlBPRa5"
      },
      "execution_count": 143,
      "outputs": []
    },
    {
      "cell_type": "code",
      "source": [
        "print(f'X_train shape: {X_train.shape}')\n",
        "print(f'X_test shape: {X_test.shape}')\n",
        "print(f'y_train shape: {y_train.shape}')\n",
        "print(f'y_test shape: {y_test.shape}')"
      ],
      "metadata": {
        "colab": {
          "base_uri": "https://localhost:8080/"
        },
        "id": "xrFkpqmIPcAY",
        "outputId": "46dfe5f6-01d5-45ae-8475-1dc619b68b60"
      },
      "execution_count": 19,
      "outputs": [
        {
          "output_type": "stream",
          "name": "stdout",
          "text": [
            "X_train shape: (1458348, 8)\n",
            "X_test shape: (1458349, 8)\n",
            "y_train shape: (1458348,)\n",
            "y_test shape: (1458349,)\n"
          ]
        }
      ]
    },
    {
      "cell_type": "code",
      "source": [
        "X_train[0].shape"
      ],
      "metadata": {
        "colab": {
          "base_uri": "https://localhost:8080/"
        },
        "id": "Jl8hWI2GQ-4A",
        "outputId": "a45edd16-f8d7-41de-896c-899326b56e7d"
      },
      "execution_count": 20,
      "outputs": [
        {
          "output_type": "execute_result",
          "data": {
            "text/plain": [
              "(8,)"
            ]
          },
          "metadata": {},
          "execution_count": 20
        }
      ]
    },
    {
      "cell_type": "markdown",
      "source": [
        "## Decision Tree"
      ],
      "metadata": {
        "id": "MJ1ScEoPZU0a"
      }
    },
    {
      "cell_type": "code",
      "source": [
        "dtc = DecisionTreeClassifier()\n",
        "\n",
        "dtc.fit(X_train, y_train)"
      ],
      "metadata": {
        "colab": {
          "base_uri": "https://localhost:8080/"
        },
        "id": "MF_a7BuGTI5m",
        "outputId": "385aa3e9-cdf9-4455-f51f-3307c4da96f1"
      },
      "execution_count": 21,
      "outputs": [
        {
          "output_type": "execute_result",
          "data": {
            "text/plain": [
              "DecisionTreeClassifier()"
            ]
          },
          "metadata": {},
          "execution_count": 21
        }
      ]
    },
    {
      "cell_type": "code",
      "source": [
        "print(f'Accuracy of DecisionTreeClassifier: {dtc.score(X_train, y_train)}')"
      ],
      "metadata": {
        "colab": {
          "base_uri": "https://localhost:8080/"
        },
        "id": "nQZTpLGQTQ4R",
        "outputId": "e114c7b5-2294-47b8-ea1c-b0b80760e2b5"
      },
      "execution_count": 22,
      "outputs": [
        {
          "output_type": "stream",
          "name": "stdout",
          "text": [
            "Accuracy of DecisionTreeClassifier: 0.9996948602116916\n"
          ]
        }
      ]
    },
    {
      "cell_type": "code",
      "source": [
        "y_pred = dtc.predict(X_test)\n",
        "\n",
        "print(mean_squared_error(y_test, y_pred))\n",
        "print(r2_score(y_test, y_pred))"
      ],
      "metadata": {
        "colab": {
          "base_uri": "https://localhost:8080/"
        },
        "id": "AvszYtuxTUZR",
        "outputId": "f72d63dd-374e-4642-e41b-639620ae75ac"
      },
      "execution_count": 25,
      "outputs": [
        {
          "output_type": "stream",
          "name": "stdout",
          "text": [
            "4.042570056961674\n",
            "-0.5275602924255518\n"
          ]
        }
      ]
    },
    {
      "cell_type": "markdown",
      "source": [
        "Threading"
      ],
      "metadata": {
        "id": "2vBHfTcMW4q1"
      }
    },
    {
      "cell_type": "code",
      "source": [
        "from joblib import parallel_backend\n",
        "\n",
        "dtc_p = DecisionTreeClassifier()\n",
        "\n",
        "with parallel_backend('threading', n_jobs=2):\n",
        "  dtc_p.fit(X_train, y_train)"
      ],
      "metadata": {
        "id": "dbQb9m_QUbbI"
      },
      "execution_count": 26,
      "outputs": []
    },
    {
      "cell_type": "code",
      "source": [
        "print(f'Accuracy of DecisionTreeClassifier with threading: {dtc_p.score(X_train, y_train)}')\n",
        "\n",
        "y_pred_p = dtc_p.predict(X_test)\n",
        "\n",
        "print(mean_squared_error(y_test, y_pred_p))\n",
        "print(r2_score(y_test, y_pred_p))"
      ],
      "metadata": {
        "colab": {
          "base_uri": "https://localhost:8080/"
        },
        "id": "wp90S8Q_Vax8",
        "outputId": "e0b7372c-3da8-4ff7-dfc3-b995b4426653"
      },
      "execution_count": 27,
      "outputs": [
        {
          "output_type": "stream",
          "name": "stdout",
          "text": [
            "Accuracy of DecisionTreeClassifier with threading: 0.9996948602116916\n",
            "4.044732090878109\n",
            "-0.5283772571571677\n"
          ]
        }
      ]
    },
    {
      "cell_type": "code",
      "source": [
        ""
      ],
      "metadata": {
        "id": "s92vAMUQVsFp"
      },
      "execution_count": 27,
      "outputs": []
    },
    {
      "cell_type": "markdown",
      "source": [
        "## KNN"
      ],
      "metadata": {
        "id": "kmkYzzN_Wuv-"
      }
    },
    {
      "cell_type": "code",
      "source": [
        "from sklearn.neighbors import KNeighborsClassifier"
      ],
      "metadata": {
        "id": "GjoGZROwVsDC"
      },
      "execution_count": 28,
      "outputs": []
    },
    {
      "cell_type": "code",
      "source": [
        "KNN = KNeighborsClassifier(n_neighbors=29)"
      ],
      "metadata": {
        "id": "kOOaayT0VsAc"
      },
      "execution_count": 29,
      "outputs": []
    },
    {
      "cell_type": "code",
      "source": [
        "KNN.fit(X_train, y_train)"
      ],
      "metadata": {
        "colab": {
          "base_uri": "https://localhost:8080/"
        },
        "id": "bH-vIhzyV4O-",
        "outputId": "2e554f66-cfde-47d9-bb8b-a5d1560d3f81"
      },
      "execution_count": 30,
      "outputs": [
        {
          "output_type": "execute_result",
          "data": {
            "text/plain": [
              "KNeighborsClassifier(n_neighbors=29)"
            ]
          },
          "metadata": {},
          "execution_count": 30
        }
      ]
    },
    {
      "cell_type": "code",
      "source": [
        "print(f'Accuracy of DecisionTreeClassifier with threading: {KNN.score(X_train, y_train)}')\n",
        "\n",
        "y_pred = KNN.predict(X_test)\n",
        "\n",
        "print(r2_score(y_test, y_pred))"
      ],
      "metadata": {
        "colab": {
          "base_uri": "https://localhost:8080/"
        },
        "id": "qPXlECUSWGwi",
        "outputId": "73d29a5e-6b49-4cd7-9e27-24505ceeba47"
      },
      "execution_count": 31,
      "outputs": [
        {
          "output_type": "stream",
          "name": "stdout",
          "text": [
            "Accuracy of DecisionTreeClassifier with threading: 0.9869749881372621\n",
            "0.06906441305623257\n"
          ]
        }
      ]
    },
    {
      "cell_type": "markdown",
      "source": [
        "Threading"
      ],
      "metadata": {
        "id": "16GnEpntW8Ez"
      }
    },
    {
      "cell_type": "code",
      "source": [
        "with parallel_backend('threading', n_jobs=3):\n",
        "  KNN.fit(X_train, y_train)"
      ],
      "metadata": {
        "id": "FJw6MzzLV4Mp"
      },
      "execution_count": 32,
      "outputs": []
    },
    {
      "cell_type": "code",
      "source": [
        "print(f'Accuracy of DecisionTreeClassifier with threading: {KNN.score(X_train, y_train)}')\n",
        "\n",
        "y_pred_p = KNN.predict(X_test)\n",
        "print(r2_score(y_test, y_pred_p))"
      ],
      "metadata": {
        "colab": {
          "base_uri": "https://localhost:8080/"
        },
        "id": "rE2nKXzxV4KL",
        "outputId": "3afe0a09-5a15-4c92-b90c-cd2553a1abb6"
      },
      "execution_count": 33,
      "outputs": [
        {
          "output_type": "stream",
          "name": "stdout",
          "text": [
            "Accuracy of DecisionTreeClassifier with threading: 0.9869749881372621\n",
            "0.06906441305623257\n"
          ]
        }
      ]
    },
    {
      "cell_type": "code",
      "source": [
        ""
      ],
      "metadata": {
        "id": "MA4PVUlNWxG3"
      },
      "execution_count": 33,
      "outputs": []
    },
    {
      "cell_type": "markdown",
      "source": [
        "## RandomForestClassifier"
      ],
      "metadata": {
        "id": "f-WvAcs9XkFd"
      }
    },
    {
      "cell_type": "code",
      "source": [
        "from sklearn.ensemble import RandomForestClassifier"
      ],
      "metadata": {
        "id": "0Biung6oXmkl"
      },
      "execution_count": 34,
      "outputs": []
    },
    {
      "cell_type": "code",
      "source": [
        "rdc = RandomForestClassifier()"
      ],
      "metadata": {
        "id": "dRBFhGpUXm-P"
      },
      "execution_count": 35,
      "outputs": []
    },
    {
      "cell_type": "code",
      "source": [
        "rdc.fit(X_train, y_train)"
      ],
      "metadata": {
        "colab": {
          "base_uri": "https://localhost:8080/"
        },
        "id": "ZBffuk7CXm8A",
        "outputId": "6bbc09c8-e058-45ab-eddb-9c1ee0d81127"
      },
      "execution_count": 36,
      "outputs": [
        {
          "output_type": "execute_result",
          "data": {
            "text/plain": [
              "RandomForestClassifier()"
            ]
          },
          "metadata": {},
          "execution_count": 36
        }
      ]
    },
    {
      "cell_type": "code",
      "source": [
        "print(f'Accuracy of DecisionTreeClassifier with threading: {rdc.score(X_train, y_train)}')\n",
        "\n",
        "y_pred = rdc.predict(X_test)\n",
        "\n",
        "print(mean_squared_error(y_test, y_pred))\n",
        "print(r2_score(y_test, y_pred))"
      ],
      "metadata": {
        "colab": {
          "base_uri": "https://localhost:8080/"
        },
        "id": "UzZbyemxXm5j",
        "outputId": "840d7a32-37ed-46f2-8e7c-efc903e898d2"
      },
      "execution_count": 37,
      "outputs": [
        {
          "output_type": "stream",
          "name": "stdout",
          "text": [
            "Accuracy of DecisionTreeClassifier with threading: 0.999688003137797\n",
            "2.3349671443529636\n",
            "0.117689231460687\n"
          ]
        }
      ]
    },
    {
      "cell_type": "markdown",
      "source": [
        "Threading"
      ],
      "metadata": {
        "id": "a5iERzL_X9wS"
      }
    },
    {
      "cell_type": "code",
      "source": [
        "with parallel_backend('threading', n_jobs=3):\n",
        "  rdc.fit(X_train, y_train)"
      ],
      "metadata": {
        "id": "1uB2f6mQX1qY"
      },
      "execution_count": 38,
      "outputs": []
    },
    {
      "cell_type": "code",
      "source": [
        "print(f'Accuracy of DecisionTreeClassifier with threading: {rdc.score(X_train, y_train)}')\n",
        "\n",
        "y_pred = rdc.predict(X_test)\n",
        "\n",
        "print(mean_squared_error(y_test, y_pred))\n",
        "print(r2_score(y_test, y_pred))"
      ],
      "metadata": {
        "colab": {
          "base_uri": "https://localhost:8080/"
        },
        "id": "EU_EjdMwX6BG",
        "outputId": "abf0295b-2f00-4c84-89bb-2de852c1a310"
      },
      "execution_count": 39,
      "outputs": [
        {
          "output_type": "stream",
          "name": "stdout",
          "text": [
            "Accuracy of DecisionTreeClassifier with threading: 0.9996893745525759\n",
            "2.339609380196373\n",
            "0.11593507629638633\n"
          ]
        }
      ]
    },
    {
      "cell_type": "markdown",
      "source": [
        "Threading - 4 models"
      ],
      "metadata": {
        "id": "-eeQwAfMhcwv"
      }
    },
    {
      "cell_type": "code",
      "source": [
        "from sklearn.linear_model import LogisticRegression\n",
        "import multiprocessing\n",
        "import pickle"
      ],
      "metadata": {
        "id": "K10sjm9uh6Dp"
      },
      "execution_count": 40,
      "outputs": []
    },
    {
      "cell_type": "code",
      "source": [
        "logistic = LogisticRegression(max_iter=25)\n",
        "forest = RandomForestClassifier()\n",
        "tree = DecisionTreeClassifier()\n",
        "knn = KNeighborsClassifier(n_neighbors=29)"
      ],
      "metadata": {
        "id": "bPn10k_UhYzH"
      },
      "execution_count": 53,
      "outputs": []
    },
    {
      "cell_type": "code",
      "source": [
        "def train_test(model):\n",
        "    global X_train, y_train, X_test, y_train\n",
        "\n",
        "    print(f'------- {model[1]} ------- ')\n",
        "\n",
        "    # Train the model\n",
        "    model[0].fit(X_train,y_train)\n",
        "\n",
        "    # model score\n",
        "    print(f'Score of {model[1]} model: {model[0].score(X_train, y_train)}')\n",
        "\n",
        "    # predict\n",
        "    y_pred = model[0].predict(X_test)\n",
        "\n",
        "    # test\n",
        "    print(f'Mean Squared Error of {model[1]} model: {mean_squared_error(y_test, y_pred)}')\n",
        "    print(f'R2 Score of {model[1]} model: {r2_score(y_test, y_pred)}')\n",
        "\n",
        "    # Save model\n",
        "    pickle.dump(model[0],open(model[1],\"wb\"))\n",
        "    print(f\"{model[1]} MODEL SAVED\")\n",
        "\n",
        "    print('\\n', '-'*20, '\\n')"
      ],
      "metadata": {
        "id": "IuNXjxDxiMGg"
      },
      "execution_count": 56,
      "outputs": []
    },
    {
      "cell_type": "code",
      "source": [
        "models = [\n",
        "          [logistic,\"logistic\"], \n",
        "          [forest,\"forest\"], \n",
        "          [tree,\"tree\"], \n",
        "          [knn, \"knn\"]\n",
        "          ]"
      ],
      "metadata": {
        "id": "BHgXBqMZhhMd"
      },
      "execution_count": 59,
      "outputs": []
    },
    {
      "cell_type": "code",
      "source": [
        "pool = multiprocessing.Pool(processes = len(models))\n",
        "\n",
        "%time pool.map(train_test, models)"
      ],
      "metadata": {
        "colab": {
          "base_uri": "https://localhost:8080/"
        },
        "id": "xp1bOV3jjDhp",
        "outputId": "70b3fa8e-2d7d-4e94-dd81-f36d6c0e6424"
      },
      "execution_count": 61,
      "outputs": [
        {
          "output_type": "stream",
          "name": "stdout",
          "text": [
            "------- forest ------- \n",
            "------- tree ------- \n",
            "------- logistic ------- \n",
            "------- knn ------- \n",
            "Score of tree model: 0.9996948602116916\n",
            "Mean Squared Error of tree model: 4.016208054450615\n",
            "R2 Score of tree model: -0.5175989194135076\n",
            "tree MODEL SAVED\n",
            "\n",
            " -------------------- \n",
            "\n",
            "Score of knn model: 0.9869749881372621\n"
          ]
        },
        {
          "output_type": "stream",
          "name": "stderr",
          "text": [
            "/usr/local/lib/python3.7/dist-packages/sklearn/linear_model/_logistic.py:818: ConvergenceWarning: lbfgs failed to converge (status=1):\n",
            "STOP: TOTAL NO. of ITERATIONS REACHED LIMIT.\n",
            "\n",
            "Increase the number of iterations (max_iter) or scale the data as shown in:\n",
            "    https://scikit-learn.org/stable/modules/preprocessing.html\n",
            "Please also refer to the documentation for alternative solver options:\n",
            "    https://scikit-learn.org/stable/modules/linear_model.html#logistic-regression\n",
            "  extra_warning_msg=_LOGISTIC_SOLVER_CONVERGENCE_MSG,\n"
          ]
        },
        {
          "output_type": "stream",
          "name": "stdout",
          "text": [
            "Score of logistic model: 0.9859203701722771\n",
            "Mean Squared Error of logistic model: 2.6651795969277585\n",
            "R2 Score of logistic model: -0.007087686072023702\n",
            "logistic MODEL SAVED\n",
            "\n",
            " -------------------- \n",
            "\n",
            "Mean Squared Error of knn model: 2.4636489619425803\n",
            "R2 Score of knn model: 0.06906441305623257\n",
            "knn MODEL SAVED\n",
            "\n",
            " -------------------- \n",
            "\n",
            "Score of forest model: 0.9996832031860708\n",
            "Mean Squared Error of forest model: 2.3465377629086044\n",
            "R2 Score of forest model: 0.11331705801276837\n",
            "forest MODEL SAVED\n",
            "\n",
            " -------------------- \n",
            "\n",
            "CPU times: user 5.02 s, sys: 825 ms, total: 5.85 s\n",
            "Wall time: 12min 25s\n"
          ]
        },
        {
          "output_type": "execute_result",
          "data": {
            "text/plain": [
              "[None, None, None, None]"
            ]
          },
          "metadata": {},
          "execution_count": 61
        }
      ]
    },
    {
      "cell_type": "code",
      "source": [
        "!mkdir trained_models"
      ],
      "metadata": {
        "id": "xrqOwVGLqG0H"
      },
      "execution_count": 62,
      "outputs": []
    },
    {
      "cell_type": "code",
      "source": [
        "!mv \"/content/tree\" \"/content/trained_models\"\n",
        "!mv \"/content/forest\" \"/content/trained_models\"\n",
        "!mv \"/content/knn\" \"/content/trained_models\"\n",
        "!mv \"/content/logistic\" \"/content/trained_models\""
      ],
      "metadata": {
        "id": "8SWyx9AMsWLn"
      },
      "execution_count": 63,
      "outputs": []
    },
    {
      "cell_type": "code",
      "source": [
        "from google.colab import files"
      ],
      "metadata": {
        "id": "y0FO-9fnrHFm"
      },
      "execution_count": 64,
      "outputs": []
    },
    {
      "cell_type": "code",
      "source": [
        "!zip -r /content/trained_models.zip /content/trained_models"
      ],
      "metadata": {
        "colab": {
          "base_uri": "https://localhost:8080/"
        },
        "id": "I0uoMVnwqBIk",
        "outputId": "dbcfa3b5-922e-44a4-9a9a-b0881e7757ce"
      },
      "execution_count": 65,
      "outputs": [
        {
          "output_type": "stream",
          "name": "stdout",
          "text": [
            "  adding: content/trained_models/ (stored 0%)\n",
            "  adding: content/trained_models/knn (deflated 74%)\n",
            "  adding: content/trained_models/logistic (deflated 13%)\n",
            "  adding: content/trained_models/tree (deflated 95%)\n",
            "  adding: content/trained_models/forest (deflated 94%)\n"
          ]
        }
      ]
    },
    {
      "cell_type": "code",
      "source": [
        "files.download('/content/trained_models.zip')"
      ],
      "metadata": {
        "colab": {
          "base_uri": "https://localhost:8080/",
          "height": 17
        },
        "id": "M1UOyLyEqCnC",
        "outputId": "379f95e0-a519-4871-9b43-10e638bea347"
      },
      "execution_count": 66,
      "outputs": [
        {
          "output_type": "display_data",
          "data": {
            "application/javascript": [
              "\n",
              "    async function download(id, filename, size) {\n",
              "      if (!google.colab.kernel.accessAllowed) {\n",
              "        return;\n",
              "      }\n",
              "      const div = document.createElement('div');\n",
              "      const label = document.createElement('label');\n",
              "      label.textContent = `Downloading \"${filename}\": `;\n",
              "      div.appendChild(label);\n",
              "      const progress = document.createElement('progress');\n",
              "      progress.max = size;\n",
              "      div.appendChild(progress);\n",
              "      document.body.appendChild(div);\n",
              "\n",
              "      const buffers = [];\n",
              "      let downloaded = 0;\n",
              "\n",
              "      const channel = await google.colab.kernel.comms.open(id);\n",
              "      // Send a message to notify the kernel that we're ready.\n",
              "      channel.send({})\n",
              "\n",
              "      for await (const message of channel.messages) {\n",
              "        // Send a message to notify the kernel that we're ready.\n",
              "        channel.send({})\n",
              "        if (message.buffers) {\n",
              "          for (const buffer of message.buffers) {\n",
              "            buffers.push(buffer);\n",
              "            downloaded += buffer.byteLength;\n",
              "            progress.value = downloaded;\n",
              "          }\n",
              "        }\n",
              "      }\n",
              "      const blob = new Blob(buffers, {type: 'application/binary'});\n",
              "      const a = document.createElement('a');\n",
              "      a.href = window.URL.createObjectURL(blob);\n",
              "      a.download = filename;\n",
              "      div.appendChild(a);\n",
              "      a.click();\n",
              "      div.remove();\n",
              "    }\n",
              "  "
            ],
            "text/plain": [
              "<IPython.core.display.Javascript object>"
            ]
          },
          "metadata": {}
        },
        {
          "output_type": "display_data",
          "data": {
            "application/javascript": [
              "download(\"download_82aaafd5-7502-4bfa-8826-ab1bd0898b28\", \"trained_models.zip\", 110355107)"
            ],
            "text/plain": [
              "<IPython.core.display.Javascript object>"
            ]
          },
          "metadata": {}
        }
      ]
    },
    {
      "cell_type": "markdown",
      "source": [
        "## Neural Network"
      ],
      "metadata": {
        "id": "s2sRJ8N5Wxjn"
      }
    },
    {
      "cell_type": "code",
      "source": [
        "import tensorflow\n",
        "import keras\n",
        "from keras.models import Sequential\n",
        "from keras.layers import Dense, Dropout\n",
        "from tensorflow.keras.optimizers import Adam, RMSprop\n",
        "from sklearn.metrics import classification_report\n",
        "\n",
        "print(tensorflow.__version__)"
      ],
      "metadata": {
        "colab": {
          "base_uri": "https://localhost:8080/"
        },
        "id": "Z-HJZFTbPnG-",
        "outputId": "5f6a865e-6b3e-4e01-befb-a43eff20dae9"
      },
      "execution_count": 79,
      "outputs": [
        {
          "output_type": "stream",
          "name": "stdout",
          "text": [
            "2.8.0\n"
          ]
        }
      ]
    },
    {
      "cell_type": "code",
      "source": [
        "X = np.asarray(X).astype('float32')"
      ],
      "metadata": {
        "id": "kXTb9bvUZ8vp"
      },
      "execution_count": 69,
      "outputs": []
    },
    {
      "cell_type": "code",
      "source": [
        "X_train, X_test, y_train, y_test = train_test_split(X, y, test_size=0.5, random_state=32)"
      ],
      "metadata": {
        "id": "zCPREGhVZPa2"
      },
      "execution_count": 70,
      "outputs": []
    },
    {
      "cell_type": "code",
      "source": [
        "print(f'X_train shape: {X_train.shape}')\n",
        "print(f'X_test shape: {X_test.shape}')\n",
        "print(f'y_train shape: {y_train.shape}')\n",
        "print(f'y_test shape: {y_test.shape}')"
      ],
      "metadata": {
        "colab": {
          "base_uri": "https://localhost:8080/"
        },
        "id": "Km_fs5IPZSfV",
        "outputId": "5d72bb67-2b8c-43c5-c1db-0331a9060b02"
      },
      "execution_count": 71,
      "outputs": [
        {
          "output_type": "stream",
          "name": "stdout",
          "text": [
            "X_train shape: (1458348, 8)\n",
            "X_test shape: (1458349, 8)\n",
            "y_train shape: (1458348,)\n",
            "y_test shape: (1458349,)\n"
          ]
        }
      ]
    },
    {
      "cell_type": "code",
      "source": [
        "X_train[0].shape"
      ],
      "metadata": {
        "colab": {
          "base_uri": "https://localhost:8080/"
        },
        "id": "_nWmGPkdZZTi",
        "outputId": "2d3d601f-c1aa-4828-c2f3-f2ea1689abc0"
      },
      "execution_count": 72,
      "outputs": [
        {
          "output_type": "execute_result",
          "data": {
            "text/plain": [
              "(8,)"
            ]
          },
          "metadata": {},
          "execution_count": 72
        }
      ]
    },
    {
      "cell_type": "code",
      "source": [
        "max(len(np.unique(y_train)), len(np.unique(y_test)))"
      ],
      "metadata": {
        "colab": {
          "base_uri": "https://localhost:8080/"
        },
        "id": "C0oHxVPDaK_4",
        "outputId": "340eac46-87be-4a48-f37e-3a8e4b4fd266"
      },
      "execution_count": 77,
      "outputs": [
        {
          "output_type": "execute_result",
          "data": {
            "text/plain": [
              "29"
            ]
          },
          "metadata": {},
          "execution_count": 77
        }
      ]
    },
    {
      "cell_type": "code",
      "source": [
        "model = Sequential()\n",
        "model.add(keras.Input(shape=(8,)))\n",
        "model.add(Dense(64, activation = \"relu\"))\n",
        "model.add(Dense(64, activation = \"relu\"))\n",
        "model.add(Dense(64, activation = \"relu\"))\n",
        "model.add(Dense(64, activation = \"relu\"))\n",
        "model.add(Dropout(0.2))\n",
        "model.add(Dense(29, activation = \"softmax\"))\n",
        "\n",
        "\n",
        "model.compile(RMSprop(), \"sparse_categorical_crossentropy\", metrics = [\"accuracy\"])\n",
        "model.summary()"
      ],
      "metadata": {
        "colab": {
          "base_uri": "https://localhost:8080/"
        },
        "id": "bpEai00AQNMn",
        "outputId": "255ba90c-889b-4011-8995-548e8fb6f812"
      },
      "execution_count": 101,
      "outputs": [
        {
          "output_type": "stream",
          "name": "stdout",
          "text": [
            "Model: \"sequential_7\"\n",
            "_________________________________________________________________\n",
            " Layer (type)                Output Shape              Param #   \n",
            "=================================================================\n",
            " dense_35 (Dense)            (None, 64)                576       \n",
            "                                                                 \n",
            " dense_36 (Dense)            (None, 64)                4160      \n",
            "                                                                 \n",
            " dense_37 (Dense)            (None, 64)                4160      \n",
            "                                                                 \n",
            " dense_38 (Dense)            (None, 64)                4160      \n",
            "                                                                 \n",
            " dropout_7 (Dropout)         (None, 64)                0         \n",
            "                                                                 \n",
            " dense_39 (Dense)            (None, 29)                1885      \n",
            "                                                                 \n",
            "=================================================================\n",
            "Total params: 14,941\n",
            "Trainable params: 14,941\n",
            "Non-trainable params: 0\n",
            "_________________________________________________________________\n"
          ]
        }
      ]
    },
    {
      "cell_type": "code",
      "source": [
        "BATCH_SIZE = 64\n",
        "EPOCH = 5"
      ],
      "metadata": {
        "id": "bXWNgDHSzQcZ"
      },
      "execution_count": 102,
      "outputs": []
    },
    {
      "cell_type": "code",
      "source": [
        "model.fit(\n",
        "    X_train, \n",
        "    y_train, \n",
        "    verbose=1,\n",
        "    batch_size=BATCH_SIZE, \n",
        "    epochs=EPOCH,\n",
        "    use_multiprocessing=True)"
      ],
      "metadata": {
        "colab": {
          "base_uri": "https://localhost:8080/"
        },
        "id": "dltpki3nY9D8",
        "outputId": "eb02cf18-1f0f-41ce-fc95-f0b41f7bd9ff"
      },
      "execution_count": 103,
      "outputs": [
        {
          "output_type": "stream",
          "name": "stdout",
          "text": [
            "Epoch 1/5\n",
            "22787/22787 [==============================] - 45s 2ms/step - loss: 67635.4062 - accuracy: 0.9778\n",
            "Epoch 2/5\n",
            "22787/22787 [==============================] - 48s 2ms/step - loss: 0.1004 - accuracy: 0.9859\n",
            "Epoch 3/5\n",
            "22787/22787 [==============================] - 44s 2ms/step - loss: 0.1008 - accuracy: 0.9859\n",
            "Epoch 4/5\n",
            "22787/22787 [==============================] - 61s 3ms/step - loss: 0.1009 - accuracy: 0.9859\n",
            "Epoch 5/5\n",
            "22787/22787 [==============================] - 54s 2ms/step - loss: 0.1010 - accuracy: 0.9859\n"
          ]
        },
        {
          "output_type": "execute_result",
          "data": {
            "text/plain": [
              "<keras.callbacks.History at 0x7f5a23746810>"
            ]
          },
          "metadata": {},
          "execution_count": 103
        }
      ]
    },
    {
      "cell_type": "code",
      "source": [
        "# this will return 29 probabilities for every input  \n",
        "y_pred_class = model.predict(X_test)"
      ],
      "metadata": {
        "id": "9fgQbeQMcSkR"
      },
      "execution_count": 106,
      "outputs": []
    },
    {
      "cell_type": "code",
      "source": [
        "np.unique(y)"
      ],
      "metadata": {
        "colab": {
          "base_uri": "https://localhost:8080/"
        },
        "id": "8JTFx2Lg0UOB",
        "outputId": "b276491c-310e-44b5-e8be-07eae052292a"
      },
      "execution_count": 104,
      "outputs": [
        {
          "output_type": "execute_result",
          "data": {
            "text/plain": [
              "array([ 0,  1,  2,  3,  4,  5,  6,  7,  8,  9, 10, 11, 12, 13, 14, 15, 16,\n",
              "       17, 18, 19, 20, 21, 22, 23, 24, 25, 26, 27, 28])"
            ]
          },
          "metadata": {},
          "execution_count": 104
        }
      ]
    },
    {
      "cell_type": "code",
      "source": [
        "type(y_pred_class)"
      ],
      "metadata": {
        "colab": {
          "base_uri": "https://localhost:8080/"
        },
        "id": "q4uAkx5b2P82",
        "outputId": "f98e7e01-8e04-461b-cb05-04a52d801081"
      },
      "execution_count": 109,
      "outputs": [
        {
          "output_type": "execute_result",
          "data": {
            "text/plain": [
              "numpy.ndarray"
            ]
          },
          "metadata": {},
          "execution_count": 109
        }
      ]
    },
    {
      "cell_type": "code",
      "source": [
        "# to get the output which have maximum probability\n",
        "y_pred = y_pred_class.argmax(axis=1)"
      ],
      "metadata": {
        "id": "hDh2xRbZ2h76"
      },
      "execution_count": 132,
      "outputs": []
    },
    {
      "cell_type": "code",
      "source": [
        "# lets check the shape\n",
        "y_pred.shape, y_test.shape"
      ],
      "metadata": {
        "colab": {
          "base_uri": "https://localhost:8080/"
        },
        "id": "Wt8XDj_bxwnE",
        "outputId": "c6c451e6-28c4-4aaa-8e68-f66a934f0765"
      },
      "execution_count": 133,
      "outputs": [
        {
          "output_type": "execute_result",
          "data": {
            "text/plain": [
              "((1458349,), (1458349,))"
            ]
          },
          "metadata": {},
          "execution_count": 133
        }
      ]
    },
    {
      "cell_type": "code",
      "source": [
        "# Mean squared error of the model\n",
        "mean_squared_error(y_pred, y_test)"
      ],
      "metadata": {
        "colab": {
          "base_uri": "https://localhost:8080/"
        },
        "id": "K-9_HVkL4_KM",
        "outputId": "78dd72c9-ac30-4109-e1a1-b3545b8ffbcb"
      },
      "execution_count": 147,
      "outputs": [
        {
          "output_type": "execute_result",
          "data": {
            "text/plain": [
              "2.6651795969277585"
            ]
          },
          "metadata": {},
          "execution_count": 147
        }
      ]
    },
    {
      "cell_type": "code",
      "source": [
        "# r2 score of the model\n",
        "r2_score(y_pred, y_test)"
      ],
      "metadata": {
        "colab": {
          "base_uri": "https://localhost:8080/"
        },
        "id": "cCYzVF_a5Nph",
        "outputId": "3617bb95-356f-433f-c31b-733edf00b8c8"
      },
      "execution_count": 148,
      "outputs": [
        {
          "output_type": "execute_result",
          "data": {
            "text/plain": [
              "0.0"
            ]
          },
          "metadata": {},
          "execution_count": 148
        }
      ]
    },
    {
      "cell_type": "code",
      "source": [
        "model.save('neural_network_model.h5')"
      ],
      "metadata": {
        "id": "OQTUUGF_7L58"
      },
      "execution_count": 149,
      "outputs": []
    },
    {
      "cell_type": "code",
      "source": [
        "files.download('/content/neural_network_model.h5')"
      ],
      "metadata": {
        "colab": {
          "base_uri": "https://localhost:8080/",
          "height": 17
        },
        "id": "laR92NbV7WII",
        "outputId": "aca35dd3-7e88-4f21-e372-2640efd1aa3d"
      },
      "execution_count": 150,
      "outputs": [
        {
          "output_type": "display_data",
          "data": {
            "application/javascript": [
              "\n",
              "    async function download(id, filename, size) {\n",
              "      if (!google.colab.kernel.accessAllowed) {\n",
              "        return;\n",
              "      }\n",
              "      const div = document.createElement('div');\n",
              "      const label = document.createElement('label');\n",
              "      label.textContent = `Downloading \"${filename}\": `;\n",
              "      div.appendChild(label);\n",
              "      const progress = document.createElement('progress');\n",
              "      progress.max = size;\n",
              "      div.appendChild(progress);\n",
              "      document.body.appendChild(div);\n",
              "\n",
              "      const buffers = [];\n",
              "      let downloaded = 0;\n",
              "\n",
              "      const channel = await google.colab.kernel.comms.open(id);\n",
              "      // Send a message to notify the kernel that we're ready.\n",
              "      channel.send({})\n",
              "\n",
              "      for await (const message of channel.messages) {\n",
              "        // Send a message to notify the kernel that we're ready.\n",
              "        channel.send({})\n",
              "        if (message.buffers) {\n",
              "          for (const buffer of message.buffers) {\n",
              "            buffers.push(buffer);\n",
              "            downloaded += buffer.byteLength;\n",
              "            progress.value = downloaded;\n",
              "          }\n",
              "        }\n",
              "      }\n",
              "      const blob = new Blob(buffers, {type: 'application/binary'});\n",
              "      const a = document.createElement('a');\n",
              "      a.href = window.URL.createObjectURL(blob);\n",
              "      a.download = filename;\n",
              "      div.appendChild(a);\n",
              "      a.click();\n",
              "      div.remove();\n",
              "    }\n",
              "  "
            ],
            "text/plain": [
              "<IPython.core.display.Javascript object>"
            ]
          },
          "metadata": {}
        },
        {
          "output_type": "display_data",
          "data": {
            "application/javascript": [
              "download(\"download_20a65997-4196-4e8d-89d6-04bdb476dc66\", \"neural_network_model.h5\", 169112)"
            ],
            "text/plain": [
              "<IPython.core.display.Javascript object>"
            ]
          },
          "metadata": {}
        }
      ]
    },
    {
      "cell_type": "markdown",
      "source": [
        "Unbalance Classes in dataset"
      ],
      "metadata": {
        "id": "ZFwmfbNF44t-"
      }
    },
    {
      "cell_type": "code",
      "source": [
        "import collections"
      ],
      "metadata": {
        "id": "DbKCva2c3Vhi"
      },
      "execution_count": 128,
      "outputs": []
    },
    {
      "cell_type": "code",
      "source": [
        "collections.Counter(y_train)"
      ],
      "metadata": {
        "colab": {
          "base_uri": "https://localhost:8080/"
        },
        "id": "jca8Wn3h3zk9",
        "outputId": "61688580-f91c-44d3-d7b4-db74591764ca"
      },
      "execution_count": 145,
      "outputs": [
        {
          "output_type": "execute_result",
          "data": {
            "text/plain": [
              "Counter({0: 6,\n",
              "         2: 2,\n",
              "         3: 1225,\n",
              "         4: 4584,\n",
              "         5: 21,\n",
              "         6: 128,\n",
              "         7: 164,\n",
              "         8: 2,\n",
              "         9: 3,\n",
              "         10: 17,\n",
              "         11: 31,\n",
              "         12: 23,\n",
              "         13: 3,\n",
              "         14: 261,\n",
              "         15: 5,\n",
              "         17: 34,\n",
              "         18: 4,\n",
              "         19: 15,\n",
              "         21: 3,\n",
              "         22: 1,\n",
              "         23: 6181,\n",
              "         25: 5,\n",
              "         26: 4583,\n",
              "         27: 3232,\n",
              "         28: 1437815})"
            ]
          },
          "metadata": {},
          "execution_count": 145
        }
      ]
    },
    {
      "cell_type": "code",
      "source": [
        "collections.Counter(y_test)"
      ],
      "metadata": {
        "colab": {
          "base_uri": "https://localhost:8080/"
        },
        "id": "HjThztLo0yJC",
        "outputId": "3ff05137-cb44-4bc9-914b-1f1dd2da04f6"
      },
      "execution_count": 129,
      "outputs": [
        {
          "output_type": "execute_result",
          "data": {
            "text/plain": [
              "Counter({0: 5,\n",
              "         1: 1,\n",
              "         2: 5,\n",
              "         3: 1194,\n",
              "         4: 4731,\n",
              "         5: 34,\n",
              "         6: 123,\n",
              "         7: 190,\n",
              "         8: 4,\n",
              "         9: 6,\n",
              "         10: 15,\n",
              "         11: 24,\n",
              "         12: 11,\n",
              "         13: 1,\n",
              "         14: 222,\n",
              "         15: 8,\n",
              "         16: 1,\n",
              "         17: 28,\n",
              "         18: 3,\n",
              "         19: 13,\n",
              "         20: 1,\n",
              "         21: 4,\n",
              "         22: 7,\n",
              "         23: 6209,\n",
              "         24: 2,\n",
              "         25: 5,\n",
              "         26: 4640,\n",
              "         27: 3393,\n",
              "         28: 1437469})"
            ]
          },
          "metadata": {},
          "execution_count": 129
        }
      ]
    },
    {
      "cell_type": "code",
      "source": [
        "collections.Counter(y_pred)"
      ],
      "metadata": {
        "colab": {
          "base_uri": "https://localhost:8080/"
        },
        "id": "wiYCMUtG3sA3",
        "outputId": "6f14d4ba-962e-467a-c1f1-29a061a48f60"
      },
      "execution_count": 134,
      "outputs": [
        {
          "output_type": "execute_result",
          "data": {
            "text/plain": [
              "Counter({28: 1458349})"
            ]
          },
          "metadata": {},
          "execution_count": 134
        }
      ]
    },
    {
      "cell_type": "markdown",
      "source": [
        "Yoshi Bansal\n",
        "\n",
        "E19CSE332\n",
        "\n",
        "bansalyoshi@gmail.com"
      ],
      "metadata": {
        "id": "qKHxU8LXeFjN"
      }
    },
    {
      "cell_type": "markdown",
      "source": [
        "END NOTE and Conclusion\n",
        "\n",
        "Since y=28 is in majority; data is unblanced and hence model is BIASED due to this.. We can solve this problem either by:\n",
        "\n",
        "    collecting more data for other classes or \n",
        "    by assiging weights to the data.\n",
        "\n",
        "**Although all models trained above show high accuracy (both train and test) they are not good for using in real world.**"
      ],
      "metadata": {
        "id": "fJp82USY52Ps"
      }
    },
    {
      "cell_type": "markdown",
      "source": [
        "END"
      ],
      "metadata": {
        "id": "LviTD_-H7DC8"
      }
    }
  ]
}